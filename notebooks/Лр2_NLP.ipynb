{
  "cells": [
    {
      "cell_type": "code",
      "execution_count": 8,
      "metadata": {},
      "outputs": [],
      "source": [
        "import torch.nn as nn\n",
        "import torch\n",
        "import pandas as pd\n",
        "import numpy as np\n",
        "from sklearn.model_selection import train_test_split\n",
        "import sys\n",
        "from torch.utils.data import TensorDataset, DataLoader\n",
        "import re\n",
        "from pymorphy3 import MorphAnalyzer\n",
        "from nltk.corpus import stopwords\n",
        "from razdel import tokenize\n",
        "from navec import Navec"
      ]
    },
    {
      "cell_type": "code",
      "execution_count": 9,
      "metadata": {},
      "outputs": [
        {
          "name": "stdout",
          "output_type": "stream",
          "text": [
            "cuda:0\n"
          ]
        }
      ],
      "source": [
        "device = torch.device ( \"cuda:0\" if torch.cuda.is_available() else \"cpu\" )\n",
        "print ( device )"
      ]
    },
    {
      "cell_type": "code",
      "execution_count": 10,
      "metadata": {
        "colab": {
          "base_uri": "https://localhost:8080/",
          "height": 424
        },
        "id": "HplNyq17OG_X",
        "outputId": "655f84cf-5af8-42b4-e383-085f2901eeb0"
      },
      "outputs": [
        {
          "data": {
            "text/html": [
              "<div>\n",
              "<style scoped>\n",
              "    .dataframe tbody tr th:only-of-type {\n",
              "        vertical-align: middle;\n",
              "    }\n",
              "\n",
              "    .dataframe tbody tr th {\n",
              "        vertical-align: top;\n",
              "    }\n",
              "\n",
              "    .dataframe thead th {\n",
              "        text-align: right;\n",
              "    }\n",
              "</style>\n",
              "<table border=\"1\" class=\"dataframe\">\n",
              "  <thead>\n",
              "    <tr style=\"text-align: right;\">\n",
              "      <th></th>\n",
              "      <th>id</th>\n",
              "      <th>public_petition_text</th>\n",
              "      <th>reason_category</th>\n",
              "    </tr>\n",
              "  </thead>\n",
              "  <tbody>\n",
              "    <tr>\n",
              "      <th>10014</th>\n",
              "      <td>3041543</td>\n",
              "      <td>На протяжении нескольких дней из крана идет гр...</td>\n",
              "      <td>Водоснабжение</td>\n",
              "    </tr>\n",
              "    <tr>\n",
              "      <th>29860</th>\n",
              "      <td>3296230</td>\n",
              "      <td>граффити на стенде детской площадки</td>\n",
              "      <td>Благоустройство</td>\n",
              "    </tr>\n",
              "    <tr>\n",
              "      <th>47582</th>\n",
              "      <td>3322077</td>\n",
              "      <td>По адресу пер. Джамбула д. 12 на фасаде МКД на...</td>\n",
              "      <td>Нарушение правил пользования общим имуществом</td>\n",
              "    </tr>\n",
              "    <tr>\n",
              "      <th>27828</th>\n",
              "      <td>3080599</td>\n",
              "      <td>Бумажные объявления на ТСОДД</td>\n",
              "      <td>Благоустройство</td>\n",
              "    </tr>\n",
              "    <tr>\n",
              "      <th>10170</th>\n",
              "      <td>3301487</td>\n",
              "      <td>ямы на дороге</td>\n",
              "      <td>Благоустройство</td>\n",
              "    </tr>\n",
              "    <tr>\n",
              "      <th>...</th>\n",
              "      <td>...</td>\n",
              "      <td>...</td>\n",
              "      <td>...</td>\n",
              "    </tr>\n",
              "    <tr>\n",
              "      <th>36775</th>\n",
              "      <td>3041604</td>\n",
              "      <td>Незаконная торговля не пресечена</td>\n",
              "      <td>Незаконная реализация товаров с торгового обор...</td>\n",
              "    </tr>\n",
              "    <tr>\n",
              "      <th>39271</th>\n",
              "      <td>2994297</td>\n",
              "      <td>Надписи на будке.</td>\n",
              "      <td>Благоустройство</td>\n",
              "    </tr>\n",
              "    <tr>\n",
              "      <th>44990</th>\n",
              "      <td>3236936</td>\n",
              "      <td>Снег, лед. Необходимо убрать</td>\n",
              "      <td>Благоустройство</td>\n",
              "    </tr>\n",
              "    <tr>\n",
              "      <th>59226</th>\n",
              "      <td>3245246</td>\n",
              "      <td>Влажное подметание лестничных площадок и марше...</td>\n",
              "      <td>Содержание МКД</td>\n",
              "    </tr>\n",
              "    <tr>\n",
              "      <th>25841</th>\n",
              "      <td>3181446</td>\n",
              "      <td>Затоплен подвал грязевой жижей, воняет. Парадн...</td>\n",
              "      <td>Водоснабжение</td>\n",
              "    </tr>\n",
              "  </tbody>\n",
              "</table>\n",
              "<p>10000 rows × 3 columns</p>\n",
              "</div>"
            ],
            "text/plain": [
              "            id                               public_petition_text   \n",
              "10014  3041543  На протяжении нескольких дней из крана идет гр...  \\\n",
              "29860  3296230                граффити на стенде детской площадки   \n",
              "47582  3322077  По адресу пер. Джамбула д. 12 на фасаде МКД на...   \n",
              "27828  3080599                       Бумажные объявления на ТСОДД   \n",
              "10170  3301487                                      ямы на дороге   \n",
              "...        ...                                                ...   \n",
              "36775  3041604                   Незаконная торговля не пресечена   \n",
              "39271  2994297                                  Надписи на будке.   \n",
              "44990  3236936                       Снег, лед. Необходимо убрать   \n",
              "59226  3245246  Влажное подметание лестничных площадок и марше...   \n",
              "25841  3181446  Затоплен подвал грязевой жижей, воняет. Парадн...   \n",
              "\n",
              "                                         reason_category  \n",
              "10014                                      Водоснабжение  \n",
              "29860                                    Благоустройство  \n",
              "47582      Нарушение правил пользования общим имуществом  \n",
              "27828                                    Благоустройство  \n",
              "10170                                    Благоустройство  \n",
              "...                                                  ...  \n",
              "36775  Незаконная реализация товаров с торгового обор...  \n",
              "39271                                    Благоустройство  \n",
              "44990                                    Благоустройство  \n",
              "59226                                     Содержание МКД  \n",
              "25841                                      Водоснабжение  \n",
              "\n",
              "[10000 rows x 3 columns]"
            ]
          },
          "execution_count": 10,
          "metadata": {},
          "output_type": "execute_result"
        }
      ],
      "source": [
        "df = pd.read_csv(\"../datasets/Petitions.csv\")\n",
        "corpus = df.sample(10000, replace=None, random_state=0)\n",
        "corpus"
      ]
    },
    {
      "cell_type": "code",
      "execution_count": 11,
      "metadata": {
        "colab": {
          "base_uri": "https://localhost:8080/"
        },
        "id": "Ham_sq84OOyI",
        "outputId": "5acf6d1a-d2d2-424b-9b4c-d86f31f3b074"
      },
      "outputs": [],
      "source": [
        "corpus_text = corpus[\"public_petition_text\"]\n",
        "corpus_text_category = corpus[\"reason_category\"]"
      ]
    },
    {
      "cell_type": "code",
      "execution_count": 103,
      "metadata": {
        "id": "kXOB8qkfPOD3"
      },
      "outputs": [
        {
          "name": "stdout",
          "output_type": "stream",
          "text": [
            "10014    На протяжении нескольких дней из крана идет гр...\n",
            "29860                  граффити на стенде детской площадки\n",
            "47582    По адресу пер. Джамбула д. 12 на фасаде МКД на...\n",
            "27828                         Бумажные объявления на ТСОДД\n",
            "10170                                        ямы на дороге\n",
            "                               ...                        \n",
            "36775                     Незаконная торговля не пресечена\n",
            "39271                                    Надписи на будке.\n",
            "44990                         Снег, лед. Необходимо убрать\n",
            "59226    Влажное подметание лестничных площадок и марше...\n",
            "25841    Затоплен подвал грязевой жижей, воняет. Парадн...\n",
            "Name: public_petition_text, Length: 10000, dtype: object\n",
            "<class 'pandas.core.series.Series'>\n"
          ]
        }
      ],
      "source": [
        "print(corpus_text)\n",
        "print(type(corpus_text))"
      ]
    },
    {
      "cell_type": "code",
      "execution_count": 35,
      "metadata": {},
      "outputs": [],
      "source": [
        "from sklearn.preprocessing import LabelEncoder"
      ]
    },
    {
      "cell_type": "code",
      "execution_count": 36,
      "metadata": {},
      "outputs": [
        {
          "data": {
            "text/plain": [
              "{0: 'Благоустройство',\n",
              " 1: 'Водоотведение',\n",
              " 2: 'Водоснабжение',\n",
              " 3: 'Кровля',\n",
              " 4: 'Нарушение порядка пользования общим имуществом',\n",
              " 5: 'Нарушение правил пользования общим имуществом',\n",
              " 6: 'Незаконная информационная и (или) рекламная конструкция',\n",
              " 7: 'Незаконная реализация товаров с торгового оборудования (прилавок, ящик, с земли)',\n",
              " 8: 'Повреждения или неисправность элементов уличной инфраструктуры',\n",
              " 9: 'Подвалы',\n",
              " 10: 'Санитарное состояние',\n",
              " 11: 'Содержание МКД',\n",
              " 12: 'Состояние рекламных или информационных конструкций',\n",
              " 13: 'Фасад',\n",
              " 14: 'Центральное отопление'}"
            ]
          },
          "execution_count": 36,
          "metadata": {},
          "output_type": "execute_result"
        }
      ],
      "source": [
        "le = LabelEncoder()\n",
        "corpus_text_category_encoded = le.fit_transform(corpus_text_category)\n",
        "dict(zip(range(0, len(set(corpus_text_category_encoded))),le.inverse_transform(list(set(corpus_text_category_encoded)))))"
      ]
    },
    {
      "cell_type": "code",
      "execution_count": 104,
      "metadata": {},
      "outputs": [],
      "source": [
        "corpus_encoded = []\n",
        "for i in range(len(corpus_text)):\n",
        "    corpus_encoded.append((corpus_text.iloc[i], corpus_text_category_encoded[i]))"
      ]
    },
    {
      "cell_type": "code",
      "execution_count": 16,
      "metadata": {},
      "outputs": [],
      "source": [
        "navec = Navec.load('../models/navec_hudlit_v1_12B_500K_300d_100q.tar')"
      ]
    },
    {
      "cell_type": "code",
      "execution_count": 110,
      "metadata": {
        "id": "Nqkfy_egmVRW"
      },
      "outputs": [],
      "source": [
        "from nltk.corpus import stopwords\n",
        "def prepare_data(corpus):\n",
        "    morph = MorphAnalyzer()\n",
        "    from nltk.corpus import stopwords\n",
        "    stopwords = stopwords.words('russian')\n",
        "    prepared_data = []\n",
        "    for petition, label in corpus:   \n",
        "        data = petition.lower()\n",
        "        data1 = re.sub('[\\\\r|\\\\n]+', ' ', data)\n",
        "        data2 = re.sub('[a-zA-Z]+', '', data1)\n",
        "        data3 = re.sub('[0-9]+', '', data2)\n",
        "        data4 = re.sub('[^\\s^\\w]+', '', data3)\n",
        "        data5 = list(tokenize(data4))\n",
        "        data6 = map(lambda x: x.text , data5)\n",
        "        data7 = map(lambda x: morph.normal_forms(x)[0], data6)\n",
        "        data8 = [w for w in data7 if w not in stopwords]\n",
        "        data9 = [navec[x].tolist() for x in data8 if x in navec]\n",
        "        if(len(data9)):\n",
        "            prepared_data.append((torch.tensor(data9).type(torch.float32), label))\n",
        "    return prepared_data"
      ]
    },
    {
      "cell_type": "code",
      "execution_count": 112,
      "metadata": {
        "id": "YtvoLM4_q5pW"
      },
      "outputs": [],
      "source": [
        "corpus_text_prep = prepare_data(corpus_encoded)"
      ]
    },
    {
      "cell_type": "code",
      "execution_count": 216,
      "metadata": {},
      "outputs": [],
      "source": [
        "from torch.nn.utils.rnn import pad_sequence\n",
        "corpus_text_padded = pad_sequence([tupl[0] for tupl in corpus_text_prep], True)"
      ]
    },
    {
      "cell_type": "code",
      "execution_count": 217,
      "metadata": {},
      "outputs": [
        {
          "data": {
            "text/plain": [
              "torch.Size([9964, 171, 300])"
            ]
          },
          "execution_count": 217,
          "metadata": {},
          "output_type": "execute_result"
        }
      ],
      "source": [
        "corpus_text_padded.shape"
      ]
    },
    {
      "cell_type": "code",
      "execution_count": 218,
      "metadata": {},
      "outputs": [],
      "source": [
        "X_train, X_test, y_train, y_test = train_test_split(corpus_text_padded, [tupl[1] for tupl in corpus_text_prep], test_size=0.01)\n"
      ]
    },
    {
      "cell_type": "code",
      "execution_count": 239,
      "metadata": {},
      "outputs": [],
      "source": [
        "ds = TensorDataset(X_train, torch.tensor(y_train).type(torch.int64))\n",
        "dl = DataLoader(ds, batch_size=32, shuffle=True)"
      ]
    },
    {
      "cell_type": "code",
      "execution_count": 267,
      "metadata": {},
      "outputs": [],
      "source": [
        "class Rnn(nn.Module):\n",
        "    def __init__(self):\n",
        "        super(Rnn, self).__init__()\n",
        "        self.rnn = nn.RNN(300, 128)\n",
        "        self.first_linear = nn.Linear(128, 64)\n",
        "        self.first_activ = nn.Tanh()\n",
        "        self.second_linear = nn.Linear(64, 15)\n",
        "    def forward(self, x):\n",
        "        y = self.rnn(x)[0]\n",
        "        #y = self.first_linear(torch.index_select(y, 1, torch.tensor(y.shape[1]-1).to(device) ))\n",
        "        y = self.first_linear(y.mean(dim=1))\n",
        "        y = self.first_activ(y)\n",
        "        y = self.second_linear(y)\n",
        "        return y"
      ]
    },
    {
      "cell_type": "code",
      "execution_count": 268,
      "metadata": {},
      "outputs": [],
      "source": [
        "loss = nn.CrossEntropyLoss()\n",
        "model = Rnn()\n",
        "model.to(device)\n",
        "optimizer = torch.optim.Adam(model.parameters(), lr=0.0025)"
      ]
    },
    {
      "cell_type": "code",
      "execution_count": 269,
      "metadata": {},
      "outputs": [
        {
          "name": "stderr",
          "output_type": "stream",
          "text": [
            "Батч 22/309, Значение функции потерь: 1.44014847278594972\r"
          ]
        },
        {
          "name": "stdout",
          "output_type": "stream",
          "text": [
            "Эпоха 1, Значение функции потерь: 0.579595685005188\n"
          ]
        },
        {
          "name": "stderr",
          "output_type": "stream",
          "text": [
            "Батч 12/309, Значение функции потерь: 0.88627302646636962\r"
          ]
        },
        {
          "name": "stdout",
          "output_type": "stream",
          "text": [
            "Эпоха 2, Значение функции потерь: 1.7482246160507202\n"
          ]
        },
        {
          "name": "stderr",
          "output_type": "stream",
          "text": [
            "Батч 16/309, Значение функции потерь: 0.87901115417480471\r"
          ]
        },
        {
          "name": "stdout",
          "output_type": "stream",
          "text": [
            "Эпоха 3, Значение функции потерь: 0.9861229658126831\n"
          ]
        },
        {
          "name": "stderr",
          "output_type": "stream",
          "text": [
            "Батч 23/309, Значение функции потерь: 1.001679420471191473\r"
          ]
        },
        {
          "name": "stdout",
          "output_type": "stream",
          "text": [
            "Эпоха 4, Значение функции потерь: 1.0973880290985107\n"
          ]
        },
        {
          "name": "stderr",
          "output_type": "stream",
          "text": [
            "Батч 24/309, Значение функции потерь: 1.481114864349365265\r"
          ]
        },
        {
          "name": "stdout",
          "output_type": "stream",
          "text": [
            "Эпоха 5, Значение функции потерь: 0.780437171459198\n"
          ]
        },
        {
          "name": "stderr",
          "output_type": "stream",
          "text": [
            "Батч 5/309, Значение функции потерь: 0.9984722137451172766\r"
          ]
        },
        {
          "name": "stdout",
          "output_type": "stream",
          "text": [
            "Эпоха 6, Значение функции потерь: 1.572412371635437\n"
          ]
        },
        {
          "name": "stderr",
          "output_type": "stream",
          "text": [
            "Батч 18/309, Значение функции потерь: 0.910977482795715384\r"
          ]
        },
        {
          "name": "stdout",
          "output_type": "stream",
          "text": [
            "Эпоха 7, Значение функции потерь: 0.9320122003555298\n"
          ]
        },
        {
          "name": "stderr",
          "output_type": "stream",
          "text": [
            "Батч 22/309, Значение функции потерь: 0.970098137855529815\r"
          ]
        },
        {
          "name": "stdout",
          "output_type": "stream",
          "text": [
            "Эпоха 8, Значение функции потерь: 0.8534776568412781\n"
          ]
        },
        {
          "name": "stderr",
          "output_type": "stream",
          "text": [
            "Батч 8/309, Значение функции потерь: 0.3307991921901703074\r"
          ]
        },
        {
          "name": "stdout",
          "output_type": "stream",
          "text": [
            "Эпоха 9, Значение функции потерь: 0.8291677236557007\n"
          ]
        },
        {
          "name": "stderr",
          "output_type": "stream",
          "text": [
            "Батч 296/309, Значение функции потерь: 0.7494983673095703\r"
          ]
        },
        {
          "name": "stdout",
          "output_type": "stream",
          "text": [
            "Эпоха 10, Значение функции потерь: 1.2620368003845215\n"
          ]
        },
        {
          "name": "stderr",
          "output_type": "stream",
          "text": [
            "Батч 310/309, Значение функции потерь: 1.2620368003845215\r"
          ]
        }
      ],
      "source": [
        "epochs = 10\n",
        "for epoch in range(epochs):\n",
        "    batch = 0\n",
        "    for x_b, y_b in dl:\n",
        "        x_b = x_b.to(device)\n",
        "        y_b = y_b.to(device)\n",
        "        optimizer.zero_grad()\n",
        "        batch+=1\n",
        "        outputs = model(x_b)\n",
        "        #outputs= outputs.view(x_b.shape[0],15)\n",
        "        loss_value = loss(outputs, y_b)\n",
        "        loss_value.backward()\n",
        "        \n",
        "        optimizer.step()\n",
        "        \n",
        "        sys.stderr.write(f'Батч {batch + 1}/{len(dl)}, Значение функции потерь: {loss_value.item()}\\r')\n",
        "\n",
        "    print(f'Эпоха {epoch + 1}, Значение функции потерь: {loss_value.item()}')"
      ]
    },
    {
      "cell_type": "code",
      "execution_count": 270,
      "metadata": {},
      "outputs": [],
      "source": [
        "answ = model.forward(X_test.to(device))"
      ]
    },
    {
      "cell_type": "code",
      "execution_count": 271,
      "metadata": {},
      "outputs": [
        {
          "data": {
            "text/plain": [
              "torch.Size([100, 15])"
            ]
          },
          "execution_count": 271,
          "metadata": {},
          "output_type": "execute_result"
        }
      ],
      "source": [
        "answ.shape"
      ]
    },
    {
      "cell_type": "code",
      "execution_count": 272,
      "metadata": {},
      "outputs": [],
      "source": [
        "answ_encoded = []\n",
        "for i in answ:\n",
        "    answ_encoded.append(torch.argmax(i).to(\"cpu\").item())"
      ]
    },
    {
      "cell_type": "code",
      "execution_count": 273,
      "metadata": {},
      "outputs": [
        {
          "name": "stdout",
          "output_type": "stream",
          "text": [
            "              precision    recall  f1-score   support\n",
            "\n",
            "           0       0.90      0.94      0.92        48\n",
            "           2       0.00      0.00      0.00         1\n",
            "           3       0.00      0.00      0.00         2\n",
            "           4       0.00      0.00      0.00         1\n",
            "           5       0.00      0.00      0.00         3\n",
            "           6       0.00      0.00      0.00         6\n",
            "           7       0.00      0.00      0.00         2\n",
            "           8       0.00      0.00      0.00         2\n",
            "          11       0.64      0.97      0.77        33\n",
            "          13       0.00      0.00      0.00         2\n",
            "\n",
            "    accuracy                           0.77       100\n",
            "   macro avg       0.15      0.19      0.17       100\n",
            "weighted avg       0.64      0.77      0.70       100\n",
            "\n"
          ]
        },
        {
          "name": "stderr",
          "output_type": "stream",
          "text": [
            "c:\\Users\\XE\\AppData\\Local\\Programs\\Python\\Python311\\Lib\\site-packages\\sklearn\\metrics\\_classification.py:1344: UndefinedMetricWarning: Precision and F-score are ill-defined and being set to 0.0 in labels with no predicted samples. Use `zero_division` parameter to control this behavior.\n",
            "  _warn_prf(average, modifier, msg_start, len(result))\n",
            "c:\\Users\\XE\\AppData\\Local\\Programs\\Python\\Python311\\Lib\\site-packages\\sklearn\\metrics\\_classification.py:1344: UndefinedMetricWarning: Precision and F-score are ill-defined and being set to 0.0 in labels with no predicted samples. Use `zero_division` parameter to control this behavior.\n",
            "  _warn_prf(average, modifier, msg_start, len(result))\n",
            "c:\\Users\\XE\\AppData\\Local\\Programs\\Python\\Python311\\Lib\\site-packages\\sklearn\\metrics\\_classification.py:1344: UndefinedMetricWarning: Precision and F-score are ill-defined and being set to 0.0 in labels with no predicted samples. Use `zero_division` parameter to control this behavior.\n",
            "  _warn_prf(average, modifier, msg_start, len(result))\n"
          ]
        }
      ],
      "source": [
        "from sklearn.metrics import classification_report\n",
        "print(classification_report(y_test, answ_encoded))"
      ]
    },
    {
      "cell_type": "code",
      "execution_count": 33,
      "metadata": {},
      "outputs": [],
      "source": [
        "model.to(\"cpu\")\n",
        "cbow_mt = []\n",
        "for i in vocab:\n",
        "    cbow_mt.append(model.first_linear(model.embedder(torch.tensor(metadata[i]))).detach().numpy())"
      ]
    },
    {
      "cell_type": "code",
      "execution_count": 36,
      "metadata": {},
      "outputs": [],
      "source": [
        "cbow_mt1 = pd.DataFrame(cbow_mt)"
      ]
    },
    {
      "cell_type": "code",
      "execution_count": 37,
      "metadata": {},
      "outputs": [],
      "source": [
        "with open('cbow_mt.tsv','w', encoding=\"utf-8\") as write_tsv:\n",
        "    write_tsv.write(cbow_mt1.to_csv(sep='\\t', index=False))"
      ]
    }
  ],
  "metadata": {
    "colab": {
      "provenance": []
    },
    "kernelspec": {
      "display_name": "Python 3",
      "name": "python3"
    },
    "language_info": {
      "codemirror_mode": {
        "name": "ipython",
        "version": 3
      },
      "file_extension": ".py",
      "mimetype": "text/x-python",
      "name": "python",
      "nbconvert_exporter": "python",
      "pygments_lexer": "ipython3",
      "version": "3.11.3"
    }
  },
  "nbformat": 4,
  "nbformat_minor": 0
}
