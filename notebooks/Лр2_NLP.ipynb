{
  "cells": [
    {
      "cell_type": "code",
      "execution_count": 2,
      "metadata": {},
      "outputs": [],
      "source": [
        "import torch.nn as nn\n",
        "import torch\n",
        "import pandas as pd\n",
        "import numpy as np\n",
        "from sklearn.model_selection import train_test_split\n",
        "import sys\n",
        "from torch.utils.data import TensorDataset, DataLoader\n",
        "import re\n",
        "from pymorphy3 import MorphAnalyzer\n",
        "from nltk.corpus import stopwords\n",
        "from razdel import tokenize\n",
        "from navec import Navec"
      ]
    },
    {
      "cell_type": "code",
      "execution_count": 3,
      "metadata": {},
      "outputs": [
        {
          "name": "stdout",
          "output_type": "stream",
          "text": [
            "cuda:0\n"
          ]
        }
      ],
      "source": [
        "device = torch.device ( \"cuda:0\" if torch.cuda.is_available() else \"cpu\" )\n",
        "print ( device )"
      ]
    },
    {
      "cell_type": "code",
      "execution_count": 4,
      "metadata": {
        "colab": {
          "base_uri": "https://localhost:8080/",
          "height": 424
        },
        "id": "HplNyq17OG_X",
        "outputId": "655f84cf-5af8-42b4-e383-085f2901eeb0"
      },
      "outputs": [
        {
          "data": {
            "text/html": [
              "<div>\n",
              "<style scoped>\n",
              "    .dataframe tbody tr th:only-of-type {\n",
              "        vertical-align: middle;\n",
              "    }\n",
              "\n",
              "    .dataframe tbody tr th {\n",
              "        vertical-align: top;\n",
              "    }\n",
              "\n",
              "    .dataframe thead th {\n",
              "        text-align: right;\n",
              "    }\n",
              "</style>\n",
              "<table border=\"1\" class=\"dataframe\">\n",
              "  <thead>\n",
              "    <tr style=\"text-align: right;\">\n",
              "      <th></th>\n",
              "      <th>id</th>\n",
              "      <th>public_petition_text</th>\n",
              "      <th>reason_category</th>\n",
              "    </tr>\n",
              "  </thead>\n",
              "  <tbody>\n",
              "    <tr>\n",
              "      <th>1638</th>\n",
              "      <td>3315301</td>\n",
              "      <td>На газоне разбросан различный мусор. \\nПросьба...</td>\n",
              "      <td>Благоустройство</td>\n",
              "    </tr>\n",
              "    <tr>\n",
              "      <th>53659</th>\n",
              "      <td>3372310</td>\n",
              "      <td>Конструкции, препятствующие парковке</td>\n",
              "      <td>Благоустройство</td>\n",
              "    </tr>\n",
              "    <tr>\n",
              "      <th>25910</th>\n",
              "      <td>3294518</td>\n",
              "      <td>Лестницу убирают раз в три месяца и просто выл...</td>\n",
              "      <td>Содержание МКД</td>\n",
              "    </tr>\n",
              "    <tr>\n",
              "      <th>52453</th>\n",
              "      <td>3158213</td>\n",
              "      <td>мусор с задней стороны дома</td>\n",
              "      <td>Благоустройство</td>\n",
              "    </tr>\n",
              "    <tr>\n",
              "      <th>12590</th>\n",
              "      <td>3356661</td>\n",
              "      <td>Снова не работает уличный фонарь у входной две...</td>\n",
              "      <td>Содержание МКД</td>\n",
              "    </tr>\n",
              "    <tr>\n",
              "      <th>...</th>\n",
              "      <td>...</td>\n",
              "      <td>...</td>\n",
              "      <td>...</td>\n",
              "    </tr>\n",
              "    <tr>\n",
              "      <th>33494</th>\n",
              "      <td>3270830</td>\n",
              "      <td>Мусор на внутридомовой территории\\r\\nБутылки, ...</td>\n",
              "      <td>Благоустройство</td>\n",
              "    </tr>\n",
              "    <tr>\n",
              "      <th>38310</th>\n",
              "      <td>3044011</td>\n",
              "      <td>Не работает фонарь на Красносельской около пер...</td>\n",
              "      <td>Благоустройство</td>\n",
              "    </tr>\n",
              "    <tr>\n",
              "      <th>57588</th>\n",
              "      <td>3133497</td>\n",
              "      <td>Необходимо очистить дорожный знак от объявлений</td>\n",
              "      <td>Благоустройство</td>\n",
              "    </tr>\n",
              "    <tr>\n",
              "      <th>51045</th>\n",
              "      <td>3080984</td>\n",
              "      <td>Приведите пожалуйста информационный стенд в по...</td>\n",
              "      <td>Содержание МКД</td>\n",
              "    </tr>\n",
              "    <tr>\n",
              "      <th>44526</th>\n",
              "      <td>3025492</td>\n",
              "      <td>не законное использование общедомового имущест...</td>\n",
              "      <td>Нарушение правил пользования общим имуществом</td>\n",
              "    </tr>\n",
              "  </tbody>\n",
              "</table>\n",
              "<p>30000 rows × 3 columns</p>\n",
              "</div>"
            ],
            "text/plain": [
              "            id                               public_petition_text   \n",
              "1638   3315301  На газоне разбросан различный мусор. \\nПросьба...  \\\n",
              "53659  3372310               Конструкции, препятствующие парковке   \n",
              "25910  3294518  Лестницу убирают раз в три месяца и просто выл...   \n",
              "52453  3158213                        мусор с задней стороны дома   \n",
              "12590  3356661  Снова не работает уличный фонарь у входной две...   \n",
              "...        ...                                                ...   \n",
              "33494  3270830  Мусор на внутридомовой территории\\r\\nБутылки, ...   \n",
              "38310  3044011  Не работает фонарь на Красносельской около пер...   \n",
              "57588  3133497    Необходимо очистить дорожный знак от объявлений   \n",
              "51045  3080984  Приведите пожалуйста информационный стенд в по...   \n",
              "44526  3025492  не законное использование общедомового имущест...   \n",
              "\n",
              "                                     reason_category  \n",
              "1638                                 Благоустройство  \n",
              "53659                                Благоустройство  \n",
              "25910                                 Содержание МКД  \n",
              "52453                                Благоустройство  \n",
              "12590                                 Содержание МКД  \n",
              "...                                              ...  \n",
              "33494                                Благоустройство  \n",
              "38310                                Благоустройство  \n",
              "57588                                Благоустройство  \n",
              "51045                                 Содержание МКД  \n",
              "44526  Нарушение правил пользования общим имуществом  \n",
              "\n",
              "[30000 rows x 3 columns]"
            ]
          },
          "execution_count": 4,
          "metadata": {},
          "output_type": "execute_result"
        }
      ],
      "source": [
        "df = pd.read_csv(\"../datasets/Petitions.csv\")\n",
        "corpus = df.sample(30000, random_state=42)\n",
        "corpus"
      ]
    },
    {
      "cell_type": "code",
      "execution_count": 5,
      "metadata": {
        "colab": {
          "base_uri": "https://localhost:8080/"
        },
        "id": "Ham_sq84OOyI",
        "outputId": "5acf6d1a-d2d2-424b-9b4c-d86f31f3b074"
      },
      "outputs": [],
      "source": [
        "corpus_text = corpus[\"public_petition_text\"]\n",
        "corpus_text_category = corpus[\"reason_category\"]"
      ]
    },
    {
      "cell_type": "code",
      "execution_count": 6,
      "metadata": {
        "id": "kXOB8qkfPOD3"
      },
      "outputs": [
        {
          "name": "stdout",
          "output_type": "stream",
          "text": [
            "1638     На газоне разбросан различный мусор. \\nПросьба...\n",
            "53659                 Конструкции, препятствующие парковке\n",
            "25910    Лестницу убирают раз в три месяца и просто выл...\n",
            "52453                          мусор с задней стороны дома\n",
            "12590    Снова не работает уличный фонарь у входной две...\n",
            "                               ...                        \n",
            "33494    Мусор на внутридомовой территории\\r\\nБутылки, ...\n",
            "38310    Не работает фонарь на Красносельской около пер...\n",
            "57588      Необходимо очистить дорожный знак от объявлений\n",
            "51045    Приведите пожалуйста информационный стенд в по...\n",
            "44526    не законное использование общедомового имущест...\n",
            "Name: public_petition_text, Length: 30000, dtype: object\n",
            "<class 'pandas.core.series.Series'>\n"
          ]
        }
      ],
      "source": [
        "print(corpus_text)\n",
        "print(type(corpus_text))"
      ]
    },
    {
      "cell_type": "code",
      "execution_count": 7,
      "metadata": {},
      "outputs": [],
      "source": [
        "from sklearn.preprocessing import LabelEncoder"
      ]
    },
    {
      "cell_type": "code",
      "execution_count": 8,
      "metadata": {},
      "outputs": [
        {
          "data": {
            "text/plain": [
              "{0: 'Благоустройство',\n",
              " 1: 'Водоотведение',\n",
              " 2: 'Водоснабжение',\n",
              " 3: 'Кровля',\n",
              " 4: 'Нарушение порядка пользования общим имуществом',\n",
              " 5: 'Нарушение правил пользования общим имуществом',\n",
              " 6: 'Незаконная информационная и (или) рекламная конструкция',\n",
              " 7: 'Незаконная реализация товаров с торгового оборудования (прилавок, ящик, с земли)',\n",
              " 8: 'Повреждения или неисправность элементов уличной инфраструктуры',\n",
              " 9: 'Подвалы',\n",
              " 10: 'Санитарное состояние',\n",
              " 11: 'Содержание МКД',\n",
              " 12: 'Состояние рекламных или информационных конструкций',\n",
              " 13: 'Фасад',\n",
              " 14: 'Центральное отопление'}"
            ]
          },
          "execution_count": 8,
          "metadata": {},
          "output_type": "execute_result"
        }
      ],
      "source": [
        "le = LabelEncoder()\n",
        "corpus_text_category_encoded = le.fit_transform(corpus_text_category)\n",
        "dict(zip(range(0, len(set(corpus_text_category_encoded))),le.inverse_transform(list(set(corpus_text_category_encoded)))))"
      ]
    },
    {
      "cell_type": "code",
      "execution_count": 9,
      "metadata": {},
      "outputs": [],
      "source": [
        "corpus_encoded = []\n",
        "for i in range(len(corpus_text)):\n",
        "    corpus_encoded.append((corpus_text.iloc[i], corpus_text_category_encoded[i]))"
      ]
    },
    {
      "cell_type": "code",
      "execution_count": 10,
      "metadata": {},
      "outputs": [],
      "source": [
        "navec = Navec.load('../models/navec_hudlit_v1_12B_500K_300d_100q.tar')"
      ]
    },
    {
      "cell_type": "code",
      "execution_count": 11,
      "metadata": {
        "id": "Nqkfy_egmVRW"
      },
      "outputs": [],
      "source": [
        "from nltk.corpus import stopwords\n",
        "def prepare_data(corpus):\n",
        "    morph = MorphAnalyzer()\n",
        "    from nltk.corpus import stopwords\n",
        "    stopwords = stopwords.words('russian')\n",
        "    prepared_data = []\n",
        "    for petition, label in corpus:   \n",
        "        data = petition.lower()\n",
        "        data1 = re.sub('[\\\\r|\\\\n]+', ' ', data)\n",
        "        data2 = re.sub('[a-zA-Z]+', '', data1)\n",
        "        data3 = re.sub('[0-9]+', '', data2)\n",
        "        data4 = re.sub('[^\\s^\\w]+', '', data3)\n",
        "        data5 = list(tokenize(data4))\n",
        "        data6 = map(lambda x: x.text , data5)\n",
        "        data7 = map(lambda x: morph.normal_forms(x)[0], data6)\n",
        "        data8 = [w for w in data7 if w not in stopwords]\n",
        "        data9 = [navec[x].tolist() for x in data8 if x in navec]\n",
        "        if(len(data9)):\n",
        "            prepared_data.append((torch.tensor(data9).type(torch.float32), label))\n",
        "    return prepared_data"
      ]
    },
    {
      "cell_type": "code",
      "execution_count": 12,
      "metadata": {
        "id": "YtvoLM4_q5pW"
      },
      "outputs": [],
      "source": [
        "corpus_text_prep = prepare_data(corpus_encoded)"
      ]
    },
    {
      "cell_type": "code",
      "execution_count": 13,
      "metadata": {},
      "outputs": [],
      "source": [
        "from torch.nn.utils.rnn import pad_sequence\n",
        "corpus_text_padded = pad_sequence([tupl[0] for tupl in corpus_text_prep], True)"
      ]
    },
    {
      "cell_type": "code",
      "execution_count": 14,
      "metadata": {},
      "outputs": [
        {
          "data": {
            "text/plain": [
              "torch.Size([29904, 229, 300])"
            ]
          },
          "execution_count": 14,
          "metadata": {},
          "output_type": "execute_result"
        }
      ],
      "source": [
        "corpus_text_padded.shape"
      ]
    },
    {
      "cell_type": "code",
      "execution_count": 15,
      "metadata": {},
      "outputs": [],
      "source": [
        "X_train, X_test, y_train, y_test = train_test_split(corpus_text_padded, [tupl[1] for tupl in corpus_text_prep], test_size=0.1, stratify=[tupl[1] for tupl in corpus_text_prep])\n"
      ]
    },
    {
      "cell_type": "code",
      "execution_count": 16,
      "metadata": {},
      "outputs": [],
      "source": [
        "ds = TensorDataset(X_train, torch.tensor(y_train).type(torch.int64))\n",
        "dl = DataLoader(ds, batch_size=32, shuffle=True)"
      ]
    },
    {
      "cell_type": "code",
      "execution_count": 24,
      "metadata": {},
      "outputs": [],
      "source": [
        "class Rnn(nn.Module):\n",
        "    def __init__(self):\n",
        "        super(Rnn, self).__init__()\n",
        "        self.rnn = nn.RNN(300, 128, batch_first=True)\n",
        "        self.first_linear = nn.Linear(128, 15)\n",
        "    def forward(self, x):\n",
        "        y = self.rnn(x)[0]\n",
        "        #y = self.first_linear(torch.index_select(y, 1, torch.tensor(y.shape[1]-1).to(device)))\n",
        "        y = self.first_linear(y.mean(dim=1))\n",
        "        return y"
      ]
    },
    {
      "cell_type": "code",
      "execution_count": 25,
      "metadata": {},
      "outputs": [],
      "source": [
        "loss = nn.CrossEntropyLoss()\n",
        "model = Rnn()\n",
        "model.to(device)\n",
        "optimizer = torch.optim.Adam(model.parameters(), lr=0.005)"
      ]
    },
    {
      "cell_type": "code",
      "execution_count": 26,
      "metadata": {},
      "outputs": [
        {
          "name": "stdout",
          "output_type": "stream",
          "text": [
            "Эпоха 1, Значение функции потерь: 1.221165418624878\n",
            "Эпоха 2, Значение функции потерь: 1.092416524887085\n",
            "Эпоха 3, Значение функции потерь: 1.1563538312911987\n",
            "Эпоха 4, Значение функции потерь: 1.2457013130187988\n",
            "Эпоха 5, Значение функции потерь: 1.2671200037002563\n",
            "Эпоха 6, Значение функции потерь: 1.1804628372192383\n",
            "Эпоха 7, Значение функции потерь: 1.1972708702087402\n",
            "Эпоха 8, Значение функции потерь: 1.1443296670913696\n",
            "Эпоха 9, Значение функции потерь: 1.125468134880066\n",
            "Эпоха 10, Значение функции потерь: 1.1553950309753418\n"
          ]
        }
      ],
      "source": [
        "epochs = 10\n",
        "for epoch in range(epochs):\n",
        "    sum_loss = 0\n",
        "    for x_b, y_b in dl:\n",
        "        x_b = x_b.to(device)\n",
        "        y_b = y_b.to(device)\n",
        "        optimizer.zero_grad()\n",
        "        outputs = model(x_b)\n",
        "        #outputs= outputs.view(x_b.shape[0],15)\n",
        "        loss_value = loss(outputs, y_b)\n",
        "        sum_loss += loss_value\n",
        "        loss_value.backward()\n",
        "        optimizer.step()\n",
        "        x_b = x_b.to(\"cpu\")\n",
        "        y_b = y_b.to(\"cpu\")\n",
        "        \n",
        "        #sys.stderr.write(f'Батч {batch + 1}/{len(dl)}, Значение функции потерь: {loss_value.item()}\\r')\n",
        "\n",
        "    print(f'Эпоха {epoch + 1}, Значение функции потерь: {sum_loss/len(dl)}')"
      ]
    },
    {
      "cell_type": "code",
      "execution_count": 27,
      "metadata": {},
      "outputs": [],
      "source": [
        "model.to(\"cpu\")\n",
        "answ = model.forward(X_test)"
      ]
    },
    {
      "cell_type": "code",
      "execution_count": 28,
      "metadata": {},
      "outputs": [],
      "source": [
        "answ_encoded = []\n",
        "for i in answ:\n",
        "    answ_encoded.append(torch.argmax(i).to(\"cpu\").item())"
      ]
    },
    {
      "cell_type": "code",
      "execution_count": 29,
      "metadata": {},
      "outputs": [
        {
          "name": "stdout",
          "output_type": "stream",
          "text": [
            "              precision    recall  f1-score   support\n",
            "\n",
            "           0       0.68      0.98      0.80      1748\n",
            "           1       0.00      0.00      0.00        11\n",
            "           2       0.00      0.00      0.00        40\n",
            "           3       0.00      0.00      0.00        41\n",
            "           4       0.00      0.00      0.00        12\n",
            "           5       0.00      0.00      0.00       102\n",
            "           6       0.00      0.00      0.00        92\n",
            "           7       0.00      0.00      0.00        11\n",
            "           8       0.00      0.00      0.00        56\n",
            "           9       0.00      0.00      0.00        11\n",
            "          10       0.00      0.00      0.00        22\n",
            "          11       0.73      0.46      0.57       726\n",
            "          12       0.00      0.00      0.00        32\n",
            "          13       0.00      0.00      0.00        72\n",
            "          14       0.00      0.00      0.00        15\n",
            "\n",
            "    accuracy                           0.68      2991\n",
            "   macro avg       0.09      0.10      0.09      2991\n",
            "weighted avg       0.57      0.68      0.61      2991\n",
            "\n"
          ]
        },
        {
          "name": "stderr",
          "output_type": "stream",
          "text": [
            "c:\\Users\\XE\\AppData\\Local\\Programs\\Python\\Python311\\Lib\\site-packages\\sklearn\\metrics\\_classification.py:1344: UndefinedMetricWarning: Precision and F-score are ill-defined and being set to 0.0 in labels with no predicted samples. Use `zero_division` parameter to control this behavior.\n",
            "  _warn_prf(average, modifier, msg_start, len(result))\n",
            "c:\\Users\\XE\\AppData\\Local\\Programs\\Python\\Python311\\Lib\\site-packages\\sklearn\\metrics\\_classification.py:1344: UndefinedMetricWarning: Precision and F-score are ill-defined and being set to 0.0 in labels with no predicted samples. Use `zero_division` parameter to control this behavior.\n",
            "  _warn_prf(average, modifier, msg_start, len(result))\n",
            "c:\\Users\\XE\\AppData\\Local\\Programs\\Python\\Python311\\Lib\\site-packages\\sklearn\\metrics\\_classification.py:1344: UndefinedMetricWarning: Precision and F-score are ill-defined and being set to 0.0 in labels with no predicted samples. Use `zero_division` parameter to control this behavior.\n",
            "  _warn_prf(average, modifier, msg_start, len(result))\n"
          ]
        }
      ],
      "source": [
        "from sklearn.metrics import classification_report\n",
        "print(classification_report(y_test, answ_encoded))"
      ]
    },
    {
      "cell_type": "code",
      "execution_count": 30,
      "metadata": {},
      "outputs": [],
      "source": [
        "class LSTM(nn.Module):\n",
        "    def __init__(self):\n",
        "        super(LSTM, self).__init__()\n",
        "        self.rnn = nn.LSTM(300, 64, batch_first = True)\n",
        "        self.first_linear = nn.Linear(64, 15)\n",
        "        #self.first_linear = nn.Linear(64, 32)\n",
        "        #self.first_activ = nn.LeakyReLU()\n",
        "        #self.second_linear = nn.Linear(32, 15)\n",
        "    def forward(self, x):\n",
        "        y = self.rnn(x)[0]\n",
        "        #y = self.first_linear(torch.index_select(y, 1, torch.tensor(y.shape[1]-1).to(device)))\n",
        "        y = self.first_linear(y.mean(dim=1))\n",
        "        #y = self.first_activ(y)\n",
        "        #y = self.second_linear(y)\n",
        "        return y"
      ]
    },
    {
      "cell_type": "code",
      "execution_count": 31,
      "metadata": {},
      "outputs": [],
      "source": [
        "loss1 = nn.CrossEntropyLoss()\n",
        "model1 = LSTM()\n",
        "model1.to(device)\n",
        "optimizer1 = torch.optim.Adam(model.parameters(), lr=0.0025)"
      ]
    },
    {
      "cell_type": "code",
      "execution_count": 33,
      "metadata": {},
      "outputs": [
        {
          "name": "stdout",
          "output_type": "stream",
          "text": [
            "Эпоха 1, Значение функции потерь: 2.8378453254699707\n",
            "Эпоха 2, Значение функции потерь: 2.837843894958496\n",
            "Эпоха 3, Значение функции потерь: 2.8378055095672607\n",
            "Эпоха 4, Значение функции потерь: 2.8377745151519775\n",
            "Эпоха 5, Значение функции потерь: 2.83784556388855\n",
            "Эпоха 6, Значение функции потерь: 2.8378443717956543\n",
            "Эпоха 7, Значение функции потерь: 2.8378472328186035\n",
            "Эпоха 8, Значение функции потерь: 2.837801933288574\n",
            "Эпоха 9, Значение функции потерь: 2.8378467559814453\n",
            "Эпоха 10, Значение функции потерь: 2.8378443717956543\n"
          ]
        }
      ],
      "source": [
        "epochs = 10\n",
        "for epoch in range(epochs):\n",
        "    sum_loss = 0\n",
        "    for x_b, y_b in dl:\n",
        "        x_b = x_b.to(device)\n",
        "        y_b = y_b.to(device)\n",
        "        optimizer1.zero_grad()\n",
        "        outputs = model1(x_b)\n",
        "        #outputs= outputs.view(x_b.shape[0],15)\n",
        "        loss_value = loss1(outputs, y_b)\n",
        "        loss_value.backward()\n",
        "        optimizer1.step()\n",
        "        sum_loss += loss_value\n",
        "        x_b = x_b.to(\"cpu\")\n",
        "        y_b = y_b.to(\"cpu\")\n",
        "        \n",
        "        #sys.stderr.write(f'Батч {batch + 1}/{len(dl)}, Значение функции потерь: {loss_value.item()}\\r')\n",
        "\n",
        "    print(f'Эпоха {epoch + 1}, Значение функции потерь: {sum_loss/len(dl)}')"
      ]
    },
    {
      "cell_type": "code",
      "execution_count": 47,
      "metadata": {},
      "outputs": [],
      "source": [
        "torch.cuda.empty_cache() "
      ]
    },
    {
      "cell_type": "code",
      "execution_count": 49,
      "metadata": {},
      "outputs": [],
      "source": [
        "answ1 = model1.forward(X_test[:400].to(device))"
      ]
    },
    {
      "cell_type": "code",
      "execution_count": 50,
      "metadata": {},
      "outputs": [],
      "source": [
        "answ_encoded1 = []\n",
        "for i in answ1:\n",
        "    answ_encoded1.append(torch.argmax(i).to(\"cpu\").item())"
      ]
    },
    {
      "cell_type": "code",
      "execution_count": 52,
      "metadata": {},
      "outputs": [
        {
          "name": "stdout",
          "output_type": "stream",
          "text": [
            "              precision    recall  f1-score   support\n",
            "\n",
            "           0       0.00      0.00      0.00       242\n",
            "           2       0.00      0.00      0.00         6\n",
            "           3       0.00      0.00      0.00         7\n",
            "           4       0.00      0.00      0.00         1\n",
            "           5       0.00      0.00      0.00        14\n",
            "           6       0.00      0.00      0.00         7\n",
            "           7       0.00      0.00      0.00         1\n",
            "           8       0.00      0.00      0.00         4\n",
            "           9       0.00      0.00      0.00         4\n",
            "          10       0.01      1.00      0.01         2\n",
            "          11       0.00      0.00      0.00        99\n",
            "          12       0.00      0.00      0.00         5\n",
            "          13       0.00      0.00      0.00         5\n",
            "          14       0.00      0.00      0.00         3\n",
            "\n",
            "    accuracy                           0.01       400\n",
            "   macro avg       0.00      0.07      0.00       400\n",
            "weighted avg       0.00      0.01      0.00       400\n",
            "\n"
          ]
        },
        {
          "name": "stderr",
          "output_type": "stream",
          "text": [
            "c:\\Users\\XE\\AppData\\Local\\Programs\\Python\\Python311\\Lib\\site-packages\\sklearn\\metrics\\_classification.py:1344: UndefinedMetricWarning: Precision and F-score are ill-defined and being set to 0.0 in labels with no predicted samples. Use `zero_division` parameter to control this behavior.\n",
            "  _warn_prf(average, modifier, msg_start, len(result))\n",
            "c:\\Users\\XE\\AppData\\Local\\Programs\\Python\\Python311\\Lib\\site-packages\\sklearn\\metrics\\_classification.py:1344: UndefinedMetricWarning: Precision and F-score are ill-defined and being set to 0.0 in labels with no predicted samples. Use `zero_division` parameter to control this behavior.\n",
            "  _warn_prf(average, modifier, msg_start, len(result))\n",
            "c:\\Users\\XE\\AppData\\Local\\Programs\\Python\\Python311\\Lib\\site-packages\\sklearn\\metrics\\_classification.py:1344: UndefinedMetricWarning: Precision and F-score are ill-defined and being set to 0.0 in labels with no predicted samples. Use `zero_division` parameter to control this behavior.\n",
            "  _warn_prf(average, modifier, msg_start, len(result))\n"
          ]
        }
      ],
      "source": [
        "from sklearn.metrics import classification_report\n",
        "print(classification_report(y_test[:400], answ_encoded1))"
      ]
    },
    {
      "cell_type": "code",
      "execution_count": 21,
      "metadata": {},
      "outputs": [],
      "source": [
        "class GRU(nn.Module):\n",
        "    def __init__(self):\n",
        "        super(GRU, self).__init__()\n",
        "        self.rnn = nn.GRU(300, 64, batch_first = True)\n",
        "        self.first_linear = nn.Linear(64, 15)\n",
        "        #self.first_linear = nn.Linear(64, 32)\n",
        "        #self.first_activ = nn.LeakyReLU()\n",
        "        #self.second_linear = nn.Linear(32, 15)\n",
        "    def forward(self, x):\n",
        "        y = self.rnn(x)[0]\n",
        "        #y = self.first_linear(torch.index_select(y, 1, torch.tensor(y.shape[1]-1).to(device)))\n",
        "        y = self.first_linear(y.mean(dim=1))\n",
        "        #y = self.first_activ(y)\n",
        "        #y = self.second_linear(y)\n",
        "        return y"
      ]
    },
    {
      "cell_type": "code",
      "execution_count": 22,
      "metadata": {},
      "outputs": [],
      "source": [
        "loss2 = nn.CrossEntropyLoss()\n",
        "model2 = GRU()\n",
        "model2.to(device)\n",
        "optimizer2 = torch.optim.Adam(model.parameters(), lr=0.0025)"
      ]
    },
    {
      "cell_type": "code",
      "execution_count": 23,
      "metadata": {},
      "outputs": [
        {
          "name": "stdout",
          "output_type": "stream",
          "text": [
            "Эпоха 1, Значение функции потерь: 2.7297275066375732\n",
            "Эпоха 2, Значение функции потерь: 2.747100591659546\n",
            "Эпоха 3, Значение функции потерь: 2.670332670211792\n",
            "Эпоха 4, Значение функции потерь: 2.728611469268799\n",
            "Эпоха 5, Значение функции потерь: 2.73689866065979\n",
            "Эпоха 6, Значение функции потерь: 2.7398886680603027\n",
            "Эпоха 7, Значение функции потерь: 2.6949825286865234\n",
            "Эпоха 8, Значение функции потерь: 2.7338626384735107\n",
            "Эпоха 9, Значение функции потерь: 2.722081422805786\n",
            "Эпоха 10, Значение функции потерь: 2.7357239723205566\n"
          ]
        }
      ],
      "source": [
        "epochs = 10\n",
        "for epoch in range(epochs):\n",
        "    batch = 0\n",
        "    for x_b, y_b in dl:\n",
        "        x_b = x_b.to(device)\n",
        "        y_b = y_b.to(device)\n",
        "        optimizer2.zero_grad()\n",
        "        batch+=1\n",
        "        outputs = model2(x_b)\n",
        "        #outputs= outputs.view(x_b.shape[0],15)\n",
        "        loss_value = loss2(outputs, y_b)\n",
        "        loss_value.backward()\n",
        "        \n",
        "        optimizer2.step()\n",
        "        \n",
        "        #sys.stderr.write(f'Батч {batch + 1}/{len(dl)}, Значение функции потерь: {loss_value.item()}\\r')\n",
        "\n",
        "    print(f'Эпоха {epoch + 1}, Значение функции потерь: {loss_value.item()}')"
      ]
    },
    {
      "cell_type": "code",
      "execution_count": 24,
      "metadata": {},
      "outputs": [
        {
          "name": "stdout",
          "output_type": "stream",
          "text": [
            "              precision    recall  f1-score   support\n",
            "\n",
            "           0       0.00      0.00      0.00       577\n",
            "           1       0.00      0.00      0.00         3\n",
            "           2       0.00      0.00      0.00        15\n",
            "           3       0.01      1.00      0.03        14\n",
            "           4       0.00      0.00      0.00         4\n",
            "           5       0.00      0.00      0.00        34\n",
            "           6       0.00      0.00      0.00        33\n",
            "           7       0.00      0.00      0.00         5\n",
            "           8       0.00      0.00      0.00        19\n",
            "           9       0.00      0.00      0.00         4\n",
            "          10       0.00      0.00      0.00         7\n",
            "          11       0.00      0.00      0.00       239\n",
            "          12       0.00      0.00      0.00        12\n",
            "          13       0.00      0.00      0.00        26\n",
            "          14       0.00      0.00      0.00         5\n",
            "\n",
            "    accuracy                           0.01       997\n",
            "   macro avg       0.00      0.07      0.00       997\n",
            "weighted avg       0.00      0.01      0.00       997\n",
            "\n"
          ]
        },
        {
          "name": "stderr",
          "output_type": "stream",
          "text": [
            "c:\\Users\\XE\\AppData\\Local\\Programs\\Python\\Python311\\Lib\\site-packages\\sklearn\\metrics\\_classification.py:1344: UndefinedMetricWarning: Precision and F-score are ill-defined and being set to 0.0 in labels with no predicted samples. Use `zero_division` parameter to control this behavior.\n",
            "  _warn_prf(average, modifier, msg_start, len(result))\n",
            "c:\\Users\\XE\\AppData\\Local\\Programs\\Python\\Python311\\Lib\\site-packages\\sklearn\\metrics\\_classification.py:1344: UndefinedMetricWarning: Precision and F-score are ill-defined and being set to 0.0 in labels with no predicted samples. Use `zero_division` parameter to control this behavior.\n",
            "  _warn_prf(average, modifier, msg_start, len(result))\n",
            "c:\\Users\\XE\\AppData\\Local\\Programs\\Python\\Python311\\Lib\\site-packages\\sklearn\\metrics\\_classification.py:1344: UndefinedMetricWarning: Precision and F-score are ill-defined and being set to 0.0 in labels with no predicted samples. Use `zero_division` parameter to control this behavior.\n",
            "  _warn_prf(average, modifier, msg_start, len(result))\n"
          ]
        }
      ],
      "source": [
        "answ2 = model2.forward(X_test.to(device))\n",
        "answ_encoded2 = []\n",
        "for i in answ2:\n",
        "    answ_encoded2.append(torch.argmax(i).to(\"cpu\").item())\n",
        "from sklearn.metrics import classification_report\n",
        "print(classification_report(y_test, answ_encoded2))"
      ]
    }
  ],
  "metadata": {
    "colab": {
      "provenance": []
    },
    "kernelspec": {
      "display_name": "Python 3",
      "name": "python3"
    },
    "language_info": {
      "codemirror_mode": {
        "name": "ipython",
        "version": 3
      },
      "file_extension": ".py",
      "mimetype": "text/x-python",
      "name": "python",
      "nbconvert_exporter": "python",
      "pygments_lexer": "ipython3",
      "version": "3.11.3"
    }
  },
  "nbformat": 4,
  "nbformat_minor": 0
}
