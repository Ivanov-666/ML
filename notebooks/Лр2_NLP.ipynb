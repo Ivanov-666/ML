{
  "cells": [
    {
      "cell_type": "code",
      "execution_count": 2,
      "metadata": {},
      "outputs": [],
      "source": [
        "import torch.nn as nn\n",
        "import torch\n",
        "import torch.nn.functional as F\n",
        "import pandas as pd\n",
        "import numpy as np\n",
        "import sys\n",
        "from torch.utils.data import TensorDataset, DataLoader\n",
        "import re\n",
        "import nltk\n",
        "#nltk.download('punkt')\n",
        "from nltk.tokenize import word_tokenize\n",
        "from nltk.stem import SnowballStemmer\n",
        "#nltk.download('stopwords')\n",
        "from nltk.corpus import stopwords"
      ]
    },
    {
      "cell_type": "code",
      "execution_count": 3,
      "metadata": {},
      "outputs": [
        {
          "name": "stdout",
          "output_type": "stream",
          "text": [
            "cuda:0\n"
          ]
        }
      ],
      "source": [
        "device = torch.device ( \"cuda:0\" if torch.cuda.is_available() else \"cpu\" )\n",
        "print ( device )"
      ]
    },
    {
      "cell_type": "code",
      "execution_count": 12,
      "metadata": {
        "colab": {
          "base_uri": "https://localhost:8080/",
          "height": 424
        },
        "id": "HplNyq17OG_X",
        "outputId": "655f84cf-5af8-42b4-e383-085f2901eeb0"
      },
      "outputs": [
        {
          "data": {
            "text/html": [
              "<div>\n",
              "<style scoped>\n",
              "    .dataframe tbody tr th:only-of-type {\n",
              "        vertical-align: middle;\n",
              "    }\n",
              "\n",
              "    .dataframe tbody tr th {\n",
              "        vertical-align: top;\n",
              "    }\n",
              "\n",
              "    .dataframe thead th {\n",
              "        text-align: right;\n",
              "    }\n",
              "</style>\n",
              "<table border=\"1\" class=\"dataframe\">\n",
              "  <thead>\n",
              "    <tr style=\"text-align: right;\">\n",
              "      <th></th>\n",
              "      <th>id</th>\n",
              "      <th>public_petition_text</th>\n",
              "      <th>reason_category</th>\n",
              "    </tr>\n",
              "  </thead>\n",
              "  <tbody>\n",
              "    <tr>\n",
              "      <th>10014</th>\n",
              "      <td>3041543</td>\n",
              "      <td>На протяжении нескольких дней из крана идет гр...</td>\n",
              "      <td>Водоснабжение</td>\n",
              "    </tr>\n",
              "    <tr>\n",
              "      <th>29860</th>\n",
              "      <td>3296230</td>\n",
              "      <td>граффити на стенде детской площадки</td>\n",
              "      <td>Благоустройство</td>\n",
              "    </tr>\n",
              "    <tr>\n",
              "      <th>47582</th>\n",
              "      <td>3322077</td>\n",
              "      <td>По адресу пер. Джамбула д. 12 на фасаде МКД на...</td>\n",
              "      <td>Нарушение правил пользования общим имуществом</td>\n",
              "    </tr>\n",
              "    <tr>\n",
              "      <th>27828</th>\n",
              "      <td>3080599</td>\n",
              "      <td>Бумажные объявления на ТСОДД</td>\n",
              "      <td>Благоустройство</td>\n",
              "    </tr>\n",
              "    <tr>\n",
              "      <th>10170</th>\n",
              "      <td>3301487</td>\n",
              "      <td>ямы на дороге</td>\n",
              "      <td>Благоустройство</td>\n",
              "    </tr>\n",
              "    <tr>\n",
              "      <th>...</th>\n",
              "      <td>...</td>\n",
              "      <td>...</td>\n",
              "      <td>...</td>\n",
              "    </tr>\n",
              "    <tr>\n",
              "      <th>36775</th>\n",
              "      <td>3041604</td>\n",
              "      <td>Незаконная торговля не пресечена</td>\n",
              "      <td>Незаконная реализация товаров с торгового обор...</td>\n",
              "    </tr>\n",
              "    <tr>\n",
              "      <th>39271</th>\n",
              "      <td>2994297</td>\n",
              "      <td>Надписи на будке.</td>\n",
              "      <td>Благоустройство</td>\n",
              "    </tr>\n",
              "    <tr>\n",
              "      <th>44990</th>\n",
              "      <td>3236936</td>\n",
              "      <td>Снег, лед. Необходимо убрать</td>\n",
              "      <td>Благоустройство</td>\n",
              "    </tr>\n",
              "    <tr>\n",
              "      <th>59226</th>\n",
              "      <td>3245246</td>\n",
              "      <td>Влажное подметание лестничных площадок и марше...</td>\n",
              "      <td>Содержание МКД</td>\n",
              "    </tr>\n",
              "    <tr>\n",
              "      <th>25841</th>\n",
              "      <td>3181446</td>\n",
              "      <td>Затоплен подвал грязевой жижей, воняет. Парадн...</td>\n",
              "      <td>Водоснабжение</td>\n",
              "    </tr>\n",
              "  </tbody>\n",
              "</table>\n",
              "<p>10000 rows × 3 columns</p>\n",
              "</div>"
            ],
            "text/plain": [
              "            id                               public_petition_text   \n",
              "10014  3041543  На протяжении нескольких дней из крана идет гр...  \\\n",
              "29860  3296230                граффити на стенде детской площадки   \n",
              "47582  3322077  По адресу пер. Джамбула д. 12 на фасаде МКД на...   \n",
              "27828  3080599                       Бумажные объявления на ТСОДД   \n",
              "10170  3301487                                      ямы на дороге   \n",
              "...        ...                                                ...   \n",
              "36775  3041604                   Незаконная торговля не пресечена   \n",
              "39271  2994297                                  Надписи на будке.   \n",
              "44990  3236936                       Снег, лед. Необходимо убрать   \n",
              "59226  3245246  Влажное подметание лестничных площадок и марше...   \n",
              "25841  3181446  Затоплен подвал грязевой жижей, воняет. Парадн...   \n",
              "\n",
              "                                         reason_category  \n",
              "10014                                      Водоснабжение  \n",
              "29860                                    Благоустройство  \n",
              "47582      Нарушение правил пользования общим имуществом  \n",
              "27828                                    Благоустройство  \n",
              "10170                                    Благоустройство  \n",
              "...                                                  ...  \n",
              "36775  Незаконная реализация товаров с торгового обор...  \n",
              "39271                                    Благоустройство  \n",
              "44990                                    Благоустройство  \n",
              "59226                                     Содержание МКД  \n",
              "25841                                      Водоснабжение  \n",
              "\n",
              "[10000 rows x 3 columns]"
            ]
          },
          "execution_count": 12,
          "metadata": {},
          "output_type": "execute_result"
        }
      ],
      "source": [
        "df = pd.read_csv(\"../datasets/Petitions.csv\")\n",
        "corpus = df.sample(10000, replace=None, random_state=0)\n",
        "corpus"
      ]
    },
    {
      "cell_type": "code",
      "execution_count": 13,
      "metadata": {
        "colab": {
          "base_uri": "https://localhost:8080/"
        },
        "id": "Ham_sq84OOyI",
        "outputId": "5acf6d1a-d2d2-424b-9b4c-d86f31f3b074"
      },
      "outputs": [],
      "source": [
        "corpus_text = corpus[\"public_petition_text\"]\n",
        "corpus_text_category = corpus[\"reason_category\"]"
      ]
    },
    {
      "cell_type": "code",
      "execution_count": 14,
      "metadata": {
        "id": "kXOB8qkfPOD3"
      },
      "outputs": [
        {
          "name": "stdout",
          "output_type": "stream",
          "text": [
            "10014    На протяжении нескольких дней из крана идет гр...\n",
            "29860                  граффити на стенде детской площадки\n",
            "47582    По адресу пер. Джамбула д. 12 на фасаде МКД на...\n",
            "27828                         Бумажные объявления на ТСОДД\n",
            "10170                                        ямы на дороге\n",
            "                               ...                        \n",
            "36775                     Незаконная торговля не пресечена\n",
            "39271                                    Надписи на будке.\n",
            "44990                         Снег, лед. Необходимо убрать\n",
            "59226    Влажное подметание лестничных площадок и марше...\n",
            "25841    Затоплен подвал грязевой жижей, воняет. Парадн...\n",
            "Name: public_petition_text, Length: 10000, dtype: object\n"
          ]
        }
      ],
      "source": [
        "print(corpus_text)"
      ]
    },
    {
      "cell_type": "code",
      "execution_count": 25,
      "metadata": {
        "id": "Nqkfy_egmVRW"
      },
      "outputs": [],
      "source": [
        "from nltk.corpus import stopwords\n",
        "def prepare_data(corpus):\n",
        "    stemmer = SnowballStemmer('russian')\n",
        "    from nltk.corpus import stopwords\n",
        "    stopwords = stopwords.words('russian')\n",
        "    prepared_data = []\n",
        "    for petition in corpus:   \n",
        "        data = petition.lower()\n",
        "        data1 = re.sub('[\\\\r|\\\\n]+', ' ', data)\n",
        "        data2 = re.sub('[a-zA-Z]+', '', data1)\n",
        "        data3 = re.sub('[0-9]+', '', data2)\n",
        "        data4 = re.sub('[^\\s^\\w]+', '', data3)\n",
        "        data5 = word_tokenize(data4)\n",
        "        data6 = [stemmer.stem(w) for w in data5]\n",
        "        data7 = [w for w in data6 if w not in stopwords]\n",
        "        prepared_data.append(data7)\n",
        "    return prepared_data"
      ]
    },
    {
      "cell_type": "code",
      "execution_count": 26,
      "metadata": {
        "id": "YtvoLM4_q5pW"
      },
      "outputs": [],
      "source": [
        "corpus_text_prep = prepare_data(corpus_text)"
      ]
    },
    {
      "cell_type": "code",
      "execution_count": 30,
      "metadata": {},
      "outputs": [],
      "source": [
        "from sklearn.preprocessing import LabelEncoder"
      ]
    },
    {
      "cell_type": "code",
      "execution_count": 38,
      "metadata": {},
      "outputs": [
        {
          "data": {
            "text/plain": [
              "{0: 'Благоустройство',\n",
              " 1: 'Водоотведение',\n",
              " 2: 'Водоснабжение',\n",
              " 3: 'Кровля',\n",
              " 4: 'Нарушение порядка пользования общим имуществом',\n",
              " 5: 'Нарушение правил пользования общим имуществом',\n",
              " 6: 'Незаконная информационная и (или) рекламная конструкция',\n",
              " 7: 'Незаконная реализация товаров с торгового оборудования (прилавок, ящик, с земли)',\n",
              " 8: 'Повреждения или неисправность элементов уличной инфраструктуры',\n",
              " 9: 'Подвалы',\n",
              " 10: 'Санитарное состояние',\n",
              " 11: 'Содержание МКД',\n",
              " 12: 'Состояние рекламных или информационных конструкций',\n",
              " 13: 'Фасад',\n",
              " 14: 'Центральное отопление'}"
            ]
          },
          "execution_count": 38,
          "metadata": {},
          "output_type": "execute_result"
        }
      ],
      "source": [
        "le = LabelEncoder()\n",
        "corpus_text_category_encooded = le.fit_transform(corpus_text_category)\n",
        "dict(zip(range(0, len(set(corpus_text_category_encooded))),le.inverse_transform(list(set(corpus_text_category_encooded)))))"
      ]
    },
    {
      "cell_type": "code",
      "execution_count": 15,
      "metadata": {},
      "outputs": [],
      "source": [
        "ds = TensorDataset(torch.tensor([tupl[0] for tupl in new_data]), torch.tensor([tupl[1] for tupl in new_data]))\n",
        "dl = DataLoader(ds, batch_size=32, shuffle=True)"
      ]
    },
    {
      "cell_type": "code",
      "execution_count": 16,
      "metadata": {},
      "outputs": [],
      "source": [
        "class CBoW(nn.Module):\n",
        "    def __init__(self, vocab_size, embed_dim):\n",
        "        super(CBoW, self).__init__()\n",
        "        self.embedder = nn.Embedding(vocab_size, 40)\n",
        "        self.first_linear = nn.Linear(embed_dim, 300)\n",
        "        self.second_linear = nn.Linear(300, vocab_size)\n",
        "    def forward(self, x):\n",
        "        y = self.embedder(x).mean(dim=1)\n",
        "        y = self.first_linear(y)\n",
        "        y = self.second_linear(y)\n",
        "        return y"
      ]
    },
    {
      "cell_type": "code",
      "execution_count": 17,
      "metadata": {},
      "outputs": [],
      "source": [
        "loss = nn.CrossEntropyLoss()\n",
        "model = CBoW(len(vocab), 40)\n",
        "model.to(device)\n",
        "optimizer = torch.optim.Adam(model.parameters(), lr=0.0005)"
      ]
    },
    {
      "cell_type": "code",
      "execution_count": 20,
      "metadata": {},
      "outputs": [
        {
          "name": "stderr",
          "output_type": "stream",
          "text": [
            "Батч 24/24265, Значение функции потерь: 5.3793239593505865015\r"
          ]
        },
        {
          "name": "stdout",
          "output_type": "stream",
          "text": [
            "Эпоха 1, Значение функции потерь: 5.364560127258301\n"
          ]
        },
        {
          "name": "stderr",
          "output_type": "stream",
          "text": [
            "Батч 5/24265, Значение функции потерь: 6.09793090820312515625\r"
          ]
        },
        {
          "name": "stdout",
          "output_type": "stream",
          "text": [
            "Эпоха 2, Значение функции потерь: 4.3717193603515625\n"
          ]
        },
        {
          "name": "stderr",
          "output_type": "stream",
          "text": [
            "Батч 24266/24265, Значение функции потерь: 5.1977190971374515\r"
          ]
        },
        {
          "name": "stdout",
          "output_type": "stream",
          "text": [
            "Эпоха 3, Значение функции потерь: 5.197719097137451\n"
          ]
        },
        {
          "name": "stderr",
          "output_type": "stream",
          "text": [
            "Батч 52/24265, Значение функции потерь: 5.6815042495727546442\r"
          ]
        },
        {
          "name": "stdout",
          "output_type": "stream",
          "text": [
            "Эпоха 4, Значение функции потерь: 5.836966037750244\n"
          ]
        },
        {
          "name": "stderr",
          "output_type": "stream",
          "text": [
            "Батч 24251/24265, Значение функции потерь: 4.2370381355285645\r"
          ]
        },
        {
          "name": "stdout",
          "output_type": "stream",
          "text": [
            "Эпоха 5, Значение функции потерь: 4.844501495361328\n"
          ]
        },
        {
          "name": "stderr",
          "output_type": "stream",
          "text": [
            "Батч 24266/24265, Значение функции потерь: 4.844501495361328\r"
          ]
        }
      ],
      "source": [
        "epochs = 5\n",
        "for epoch in range(epochs):\n",
        "    batch = 0\n",
        "    for x_b, y_b in dl:\n",
        "        x_b = x_b.to(device)\n",
        "        y_b = y_b.to(device)\n",
        "        optimizer.zero_grad()\n",
        "        batch+=1\n",
        "        outputs = model(x_b)\n",
        "        loss_value = loss(outputs, y_b)\n",
        "        loss_value.backward()\n",
        "        \n",
        "        optimizer.step()\n",
        "        \n",
        "        sys.stderr.write(f'Батч {batch + 1}/{len(dl)}, Значение функции потерь: {loss_value.item()}\\r')\n",
        "\n",
        "    print(f'Эпоха {epoch + 1}, Значение функции потерь: {loss_value.item()}')"
      ]
    },
    {
      "cell_type": "code",
      "execution_count": 33,
      "metadata": {},
      "outputs": [],
      "source": [
        "model.to(\"cpu\")\n",
        "cbow_mt = []\n",
        "for i in vocab:\n",
        "    cbow_mt.append(model.first_linear(model.embedder(torch.tensor(metadata[i]))).detach().numpy())"
      ]
    },
    {
      "cell_type": "code",
      "execution_count": 36,
      "metadata": {},
      "outputs": [],
      "source": [
        "cbow_mt1 = pd.DataFrame(cbow_mt)"
      ]
    },
    {
      "cell_type": "code",
      "execution_count": 37,
      "metadata": {},
      "outputs": [],
      "source": [
        "with open('cbow_mt.tsv','w', encoding=\"utf-8\") as write_tsv:\n",
        "    write_tsv.write(cbow_mt1.to_csv(sep='\\t', index=False))"
      ]
    }
  ],
  "metadata": {
    "colab": {
      "provenance": []
    },
    "kernelspec": {
      "display_name": "Python 3",
      "name": "python3"
    },
    "language_info": {
      "codemirror_mode": {
        "name": "ipython",
        "version": 3
      },
      "file_extension": ".py",
      "mimetype": "text/x-python",
      "name": "python",
      "nbconvert_exporter": "python",
      "pygments_lexer": "ipython3",
      "version": "3.11.3"
    }
  },
  "nbformat": 4,
  "nbformat_minor": 0
}
