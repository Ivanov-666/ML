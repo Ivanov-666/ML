{
  "cells": [
    {
      "cell_type": "code",
      "execution_count": 129,
      "metadata": {},
      "outputs": [],
      "source": [
        "import torch.nn as nn\n",
        "import torch\n",
        "import torch.nn.functional as F\n",
        "import pandas as pd\n",
        "import numpy as np\n",
        "from sklearn.model_selection import train_test_split\n",
        "import sys\n",
        "from torch.utils.data import TensorDataset, DataLoader\n",
        "import re\n",
        "import nltk\n",
        "#nltk.download('punkt')\n",
        "from pymorphy3 import MorphAnalyzer\n",
        "#nltk.download('stopwords')\n",
        "from nltk.corpus import stopwords\n",
        "from razdel import tokenize\n",
        "from navec import Navec\n",
        "import spacy"
      ]
    },
    {
      "cell_type": "code",
      "execution_count": 2,
      "metadata": {},
      "outputs": [
        {
          "name": "stdout",
          "output_type": "stream",
          "text": [
            "cuda:0\n"
          ]
        }
      ],
      "source": [
        "device = torch.device ( \"cuda:0\" if torch.cuda.is_available() else \"cpu\" )\n",
        "print ( device )"
      ]
    },
    {
      "cell_type": "code",
      "execution_count": 3,
      "metadata": {
        "colab": {
          "base_uri": "https://localhost:8080/",
          "height": 424
        },
        "id": "HplNyq17OG_X",
        "outputId": "655f84cf-5af8-42b4-e383-085f2901eeb0"
      },
      "outputs": [
        {
          "data": {
            "text/html": [
              "<div>\n",
              "<style scoped>\n",
              "    .dataframe tbody tr th:only-of-type {\n",
              "        vertical-align: middle;\n",
              "    }\n",
              "\n",
              "    .dataframe tbody tr th {\n",
              "        vertical-align: top;\n",
              "    }\n",
              "\n",
              "    .dataframe thead th {\n",
              "        text-align: right;\n",
              "    }\n",
              "</style>\n",
              "<table border=\"1\" class=\"dataframe\">\n",
              "  <thead>\n",
              "    <tr style=\"text-align: right;\">\n",
              "      <th></th>\n",
              "      <th>id</th>\n",
              "      <th>public_petition_text</th>\n",
              "      <th>reason_category</th>\n",
              "    </tr>\n",
              "  </thead>\n",
              "  <tbody>\n",
              "    <tr>\n",
              "      <th>10014</th>\n",
              "      <td>3041543</td>\n",
              "      <td>На протяжении нескольких дней из крана идет гр...</td>\n",
              "      <td>Водоснабжение</td>\n",
              "    </tr>\n",
              "    <tr>\n",
              "      <th>29860</th>\n",
              "      <td>3296230</td>\n",
              "      <td>граффити на стенде детской площадки</td>\n",
              "      <td>Благоустройство</td>\n",
              "    </tr>\n",
              "    <tr>\n",
              "      <th>47582</th>\n",
              "      <td>3322077</td>\n",
              "      <td>По адресу пер. Джамбула д. 12 на фасаде МКД на...</td>\n",
              "      <td>Нарушение правил пользования общим имуществом</td>\n",
              "    </tr>\n",
              "    <tr>\n",
              "      <th>27828</th>\n",
              "      <td>3080599</td>\n",
              "      <td>Бумажные объявления на ТСОДД</td>\n",
              "      <td>Благоустройство</td>\n",
              "    </tr>\n",
              "    <tr>\n",
              "      <th>10170</th>\n",
              "      <td>3301487</td>\n",
              "      <td>ямы на дороге</td>\n",
              "      <td>Благоустройство</td>\n",
              "    </tr>\n",
              "    <tr>\n",
              "      <th>...</th>\n",
              "      <td>...</td>\n",
              "      <td>...</td>\n",
              "      <td>...</td>\n",
              "    </tr>\n",
              "    <tr>\n",
              "      <th>36775</th>\n",
              "      <td>3041604</td>\n",
              "      <td>Незаконная торговля не пресечена</td>\n",
              "      <td>Незаконная реализация товаров с торгового обор...</td>\n",
              "    </tr>\n",
              "    <tr>\n",
              "      <th>39271</th>\n",
              "      <td>2994297</td>\n",
              "      <td>Надписи на будке.</td>\n",
              "      <td>Благоустройство</td>\n",
              "    </tr>\n",
              "    <tr>\n",
              "      <th>44990</th>\n",
              "      <td>3236936</td>\n",
              "      <td>Снег, лед. Необходимо убрать</td>\n",
              "      <td>Благоустройство</td>\n",
              "    </tr>\n",
              "    <tr>\n",
              "      <th>59226</th>\n",
              "      <td>3245246</td>\n",
              "      <td>Влажное подметание лестничных площадок и марше...</td>\n",
              "      <td>Содержание МКД</td>\n",
              "    </tr>\n",
              "    <tr>\n",
              "      <th>25841</th>\n",
              "      <td>3181446</td>\n",
              "      <td>Затоплен подвал грязевой жижей, воняет. Парадн...</td>\n",
              "      <td>Водоснабжение</td>\n",
              "    </tr>\n",
              "  </tbody>\n",
              "</table>\n",
              "<p>10000 rows × 3 columns</p>\n",
              "</div>"
            ],
            "text/plain": [
              "            id                               public_petition_text   \n",
              "10014  3041543  На протяжении нескольких дней из крана идет гр...  \\\n",
              "29860  3296230                граффити на стенде детской площадки   \n",
              "47582  3322077  По адресу пер. Джамбула д. 12 на фасаде МКД на...   \n",
              "27828  3080599                       Бумажные объявления на ТСОДД   \n",
              "10170  3301487                                      ямы на дороге   \n",
              "...        ...                                                ...   \n",
              "36775  3041604                   Незаконная торговля не пресечена   \n",
              "39271  2994297                                  Надписи на будке.   \n",
              "44990  3236936                       Снег, лед. Необходимо убрать   \n",
              "59226  3245246  Влажное подметание лестничных площадок и марше...   \n",
              "25841  3181446  Затоплен подвал грязевой жижей, воняет. Парадн...   \n",
              "\n",
              "                                         reason_category  \n",
              "10014                                      Водоснабжение  \n",
              "29860                                    Благоустройство  \n",
              "47582      Нарушение правил пользования общим имуществом  \n",
              "27828                                    Благоустройство  \n",
              "10170                                    Благоустройство  \n",
              "...                                                  ...  \n",
              "36775  Незаконная реализация товаров с торгового обор...  \n",
              "39271                                    Благоустройство  \n",
              "44990                                    Благоустройство  \n",
              "59226                                     Содержание МКД  \n",
              "25841                                      Водоснабжение  \n",
              "\n",
              "[10000 rows x 3 columns]"
            ]
          },
          "execution_count": 3,
          "metadata": {},
          "output_type": "execute_result"
        }
      ],
      "source": [
        "df = pd.read_csv(\"../datasets/Petitions.csv\")\n",
        "corpus = df.sample(10000, replace=None, random_state=0)\n",
        "corpus"
      ]
    },
    {
      "cell_type": "code",
      "execution_count": 4,
      "metadata": {
        "colab": {
          "base_uri": "https://localhost:8080/"
        },
        "id": "Ham_sq84OOyI",
        "outputId": "5acf6d1a-d2d2-424b-9b4c-d86f31f3b074"
      },
      "outputs": [],
      "source": [
        "corpus_text = corpus[\"public_petition_text\"]\n",
        "corpus_text_category = corpus[\"reason_category\"]"
      ]
    },
    {
      "cell_type": "code",
      "execution_count": 5,
      "metadata": {
        "id": "kXOB8qkfPOD3"
      },
      "outputs": [
        {
          "name": "stdout",
          "output_type": "stream",
          "text": [
            "10014    На протяжении нескольких дней из крана идет гр...\n",
            "29860                  граффити на стенде детской площадки\n",
            "47582    По адресу пер. Джамбула д. 12 на фасаде МКД на...\n",
            "27828                         Бумажные объявления на ТСОДД\n",
            "10170                                        ямы на дороге\n",
            "                               ...                        \n",
            "36775                     Незаконная торговля не пресечена\n",
            "39271                                    Надписи на будке.\n",
            "44990                         Снег, лед. Необходимо убрать\n",
            "59226    Влажное подметание лестничных площадок и марше...\n",
            "25841    Затоплен подвал грязевой жижей, воняет. Парадн...\n",
            "Name: public_petition_text, Length: 10000, dtype: object\n"
          ]
        }
      ],
      "source": [
        "print(corpus_text)"
      ]
    },
    {
      "cell_type": "code",
      "execution_count": 176,
      "metadata": {
        "id": "Nqkfy_egmVRW"
      },
      "outputs": [],
      "source": [
        "from nltk.corpus import stopwords\n",
        "def prepare_data(corpus):\n",
        "    morph = MorphAnalyzer()\n",
        "    from nltk.corpus import stopwords\n",
        "    stopwords = stopwords.words('russian')\n",
        "    prepared_data = []\n",
        "    for petition in corpus:   \n",
        "        data = petition.lower()\n",
        "        data1 = re.sub('[\\\\r|\\\\n]+', ' ', data)\n",
        "        data2 = re.sub('[a-zA-Z]+', '', data1)\n",
        "        data3 = re.sub('[0-9]+', '', data2)\n",
        "        data4 = re.sub('[^\\s^\\w]+', '', data3)\n",
        "        data5 = list(tokenize(data4))\n",
        "        data6 = map(lambda x: x.text , data5)\n",
        "        data7 = map(lambda x: morph.normal_forms(x)[0], data6)\n",
        "        data8 = [w for w in data7 if w not in stopwords]\n",
        "        data9 = [navec[x] for x in data8 if x in navec]\n",
        "        prepared_data.append(data9)\n",
        "    return prepared_data"
      ]
    },
    {
      "cell_type": "code",
      "execution_count": 177,
      "metadata": {
        "id": "YtvoLM4_q5pW"
      },
      "outputs": [],
      "source": [
        "corpus_text_prep = prepare_data(corpus_text)"
      ]
    },
    {
      "cell_type": "code",
      "execution_count": 178,
      "metadata": {},
      "outputs": [
        {
          "data": {
            "text/plain": [
              "(19, 300)"
            ]
          },
          "execution_count": 178,
          "metadata": {},
          "output_type": "execute_result"
        }
      ],
      "source": [
        "np.array(corpus_text_prep[2]).shape"
      ]
    },
    {
      "cell_type": "code",
      "execution_count": 118,
      "metadata": {},
      "outputs": [],
      "source": [
        "from sklearn.preprocessing import LabelEncoder"
      ]
    },
    {
      "cell_type": "code",
      "execution_count": 127,
      "metadata": {},
      "outputs": [
        {
          "data": {
            "text/plain": [
              "{0: 'Благоустройство',\n",
              " 1: 'Водоотведение',\n",
              " 2: 'Водоснабжение',\n",
              " 3: 'Кровля',\n",
              " 4: 'Нарушение порядка пользования общим имуществом',\n",
              " 5: 'Нарушение правил пользования общим имуществом',\n",
              " 6: 'Незаконная информационная и (или) рекламная конструкция',\n",
              " 7: 'Незаконная реализация товаров с торгового оборудования (прилавок, ящик, с земли)',\n",
              " 8: 'Повреждения или неисправность элементов уличной инфраструктуры',\n",
              " 9: 'Подвалы',\n",
              " 10: 'Санитарное состояние',\n",
              " 11: 'Содержание МКД',\n",
              " 12: 'Состояние рекламных или информационных конструкций',\n",
              " 13: 'Фасад',\n",
              " 14: 'Центральное отопление'}"
            ]
          },
          "execution_count": 127,
          "metadata": {},
          "output_type": "execute_result"
        }
      ],
      "source": [
        "le = LabelEncoder()\n",
        "corpus_text_category_encoded = le.fit_transform(corpus_text_category)\n",
        "dict(zip(range(0, len(set(corpus_text_category_encoded))),le.inverse_transform(list(set(corpus_text_category_encooded)))))"
      ]
    },
    {
      "cell_type": "code",
      "execution_count": 184,
      "metadata": {},
      "outputs": [],
      "source": [
        "X_train, X_test, y_train, y_test = train_test_split(corpus_text_prep, corpus_text_category_encooded, test_size=0.2)\n"
      ]
    },
    {
      "cell_type": "code",
      "execution_count": 187,
      "metadata": {},
      "outputs": [
        {
          "data": {
            "text/plain": [
              "list"
            ]
          },
          "execution_count": 187,
          "metadata": {},
          "output_type": "execute_result"
        }
      ],
      "source": []
    },
    {
      "cell_type": "code",
      "execution_count": 182,
      "metadata": {},
      "outputs": [],
      "source": [
        "class Rnn(nn.Module):\n",
        "    def __init__(self):\n",
        "        super(Rnn, self).__init__()\n",
        "        self.rnn = nn.RNN(300, 32)\n",
        "        self.first_linear = nn.Linear(32, 15)\n",
        "    def forward(self, x):\n",
        "        y = self.rnn(x)\n",
        "        y = self.first_linear(y)\n",
        "        return y"
      ]
    },
    {
      "cell_type": "code",
      "execution_count": 183,
      "metadata": {},
      "outputs": [],
      "source": [
        "loss = nn.CrossEntropyLoss()\n",
        "model = Rnn()\n",
        "model.to(device)\n",
        "optimizer = torch.optim.Adam(model.parameters(), lr=0.0005)"
      ]
    },
    {
      "cell_type": "code",
      "execution_count": 188,
      "metadata": {},
      "outputs": [
        {
          "ename": "RuntimeError",
          "evalue": "Input and parameter tensors are not the same dtype, found input tensor with Half and parameter tensor with Float",
          "output_type": "error",
          "traceback": [
            "\u001b[1;31m---------------------------------------------------------------------------\u001b[0m",
            "\u001b[1;31mRuntimeError\u001b[0m                              Traceback (most recent call last)",
            "\u001b[1;32mf:\\ML\\notebooks\\Лр2_NLP.ipynb Cell 15\u001b[0m line \u001b[0;36m1\n\u001b[0;32m      <a href='vscode-notebook-cell:/f%3A/ML/notebooks/%D0%9B%D1%802_NLP.ipynb#X52sZmlsZQ%3D%3D?line=7'>8</a>\u001b[0m optimizer\u001b[39m.\u001b[39mzero_grad()\n\u001b[0;32m      <a href='vscode-notebook-cell:/f%3A/ML/notebooks/%D0%9B%D1%802_NLP.ipynb#X52sZmlsZQ%3D%3D?line=8'>9</a>\u001b[0m batch\u001b[39m+\u001b[39m\u001b[39m=\u001b[39m\u001b[39m1\u001b[39m\n\u001b[1;32m---> <a href='vscode-notebook-cell:/f%3A/ML/notebooks/%D0%9B%D1%802_NLP.ipynb#X52sZmlsZQ%3D%3D?line=9'>10</a>\u001b[0m outputs \u001b[39m=\u001b[39m model(x)\n\u001b[0;32m     <a href='vscode-notebook-cell:/f%3A/ML/notebooks/%D0%9B%D1%802_NLP.ipynb#X52sZmlsZQ%3D%3D?line=10'>11</a>\u001b[0m loss_value \u001b[39m=\u001b[39m loss(outputs, y)\n\u001b[0;32m     <a href='vscode-notebook-cell:/f%3A/ML/notebooks/%D0%9B%D1%802_NLP.ipynb#X52sZmlsZQ%3D%3D?line=11'>12</a>\u001b[0m loss_value\u001b[39m.\u001b[39mbackward()\n",
            "File \u001b[1;32mc:\\Users\\XE\\AppData\\Local\\Programs\\Python\\Python311\\Lib\\site-packages\\torch\\nn\\modules\\module.py:1501\u001b[0m, in \u001b[0;36mModule._call_impl\u001b[1;34m(self, *args, **kwargs)\u001b[0m\n\u001b[0;32m   1496\u001b[0m \u001b[39m# If we don't have any hooks, we want to skip the rest of the logic in\u001b[39;00m\n\u001b[0;32m   1497\u001b[0m \u001b[39m# this function, and just call forward.\u001b[39;00m\n\u001b[0;32m   1498\u001b[0m \u001b[39mif\u001b[39;00m \u001b[39mnot\u001b[39;00m (\u001b[39mself\u001b[39m\u001b[39m.\u001b[39m_backward_hooks \u001b[39mor\u001b[39;00m \u001b[39mself\u001b[39m\u001b[39m.\u001b[39m_backward_pre_hooks \u001b[39mor\u001b[39;00m \u001b[39mself\u001b[39m\u001b[39m.\u001b[39m_forward_hooks \u001b[39mor\u001b[39;00m \u001b[39mself\u001b[39m\u001b[39m.\u001b[39m_forward_pre_hooks\n\u001b[0;32m   1499\u001b[0m         \u001b[39mor\u001b[39;00m _global_backward_pre_hooks \u001b[39mor\u001b[39;00m _global_backward_hooks\n\u001b[0;32m   1500\u001b[0m         \u001b[39mor\u001b[39;00m _global_forward_hooks \u001b[39mor\u001b[39;00m _global_forward_pre_hooks):\n\u001b[1;32m-> 1501\u001b[0m     \u001b[39mreturn\u001b[39;00m forward_call(\u001b[39m*\u001b[39;49margs, \u001b[39m*\u001b[39;49m\u001b[39m*\u001b[39;49mkwargs)\n\u001b[0;32m   1502\u001b[0m \u001b[39m# Do not call functions when jit is used\u001b[39;00m\n\u001b[0;32m   1503\u001b[0m full_backward_hooks, non_full_backward_hooks \u001b[39m=\u001b[39m [], []\n",
            "\u001b[1;32mf:\\ML\\notebooks\\Лр2_NLP.ipynb Cell 15\u001b[0m line \u001b[0;36m7\n\u001b[0;32m      <a href='vscode-notebook-cell:/f%3A/ML/notebooks/%D0%9B%D1%802_NLP.ipynb#X52sZmlsZQ%3D%3D?line=5'>6</a>\u001b[0m \u001b[39mdef\u001b[39;00m \u001b[39mforward\u001b[39m(\u001b[39mself\u001b[39m, x):\n\u001b[1;32m----> <a href='vscode-notebook-cell:/f%3A/ML/notebooks/%D0%9B%D1%802_NLP.ipynb#X52sZmlsZQ%3D%3D?line=6'>7</a>\u001b[0m     y \u001b[39m=\u001b[39m \u001b[39mself\u001b[39;49m\u001b[39m.\u001b[39;49mrnn(x)\n\u001b[0;32m      <a href='vscode-notebook-cell:/f%3A/ML/notebooks/%D0%9B%D1%802_NLP.ipynb#X52sZmlsZQ%3D%3D?line=7'>8</a>\u001b[0m     y \u001b[39m=\u001b[39m \u001b[39mself\u001b[39m\u001b[39m.\u001b[39mfirst_linear(y)\n\u001b[0;32m      <a href='vscode-notebook-cell:/f%3A/ML/notebooks/%D0%9B%D1%802_NLP.ipynb#X52sZmlsZQ%3D%3D?line=8'>9</a>\u001b[0m     \u001b[39mreturn\u001b[39;00m y\n",
            "File \u001b[1;32mc:\\Users\\XE\\AppData\\Local\\Programs\\Python\\Python311\\Lib\\site-packages\\torch\\nn\\modules\\module.py:1501\u001b[0m, in \u001b[0;36mModule._call_impl\u001b[1;34m(self, *args, **kwargs)\u001b[0m\n\u001b[0;32m   1496\u001b[0m \u001b[39m# If we don't have any hooks, we want to skip the rest of the logic in\u001b[39;00m\n\u001b[0;32m   1497\u001b[0m \u001b[39m# this function, and just call forward.\u001b[39;00m\n\u001b[0;32m   1498\u001b[0m \u001b[39mif\u001b[39;00m \u001b[39mnot\u001b[39;00m (\u001b[39mself\u001b[39m\u001b[39m.\u001b[39m_backward_hooks \u001b[39mor\u001b[39;00m \u001b[39mself\u001b[39m\u001b[39m.\u001b[39m_backward_pre_hooks \u001b[39mor\u001b[39;00m \u001b[39mself\u001b[39m\u001b[39m.\u001b[39m_forward_hooks \u001b[39mor\u001b[39;00m \u001b[39mself\u001b[39m\u001b[39m.\u001b[39m_forward_pre_hooks\n\u001b[0;32m   1499\u001b[0m         \u001b[39mor\u001b[39;00m _global_backward_pre_hooks \u001b[39mor\u001b[39;00m _global_backward_hooks\n\u001b[0;32m   1500\u001b[0m         \u001b[39mor\u001b[39;00m _global_forward_hooks \u001b[39mor\u001b[39;00m _global_forward_pre_hooks):\n\u001b[1;32m-> 1501\u001b[0m     \u001b[39mreturn\u001b[39;00m forward_call(\u001b[39m*\u001b[39;49margs, \u001b[39m*\u001b[39;49m\u001b[39m*\u001b[39;49mkwargs)\n\u001b[0;32m   1502\u001b[0m \u001b[39m# Do not call functions when jit is used\u001b[39;00m\n\u001b[0;32m   1503\u001b[0m full_backward_hooks, non_full_backward_hooks \u001b[39m=\u001b[39m [], []\n",
            "File \u001b[1;32mc:\\Users\\XE\\AppData\\Local\\Programs\\Python\\Python311\\Lib\\site-packages\\torch\\nn\\modules\\rnn.py:509\u001b[0m, in \u001b[0;36mRNN.forward\u001b[1;34m(self, input, hx)\u001b[0m\n\u001b[0;32m    507\u001b[0m \u001b[39mif\u001b[39;00m batch_sizes \u001b[39mis\u001b[39;00m \u001b[39mNone\u001b[39;00m:\n\u001b[0;32m    508\u001b[0m     \u001b[39mif\u001b[39;00m \u001b[39mself\u001b[39m\u001b[39m.\u001b[39mmode \u001b[39m==\u001b[39m \u001b[39m'\u001b[39m\u001b[39mRNN_TANH\u001b[39m\u001b[39m'\u001b[39m:\n\u001b[1;32m--> 509\u001b[0m         result \u001b[39m=\u001b[39m _VF\u001b[39m.\u001b[39;49mrnn_tanh(\u001b[39minput\u001b[39;49m, hx, \u001b[39mself\u001b[39;49m\u001b[39m.\u001b[39;49m_flat_weights, \u001b[39mself\u001b[39;49m\u001b[39m.\u001b[39;49mbias, \u001b[39mself\u001b[39;49m\u001b[39m.\u001b[39;49mnum_layers,\n\u001b[0;32m    510\u001b[0m                               \u001b[39mself\u001b[39;49m\u001b[39m.\u001b[39;49mdropout, \u001b[39mself\u001b[39;49m\u001b[39m.\u001b[39;49mtraining, \u001b[39mself\u001b[39;49m\u001b[39m.\u001b[39;49mbidirectional,\n\u001b[0;32m    511\u001b[0m                               \u001b[39mself\u001b[39;49m\u001b[39m.\u001b[39;49mbatch_first)\n\u001b[0;32m    512\u001b[0m     \u001b[39melse\u001b[39;00m:\n\u001b[0;32m    513\u001b[0m         result \u001b[39m=\u001b[39m _VF\u001b[39m.\u001b[39mrnn_relu(\u001b[39minput\u001b[39m, hx, \u001b[39mself\u001b[39m\u001b[39m.\u001b[39m_flat_weights, \u001b[39mself\u001b[39m\u001b[39m.\u001b[39mbias, \u001b[39mself\u001b[39m\u001b[39m.\u001b[39mnum_layers,\n\u001b[0;32m    514\u001b[0m                               \u001b[39mself\u001b[39m\u001b[39m.\u001b[39mdropout, \u001b[39mself\u001b[39m\u001b[39m.\u001b[39mtraining, \u001b[39mself\u001b[39m\u001b[39m.\u001b[39mbidirectional,\n\u001b[0;32m    515\u001b[0m                               \u001b[39mself\u001b[39m\u001b[39m.\u001b[39mbatch_first)\n",
            "\u001b[1;31mRuntimeError\u001b[0m: Input and parameter tensors are not the same dtype, found input tensor with Half and parameter tensor with Float"
          ]
        }
      ],
      "source": [
        "epochs = 5\n",
        "for epoch in range(epochs):\n",
        "    batch = 0\n",
        "    for i in range(len(X_train)):\n",
        "        x, y = torch.Tensor(X_train[i]).type(torch.float16), torch.Tensor(y_train[i]).type(torch.float16)\n",
        "        x = x.to(device)\n",
        "        y = y.to(device)\n",
        "        optimizer.zero_grad()\n",
        "        batch+=1\n",
        "        outputs = model(x)\n",
        "        loss_value = loss(outputs, y)\n",
        "        loss_value.backward()\n",
        "        \n",
        "        optimizer.step()\n",
        "        \n",
        "        sys.stderr.write(f'Батч {batch + 1}/{len(dl)}, Значение функции потерь: {loss_value.item()}\\r')\n",
        "\n",
        "    print(f'Эпоха {epoch + 1}, Значение функции потерь: {loss_value.item()}')"
      ]
    },
    {
      "cell_type": "code",
      "execution_count": 33,
      "metadata": {},
      "outputs": [],
      "source": [
        "model.to(\"cpu\")\n",
        "cbow_mt = []\n",
        "for i in vocab:\n",
        "    cbow_mt.append(model.first_linear(model.embedder(torch.tensor(metadata[i]))).detach().numpy())"
      ]
    },
    {
      "cell_type": "code",
      "execution_count": 36,
      "metadata": {},
      "outputs": [],
      "source": [
        "cbow_mt1 = pd.DataFrame(cbow_mt)"
      ]
    },
    {
      "cell_type": "code",
      "execution_count": 37,
      "metadata": {},
      "outputs": [],
      "source": [
        "with open('cbow_mt.tsv','w', encoding=\"utf-8\") as write_tsv:\n",
        "    write_tsv.write(cbow_mt1.to_csv(sep='\\t', index=False))"
      ]
    }
  ],
  "metadata": {
    "colab": {
      "provenance": []
    },
    "kernelspec": {
      "display_name": "Python 3",
      "name": "python3"
    },
    "language_info": {
      "codemirror_mode": {
        "name": "ipython",
        "version": 3
      },
      "file_extension": ".py",
      "mimetype": "text/x-python",
      "name": "python",
      "nbconvert_exporter": "python",
      "pygments_lexer": "ipython3",
      "version": "3.11.3"
    }
  },
  "nbformat": 4,
  "nbformat_minor": 0
}
