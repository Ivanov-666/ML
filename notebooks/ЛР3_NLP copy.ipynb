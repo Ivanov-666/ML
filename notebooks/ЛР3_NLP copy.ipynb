{
 "cells": [
  {
   "cell_type": "code",
   "execution_count": 31,
   "metadata": {},
   "outputs": [
    {
     "name": "stderr",
     "output_type": "stream",
     "text": [
      "C:\\Users\\XE\\AppData\\Local\\Temp\\ipykernel_1348\\3478127182.py:2: ParserWarning: Falling back to the 'python' engine because the 'c' engine does not support regex separators (separators > 1 char and different from '\\s+' are interpreted as regex); you can avoid this warning by specifying engine='python'.\n",
      "  df_en = pd.read_csv(r'C:\\Users\\XE\\Downloads\\1mcorpus\\corpus.en_ru.1m.en', encoding=\"utf-8\", names=[\"seq_en\"], sep='\\r\\n')\n",
      "C:\\Users\\XE\\AppData\\Local\\Temp\\ipykernel_1348\\3478127182.py:3: ParserWarning: Falling back to the 'python' engine because the 'c' engine does not support regex separators (separators > 1 char and different from '\\s+' are interpreted as regex); you can avoid this warning by specifying engine='python'.\n",
      "  df_ru = pd.read_csv(r'C:\\Users\\XE\\Downloads\\1mcorpus\\corpus.en_ru.1m.ru', encoding=\"utf-8\", names=[\"seq_ru\"], sep='\\r\\n')\n"
     ]
    }
   ],
   "source": [
    "import pandas as pd\n",
    "df_en = pd.read_csv(r'C:\\Users\\XE\\Downloads\\1mcorpus\\corpus.en_ru.1m.en', encoding=\"utf-8\", names=[\"seq_en\"], sep='\\r\\n')\n",
    "df_ru = pd.read_csv(r'C:\\Users\\XE\\Downloads\\1mcorpus\\corpus.en_ru.1m.ru', encoding=\"utf-8\", names=[\"seq_ru\"], sep='\\r\\n')"
   ]
  },
  {
   "cell_type": "code",
   "execution_count": 32,
   "metadata": {},
   "outputs": [],
   "source": [
    "df_en = df_en.sample(100000, random_state=0)\n",
    "df_ru = df_ru.sample(100000, random_state=0)"
   ]
  },
  {
   "cell_type": "code",
   "execution_count": 33,
   "metadata": {},
   "outputs": [],
   "source": [
    "df_en.to_csv(\"../datasets/NMT_en\")\n",
    "df_en.to_csv(\"../datasets/NMT_ru\")"
   ]
  },
  {
   "cell_type": "code",
   "execution_count": 52,
   "metadata": {},
   "outputs": [],
   "source": [
    "df = df_en.join(df_ru)"
   ]
  },
  {
   "cell_type": "code",
   "execution_count": 61,
   "metadata": {},
   "outputs": [],
   "source": [
    "df.to_csv(\"../datasets/NMT_en_ru\")"
   ]
  },
  {
   "cell_type": "code",
   "execution_count": 1,
   "metadata": {},
   "outputs": [],
   "source": [
    "import torch.nn as nn\n",
    "import torch\n",
    "import pandas as pd\n",
    "import numpy as np\n",
    "from sklearn.model_selection import train_test_split\n",
    "import sys\n",
    "from torch.utils.data import TensorDataset, DataLoader\n",
    "import re\n",
    "from pymorphy3 import MorphAnalyzer\n",
    "from nltk.corpus import stopwords\n",
    "from razdel import tokenize\n",
    "from nltk.tokenize import word_tokenize\n",
    "from navec import Navec"
   ]
  },
  {
   "cell_type": "code",
   "execution_count": 2,
   "metadata": {},
   "outputs": [],
   "source": [
    "import torchtext\n",
    "import torchdata\n",
    "from torchtext import transforms\n",
    "from torchdata import datapipes"
   ]
  },
  {
   "cell_type": "code",
   "execution_count": 68,
   "metadata": {},
   "outputs": [],
   "source": [
    "data_pipe_ru = datapipes.iter.IterableWrapper([\"../datasets/NMT_ru\"])\n",
    "data_pipe_en = datapipes.iter.IterableWrapper([\"../datasets/NMT_en\"])"
   ]
  },
  {
   "cell_type": "code",
   "execution_count": 69,
   "metadata": {},
   "outputs": [],
   "source": [
    "data_pipe_ru = datapipes.iter.FileOpener(data_pipe_ru, mode='r', encoding='utf-8')\n",
    "data_pipe_en = datapipes.iter.FileOpener(data_pipe_en, mode='r', encoding='utf-8')"
   ]
  },
  {
   "cell_type": "code",
   "execution_count": 70,
   "metadata": {},
   "outputs": [],
   "source": [
    "data_pipe_ru = data_pipe_ru.parse_csv(skip_lines=0)\n",
    "data_pipe_en = data_pipe_en.parse_csv(skip_lines=0)"
   ]
  },
  {
   "cell_type": "code",
   "execution_count": 71,
   "metadata": {},
   "outputs": [],
   "source": [
    "def tokenize_en(data: str) -> list[str]:\n",
    "  data1 = re.sub(\"([.!?])\", \" \", str(data))\n",
    "  data2 = re.sub(\"[^\\s^\\w^']+\", \" \", data1)\n",
    "  data3 = word_tokenize(data2)\n",
    "  return data3"
   ]
  },
  {
   "cell_type": "code",
   "execution_count": 72,
   "metadata": {},
   "outputs": [],
   "source": [
    "def tokenize_ru(data: str) -> list[str]:\n",
    "  data1 = re.sub(\"([.!?])\", \" \", str(data))\n",
    "  data2 = re.sub(\"[^\\s^\\w^']+\", \" \", data1)\n",
    "  data3 = tokenize(data2)\n",
    "  return list(map(lambda x: x.text , data3))"
   ]
  },
  {
   "cell_type": "code",
   "execution_count": 73,
   "metadata": {},
   "outputs": [],
   "source": [
    "def yield_tokens_en(data_iter: datapipes.iter.IterDataPipe):\n",
    "  # итерируемся по набору данных\n",
    "  for example in data_iter:\n",
    "    yield tokenize_en(example)"
   ]
  },
  {
   "cell_type": "code",
   "execution_count": 74,
   "metadata": {},
   "outputs": [],
   "source": [
    "def yield_tokens_ru(data_iter: datapipes.iter.IterDataPipe):\n",
    "  # итерируемся по набору данных\n",
    "  for example in data_iter:\n",
    "    yield tokenize_ru(example)"
   ]
  },
  {
   "cell_type": "code",
   "execution_count": 75,
   "metadata": {},
   "outputs": [],
   "source": [
    "from torchtext.vocab import build_vocab_from_iterator"
   ]
  },
  {
   "cell_type": "code",
   "execution_count": 76,
   "metadata": {},
   "outputs": [],
   "source": [
    "vocab_en = build_vocab_from_iterator(\n",
    "    yield_tokens_en(data_pipe_en),\n",
    "    min_freq=1,\n",
    "    specials= ['<pad>', '<sos>', '<eos>', '<unk>'],\n",
    "    special_first=True\n",
    ")\n",
    "vocab_en.set_default_index(vocab_en['<unk>'])"
   ]
  },
  {
   "cell_type": "code",
   "execution_count": 77,
   "metadata": {},
   "outputs": [],
   "source": [
    "vocab_ru = build_vocab_from_iterator(\n",
    "    yield_tokens_ru(data_pipe_ru),\n",
    "    min_freq=1,\n",
    "    specials= ['<pad>', '<sos>', '<eos>', '<unk>'],\n",
    "    special_first=True\n",
    ")\n",
    "vocab_ru.set_default_index(vocab_ru['<unk>'])"
   ]
  },
  {
   "cell_type": "code",
   "execution_count": 78,
   "metadata": {},
   "outputs": [],
   "source": [
    "from torchtext import transforms"
   ]
  },
  {
   "cell_type": "code",
   "execution_count": 79,
   "metadata": {},
   "outputs": [],
   "source": [
    "def vocab_transform(vocab: torchtext.vocab.Vocab) -> transforms.Sequential:\n",
    "    text_tranform = transforms.Sequential(\n",
    "        transforms.VocabTransform(vocab=vocab),\n",
    "        transforms.AddToken(vocab['<sos>'], begin=True),\n",
    "        transforms.AddToken(vocab['<eos>'], begin=False)\n",
    "    )\n",
    "    return text_tranform"
   ]
  },
  {
   "cell_type": "code",
   "execution_count": 80,
   "metadata": {},
   "outputs": [],
   "source": [
    "def apply_vocab_transform_en(sample):\n",
    "    return (\n",
    "        vocab_transform(vocab_en)(tokenize_en(sample)),\n",
    "    )"
   ]
  },
  {
   "cell_type": "code",
   "execution_count": 81,
   "metadata": {},
   "outputs": [],
   "source": [
    "def apply_vocab_transform_ru(sample):\n",
    "    return (\n",
    "        vocab_transform(vocab_ru)(tokenize_ru(sample)),\n",
    "    )"
   ]
  },
  {
   "cell_type": "code",
   "execution_count": 82,
   "metadata": {},
   "outputs": [],
   "source": [
    "data_pipe_en = data_pipe_en.map(apply_vocab_transform_en)"
   ]
  },
  {
   "cell_type": "code",
   "execution_count": 83,
   "metadata": {},
   "outputs": [],
   "source": [
    "data_pipe_ru = data_pipe_ru.map(apply_vocab_transform_en)"
   ]
  },
  {
   "cell_type": "code",
   "execution_count": 84,
   "metadata": {},
   "outputs": [],
   "source": [
    "def apply_padding_en(pair):\n",
    "    return transforms.ToTensor(vocab_en['<pad>'])(list(pair))\n",
    "\n",
    "data_pipe_en = data_pipe_en.map(apply_padding_en)"
   ]
  },
  {
   "cell_type": "code",
   "execution_count": 85,
   "metadata": {},
   "outputs": [],
   "source": [
    "def apply_padding_ru(pair):\n",
    "    return transforms.ToTensor(vocab_ru['<pad>'])(list(pair))\n",
    "\n",
    "data_pipe_ru = data_pipe_ru.map(apply_padding_ru)"
   ]
  },
  {
   "cell_type": "code",
   "execution_count": 92,
   "metadata": {},
   "outputs": [],
   "source": [
    "ts_en = list(data_pipe_en)\n",
    "ts_ry = list(data_pipe_ru)"
   ]
  },
  {
   "cell_type": "code",
   "execution_count": 94,
   "metadata": {},
   "outputs": [
    {
     "data": {
      "text/plain": [
       "tensor([[    1, 64168,     4,   127,    40,  4013,  1969,   125, 32465,    33,\n",
       "         21800,   378,    10,  8444,    11,   130,     4,     2]])"
      ]
     },
     "execution_count": 94,
     "metadata": {},
     "output_type": "execute_result"
    }
   ],
   "source": [
    "ts[4]"
   ]
  }
 ],
 "metadata": {
  "kernelspec": {
   "display_name": "Python 3",
   "language": "python",
   "name": "python3"
  },
  "language_info": {
   "codemirror_mode": {
    "name": "ipython",
    "version": 3
   },
   "file_extension": ".py",
   "mimetype": "text/x-python",
   "name": "python",
   "nbconvert_exporter": "python",
   "pygments_lexer": "ipython3",
   "version": "3.11.3"
  }
 },
 "nbformat": 4,
 "nbformat_minor": 2
}
