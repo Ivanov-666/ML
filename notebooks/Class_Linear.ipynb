{
 "cells": [
  {
   "cell_type": "code",
   "execution_count": 127,
   "id": "42d1ad9e",
   "metadata": {},
   "outputs": [],
   "source": [
    "import numpy as np\n",
    "import pandas as pd\n",
    "import math"
   ]
  },
  {
   "cell_type": "code",
   "execution_count": 84,
   "id": "06c3e5ec",
   "metadata": {},
   "outputs": [],
   "source": [
    "class LassoRegressionModel:\n",
    "    def __init__(self, education_speed, education_iterations,l1_coef):\n",
    "        self.education_speed = education_speed\n",
    "        self.education_iterations = education_iterations\n",
    "        self.l1_coef = l1_coef\n",
    "        \n",
    "    def Train(self, x, y):\n",
    "        self.x = np.array(x, dtype=np.float64)\n",
    "        self.y = np.array(y, dtype=np.float64)\n",
    "        m = self.x.shape[0]\n",
    "        self.coefs = np.zeros(self.x.shape[1]+1)\n",
    "        list_errors = []\n",
    "        for k in range(self.education_iterations):\n",
    "            for i in range(self.x.shape[1]):\n",
    "                y_base = self.coefs[0]+np.dot(self.x[i],self.coefs[1:])\n",
    "                gradient = np.zeros(self.x.shape[1])\n",
    "                if self.coefs[i+1] > 0 :\n",
    "                    gradient[i] = ( - ( 2 * ( self.x[:, i] ).dot( self.y - y_base ) ) \n",
    "                    + self.l1_coef )/m\n",
    "                else :\n",
    "                    gradient[i] = ( - ( 2 * ( self.x[:, i] ).dot( self.y - y_base ) ) \n",
    "                    - self.l1_coef )/m\n",
    "                gradient_b = - 2 * np.sum( self.y - y_base ) / m \n",
    "            self.coefs[0]-=self.education_speed * gradient_b\n",
    "            self.coefs[1:]-=self.education_speed * gradient\n",
    "        return self\n",
    "    def LassoRegressionPredict(self, x):\n",
    "        y_base = self.coefs[0]\n",
    "        y_base+=np.dot(x,self.coefs[1:])\n",
    "        return y_base"
   ]
  },
  {
   "cell_type": "code",
   "execution_count": 114,
   "id": "395f3818",
   "metadata": {},
   "outputs": [],
   "source": [
    "data = {'Height': [1.52, 1.57, 1.63, 1.68, 1.73, 1.78, 1.83, 1.88, 1.93, 1.98], 'Weight': [52, 57, 63, 68, 75, 82, 89, 97, 105, 113]} \n",
    "df = pd.DataFrame(data)\n",
    "y = df[\"Weight\"]\n",
    "X =  df.drop([\"Weight\"], axis=1)\n",
    "from sklearn.model_selection import train_test_split\n",
    "X_train, X_test, y_train, y_test = train_test_split(X, y, test_size=0.2)\n"
   ]
  },
  {
   "cell_type": "code",
   "execution_count": 115,
   "id": "5237ccc3",
   "metadata": {},
   "outputs": [
    {
     "name": "stdout",
     "output_type": "stream",
     "text": [
      "[101.35496051  65.95445036]\n",
      "9    113\n",
      "1     57\n",
      "Name: Weight, dtype: int64\n"
     ]
    }
   ],
   "source": [
    "m = LassoRegressionModel(0.05, 1000, 0.5).Train(X_train, y_train)\n",
    "predict_y = m.LassoRegressionPredict(X_test)\n",
    "print(predict_y)\n",
    "print(y_test)"
   ]
  },
  {
   "cell_type": "code",
   "execution_count": 129,
   "id": "3b744e6e",
   "metadata": {},
   "outputs": [],
   "source": [
    "def MAE(y, y_pred):\n",
    "    m = y.shape[0]\n",
    "    return (1/m)*np.sum(np.abs(y-y_pred))\n",
    "def MSE(y, y_pred):\n",
    "    m = y.shape[0]\n",
    "    return (1/m)*np.sum((y-y_pred)**2)\n",
    "def RMSE(y, y_pred):\n",
    "    return math.sqrt(MSE(y, y_pred))\n",
    "def MAPE(y, y_pred):\n",
    "    m = y.shape[0]\n",
    "    return (1/m)*np.sum(np.abs((y-y_pred)/y))\n",
    "def R2(y, y_pred):\n",
    "    m = y.shape[0]\n",
    "    y_mean = np.mean(y)\n",
    "    return 1-(MSE(y,y_pred)/((1/m)*np.sum((y-y_mean)**2)*y_mean))"
   ]
  },
  {
   "cell_type": "code",
   "execution_count": 130,
   "id": "765eb01f",
   "metadata": {},
   "outputs": [
    {
     "name": "stdout",
     "output_type": "stream",
     "text": [
      "10.299744920508871\n",
      "107.89456289435958\n",
      "10.387230761582202\n",
      "0.13007453352293868\n",
      "0.9983809339301567\n"
     ]
    }
   ],
   "source": [
    "print(MAE(y_test, predict_y))\n",
    "print(MSE(y_test, predict_y))\n",
    "print(RMSE(y_test, predict_y))\n",
    "print(MAPE(y_test, predict_y))\n",
    "print(R2(y_test, predict_y))"
   ]
  },
  {
   "cell_type": "code",
   "execution_count": null,
   "id": "f941fcf9",
   "metadata": {},
   "outputs": [],
   "source": []
  }
 ],
 "metadata": {
  "kernelspec": {
   "display_name": "Python 3 (ipykernel)",
   "language": "python",
   "name": "python3"
  },
  "language_info": {
   "codemirror_mode": {
    "name": "ipython",
    "version": 3
   },
   "file_extension": ".py",
   "mimetype": "text/x-python",
   "name": "python",
   "nbconvert_exporter": "python",
   "pygments_lexer": "ipython3",
   "version": "3.9.13"
  }
 },
 "nbformat": 4,
 "nbformat_minor": 5
}
