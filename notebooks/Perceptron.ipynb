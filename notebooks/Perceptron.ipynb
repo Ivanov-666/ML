{
 "cells": [
  {
   "cell_type": "code",
   "execution_count": 1,
   "id": "7c7f2ca7",
   "metadata": {},
   "outputs": [],
   "source": [
    "import numpy as np\n",
    "from sklearn.preprocessing import MinMaxScaler\n",
    "from scipy.special import expit, logit"
   ]
  },
  {
   "cell_type": "code",
   "execution_count": 37,
   "id": "5bc843b3",
   "metadata": {},
   "outputs": [],
   "source": [
    "def sigmoid(x):\n",
    "    #return (1.0/(1.0+np.exp(-x)))\n",
    "    return expit(x)\n",
    "def tahn(x):\n",
    "    return np.tanh(x)    \n",
    "def relu(x):\n",
    "    return np.maximum(0,x)\n",
    "def linear(x):\n",
    "    return x\n",
    "def deriv_sigmoid(x):\n",
    "    #return sigmoid(x)*(1-sigmoid(x))\n",
    "    return expit(x)*(1-expit(x))\n",
    "def deriv_tahn(x):\n",
    "    return -4/(np.exp(x)-np.exp(-x))**2\n",
    "def deriv_relu(x):\n",
    "    return (x>0)*1\n",
    "def deriv_linear(x):\n",
    "    return 1\n",
    "def forward_propagation(x_row,layers, activation_functions):\n",
    "    for layer in layers:\n",
    "        x_row = np.dot(layer[\"weights\"],x_row.T)+layer[\"b_coefs\"]\n",
    "        for i in range(len(x_row)):\n",
    "            x_row[i]=activation_functions[layer[\"activation\"]](x_row[i])\n",
    "        layer[\"output\"]=x_row\n",
    "def backward_propagation(layers, y_train, deriv_functions):\n",
    "    errors = []\n",
    "    for j in range(len(layers[-1][\"output\"])):\n",
    "        errors.append(y_train[j]-layers[-1][\"output\"][j])\n",
    "    errors = np.array(errors)\n",
    "    deriv = []\n",
    "    for i in range(len(layers[-1]['output'])):\n",
    "        deriv.append(deriv_functions[layers[-1][\"activation\"]](layers[-1]['output'][i]))\n",
    "    adamar = [errors[j]*deriv[j] for j in range(len(errors))]\n",
    "    layers[-1][\"err\"]=adamar\n",
    "    for i in reversed(range(len(layers)-1)):\n",
    "        error = np.dot(layers[i+1][\"err\"], layers[i+1][\"weights\"])\n",
    "        for j in range(len(layers[i]['output'])):\n",
    "            deriv.append(deriv_functions[layers[i][\"activation\"]](layers[i]['output'][j]))\n",
    "        adamar = [error[j]*deriv[j] for j in range(len(error))]\n",
    "        layers[i][\"err\"]=adamar\n",
    "def update_weights(x_row, layers, learning_rate):\n",
    "    DWl = learning_rate*np.dot(np.array([x_row]).T,np.array([layers[0][\"err\"]]))\n",
    "    layers[0][\"weights\"]+=DWl.T\n",
    "    DBl = np.dot(learning_rate,layers[0][\"err\"])\n",
    "    layers[0][\"b_coefs\"]+=DBl.T\n",
    "    for i in range(1,len(layers)):\n",
    "        inputs = np.array([layers[i-1][\"output\"]])\n",
    "        DWl = learning_rate*np.dot(inputs.T,np.array([layers[i][\"err\"]]))\n",
    "        layers[i][\"weights\"]+=DWl.T\n",
    "        DBl = np.dot(learning_rate,layers[i][\"err\"])\n",
    "        layers[i][\"b_coefs\"]+=DBl.T"
   ]
  },
  {
   "cell_type": "code",
   "execution_count": 38,
   "id": "7957395f",
   "metadata": {},
   "outputs": [],
   "source": [
    "class Perceptron:\n",
    "    def __init__(self, input_layer_size, hidden_layers):\n",
    "        self.activation_functions = dict(sigmoid=sigmoid,tahn=tahn,relu=relu, linear=linear)\n",
    "        self.deriv_functions = dict(sigmoid=deriv_sigmoid,tahn=deriv_tahn,relu=deriv_relu, linear=deriv_linear)\n",
    "        self.layers = []\n",
    "        w = np.random.rand (hidden_layers[0][0], input_layer_size)\n",
    "        b = np.random.rand (hidden_layers[0][0])\n",
    "        self.layers.append(dict(weights=w,b_coefs=b, activation=hidden_layers[0][1]))\n",
    "        for i in range(1, len(hidden_layers)):\n",
    "            w = np.random.rand (hidden_layers[i][0], hidden_layers[i-1][0])\n",
    "            b = np.random.rand (hidden_layers[i][0])\n",
    "            self.layers.append(dict(weights=w,b_coefs=b,activation=hidden_layers[i][1]))\n",
    "    def fit(self, X_train, y_train, learn_rate, epohs):\n",
    "        for ep in range(epohs):\n",
    "            for ind in range((len(X_train))):\n",
    "                forward_propagation(np.array(X_train[ind]), self.layers, self.activation_functions)\n",
    "                backward_propagation(self.layers, y_train[ind], self.deriv_functions)\n",
    "                update_weights(X_train[ind], self.layers, learn_rate)\n",
    "    def predict(self, X_test):\n",
    "        predictions = []\n",
    "        for row in X_test:\n",
    "            forward_propagation(row, self.layers, self.activation_functions)\n",
    "            predictions.append(self.layers[-1][\"output\"])\n",
    "        return predictions"
   ]
  },
  {
   "cell_type": "code",
   "execution_count": 39,
   "id": "a2c04fa4",
   "metadata": {},
   "outputs": [
    {
     "data": {
      "text/plain": [
       "array([[16.81464604, 54.20951909,  5.18005235, 63.5083138 , 93.6190598 ,\n",
       "        70.58882409, 86.96159313, 10.4337126 ,  3.29343253, 70.8523127 ]])"
      ]
     },
     "execution_count": 39,
     "metadata": {},
     "output_type": "execute_result"
    }
   ],
   "source": [
    "from sklearn.linear_model import LinearRegression\n",
    "lr = LinearRegression().fit(X_train, y_train)\n",
    "lr.coef_"
   ]
  },
  {
   "cell_type": "code",
   "execution_count": 40,
   "id": "3e995014",
   "metadata": {},
   "outputs": [
    {
     "name": "stdout",
     "output_type": "stream",
     "text": [
      "[[ -38.89658826]\n",
      " [ 138.76049731]\n",
      " [ -60.65958208]\n",
      " [ -58.8906285 ]\n",
      " [  16.92677163]\n",
      " [ 146.78496357]\n",
      " [  64.61898396]\n",
      " [ 132.92680268]\n",
      " [-355.66423507]\n",
      " [-109.93389215]\n",
      " [-159.58094264]\n",
      " [  38.88223786]\n",
      " [-186.39069357]\n",
      " [ 160.21539642]\n",
      " [ 191.30025868]\n",
      " [-148.35469239]\n",
      " [-354.58646521]\n",
      " [ -46.67504919]\n",
      " [ -98.71664701]\n",
      " [ 262.6559801 ]\n",
      " [ 377.19809646]\n",
      " [-281.19763115]\n",
      " [   0.52152413]\n",
      " [ 161.39291439]\n",
      " [  -9.87089318]\n",
      " [  39.22973697]\n",
      " [-406.36252019]\n",
      " [-365.50150894]\n",
      " [ 211.89573217]\n",
      " [ 197.64298327]\n",
      " [ 190.39562803]\n",
      " [  39.39882104]\n",
      " [  73.22456819]\n",
      " [-103.74951521]\n",
      " [  16.03994359]\n",
      " [ 366.74882215]\n",
      " [  76.77339076]\n",
      " [  85.48801481]\n",
      " [ 465.68844512]\n",
      " [ 179.53139266]\n",
      " [ -60.26144965]\n",
      " [-293.87786497]\n",
      " [  17.1293582 ]\n",
      " [ -77.52083248]\n",
      " [ -98.61248973]\n",
      " [ 238.53269152]\n",
      " [ 373.12354607]\n",
      " [  15.36864403]\n",
      " [ 289.26620865]\n",
      " [-158.15033612]\n",
      " [   3.56714038]\n",
      " [ 416.77316588]\n",
      " [ 255.66531859]\n",
      " [-360.5475471 ]\n",
      " [ 127.99956075]\n",
      " [-145.23488949]\n",
      " [ -38.15125076]\n",
      " [-123.47711619]\n",
      " [  21.82295722]\n",
      " [ 166.0854623 ]]\n"
     ]
    }
   ],
   "source": [
    "from sklearn.datasets import make_regression\n",
    "X, y = make_regression(n_samples=100, n_features=10, noise=1, random_state=42)\n",
    "#obj = MinMaxScaler() \n",
    "y = y.reshape(-1, 1)\n",
    "#X= obj.fit_transform(x)\n",
    "from sklearn.model_selection import train_test_split\n",
    "X_train, X_test, y_train, y_test = train_test_split(X, y, test_size=0.4)\n",
    "print(y_train)"
   ]
  },
  {
   "cell_type": "code",
   "execution_count": 78,
   "id": "5dc8faf7",
   "metadata": {},
   "outputs": [],
   "source": [
    "per = Perceptron(10, [[64,\"sigmoid\"],[32,\"sigmoid\"],[1,\"linear\"]])"
   ]
  },
  {
   "cell_type": "code",
   "execution_count": 79,
   "id": "6eb0cfa1",
   "metadata": {},
   "outputs": [],
   "source": [
    "per.fit(X_train, y_train, 0.005, 10)"
   ]
  },
  {
   "cell_type": "code",
   "execution_count": 80,
   "id": "df0882a5",
   "metadata": {},
   "outputs": [],
   "source": [
    "pred = per.predict(X_test)"
   ]
  },
  {
   "cell_type": "code",
   "execution_count": 81,
   "id": "9131fe27",
   "metadata": {},
   "outputs": [
    {
     "name": "stdout",
     "output_type": "stream",
     "text": [
      "[array([-112.50587018]), array([120.67458904]), array([120.67458904]), array([-112.50587018]), array([-112.50587018]), array([120.67458904]), array([-112.50587018]), array([120.67458904]), array([120.67458904]), array([-112.50587018]), array([120.67458904]), array([120.67458904]), array([120.67458904]), array([-112.50587018]), array([120.67458904]), array([-112.50587018]), array([120.67458904]), array([120.67458904]), array([120.67458904]), array([-112.50587018]), array([-112.50587018]), array([-112.50587018]), array([120.67458904]), array([120.67458904]), array([120.67458904]), array([120.67458904]), array([-112.50587018]), array([-112.50587018]), array([120.67458904]), array([120.67458904]), array([120.67458904]), array([-112.50587018]), array([-112.50587018]), array([-112.50587018]), array([120.67458904]), array([-112.50587018]), array([-112.50587018]), array([-112.50587018]), array([-112.50587018]), array([-112.50587018])]\n"
     ]
    }
   ],
   "source": [
    "print(pred)"
   ]
  },
  {
   "cell_type": "code",
   "execution_count": 82,
   "id": "da46ab0a",
   "metadata": {},
   "outputs": [
    {
     "name": "stdout",
     "output_type": "stream",
     "text": [
      "[[-261.183329  ]\n",
      " [  51.28847653]\n",
      " [ 186.72080998]\n",
      " [-162.76957725]\n",
      " [  12.19785968]\n",
      " [-101.579094  ]\n",
      " [-184.20688467]\n",
      " [  26.00922358]\n",
      " [ 229.33371172]\n",
      " [ -60.83052466]\n",
      " [ 199.99362731]\n",
      " [ 110.84399422]\n",
      " [  63.12718183]\n",
      " [ -48.35491808]\n",
      " [  76.43264171]\n",
      " [-251.49474496]\n",
      " [ 128.98672403]\n",
      " [ 256.02764328]\n",
      " [  68.30429409]\n",
      " [-112.67436388]\n",
      " [-198.53063462]\n",
      " [ -63.42363463]\n",
      " [ 250.52332157]\n",
      " [ -48.87139956]\n",
      " [ 154.23079591]\n",
      " [  73.34829567]\n",
      " [-127.54306781]\n",
      " [ -59.14680874]\n",
      " [ 294.33012726]\n",
      " [ 134.82107885]\n",
      " [ 120.87376973]\n",
      " [  -3.38782441]\n",
      " [-157.44201739]\n",
      " [-500.76289929]\n",
      " [ 208.05859858]\n",
      " [-202.7240423 ]\n",
      " [ -12.27333509]\n",
      " [ -95.34531404]\n",
      " [-180.22336428]\n",
      " [-118.09637393]]\n"
     ]
    }
   ],
   "source": [
    "print(y_test)"
   ]
  },
  {
   "cell_type": "code",
   "execution_count": 56,
   "id": "4402049c",
   "metadata": {},
   "outputs": [
    {
     "data": {
      "text/plain": [
       "{'weights': array([[ 5.69736020e+08,  1.03336219e+09,  3.06823829e+08,\n",
       "          5.86337322e+08,  1.39748237e+09,  1.73716039e+09,\n",
       "          2.18897977e+09, -7.55664201e+07,  2.47096983e+08,\n",
       "          1.52256417e+09],\n",
       "        [ 1.21630240e+08,  2.40972742e+08,  6.96305015e+07,\n",
       "          1.44722035e+08,  3.27965245e+08,  4.38987716e+08,\n",
       "          5.63985600e+08, -1.95496283e+07,  5.04722146e+07,\n",
       "          3.65885494e+08],\n",
       "        [ 6.22868077e+07,  1.04159514e+08,  3.19871856e+07,\n",
       "          5.26915257e+07,  1.37491525e+08,  1.51371983e+08,\n",
       "          1.83628043e+08, -1.09112139e+07,  2.72748092e+07,\n",
       "          1.45125943e+08],\n",
       "        [ 5.39400026e+07,  9.04492089e+07,  2.77849034e+07,\n",
       "          4.57634693e+07,  1.19319482e+08,  1.31335629e+08,\n",
       "          1.59382889e+08, -9.57137340e+06,  2.36987976e+07,\n",
       "          1.25964300e+08],\n",
       "        [ 5.39448199e+07,  9.04567990e+07,  2.77870967e+07,\n",
       "          4.57671680e+07,  1.19329513e+08,  1.31345993e+08,\n",
       "          1.59395420e+08, -9.57207860e+06,  2.37009464e+07,\n",
       "          1.25974640e+08],\n",
       "        [ 7.16074512e+07,  1.19315499e+08,  3.64441693e+07,\n",
       "          6.03523297e+07,  1.57450214e+08,  1.73591486e+08,\n",
       "          2.10505265e+08, -1.20482371e+07,  3.11503827e+07,\n",
       "          1.66239272e+08],\n",
       "        [ 7.17644568e+07,  1.19572446e+08,  3.65250803e+07,\n",
       "          6.04808651e+07,  1.57791866e+08,  1.73964380e+08,\n",
       "          2.10955045e+08, -1.20758896e+07,  3.12185589e+07,\n",
       "          1.66597717e+08],\n",
       "        [ 5.39464923e+07,  9.04602128e+07,  2.77882089e+07,\n",
       "          4.57687901e+07,  1.19333946e+08,  1.31350573e+08,\n",
       "          1.59401151e+08, -9.57293808e+06,  2.37017832e+07,\n",
       "          1.25979315e+08],\n",
       "        [ 1.03263355e+08,  2.10976926e+08,  6.09762877e+07,\n",
       "          1.35163102e+08,  2.93425334e+08,  4.10846870e+08,\n",
       "          5.35271593e+08, -8.93785270e+06,  4.49360351e+07,\n",
       "          3.30988445e+08],\n",
       "        [ 1.24773010e+08,  2.16446740e+08,  5.91186139e+07,\n",
       "          1.20389350e+08,  2.96571454e+08,  3.43058910e+08,\n",
       "          4.03372604e+08, -1.37077671e+07,  6.41428306e+07,\n",
       "          3.20677759e+08],\n",
       "        [ 1.25958197e+08,  2.21199708e+08,  6.09728434e+07,\n",
       "          1.20575573e+08,  2.96137661e+08,  3.50686883e+08,\n",
       "          4.18698273e+08, -8.21924508e+06,  6.27063907e+07,\n",
       "          3.26863851e+08],\n",
       "        [ 1.20170211e+08,  2.01385354e+08,  5.70221103e+07,\n",
       "          1.06685881e+08,  2.76195992e+08,  3.04111213e+08,\n",
       "          3.67034020e+08, -2.23669006e+07,  5.52018550e+07,\n",
       "          2.92154829e+08],\n",
       "        [ 1.18101877e+08,  2.04093024e+08,  5.75790185e+07,\n",
       "          1.05013086e+08,  2.76654657e+08,  3.03112362e+08,\n",
       "          3.66271318e+08, -2.28038432e+07,  5.48175158e+07,\n",
       "          2.93323284e+08],\n",
       "        [ 1.18075691e+08,  2.04048949e+08,  5.75667913e+07,\n",
       "          1.04990617e+08,  2.76595430e+08,  3.03049083e+08,\n",
       "          3.66194231e+08, -2.27993090e+07,  5.48060228e+07,\n",
       "          2.93260769e+08],\n",
       "        [ 1.05526915e+08,  1.63496047e+08,  4.70655883e+07,\n",
       "          9.00672405e+07,  2.26631154e+08,  2.53083115e+08,\n",
       "          3.03005057e+08, -1.64226167e+07,  4.70335868e+07,\n",
       "          2.38409364e+08],\n",
       "        [ 1.05332701e+08,  1.63110707e+08,  4.69456107e+07,\n",
       "          8.99455896e+07,  2.26152591e+08,  2.52582014e+08,\n",
       "          3.02401202e+08, -1.63579012e+07,  4.69565316e+07,\n",
       "          2.37887838e+08]]),\n",
       " 'b_coefs': array([ -3526212.67984896,  -3621774.91402333,   -629075.41619855,\n",
       "          -601360.84814998,   -601439.35824248,   -663937.18133042,\n",
       "          -667561.84573997,   -601895.18439609,   -838247.98377903,\n",
       "        -19601058.11166037, -23137686.99234942,  -8954171.05273039,\n",
       "         -7742415.23338164,  -7739853.86310539,  -7765023.99410002,\n",
       "         -7778679.22572014]),\n",
       " 'activation': 'sigmoid',\n",
       " 'output': array([0., 0., 0., 0., 0., 0., 0., 0., 0., 0., 0., 0., 0., 0., 0., 0.]),\n",
       " 'err': [1555234.255507897,\n",
       "  450334.21245670586,\n",
       "  138800.39315441268,\n",
       "  113779.11473892415,\n",
       "  113788.46726661484,\n",
       "  149288.596786905,\n",
       "  149730.97469406878,\n",
       "  113796.18348129577,\n",
       "  409302.1594239919,\n",
       "  293366.9448146558,\n",
       "  295810.77117715986,\n",
       "  283170.5026678746,\n",
       "  283709.330033089,\n",
       "  283673.3334678411,\n",
       "  216441.6052982107,\n",
       "  214707.21520149414]}"
      ]
     },
     "execution_count": 56,
     "metadata": {},
     "output_type": "execute_result"
    }
   ],
   "source": [
    "per.layers[0]"
   ]
  },
  {
   "cell_type": "code",
   "execution_count": 12,
   "id": "31b9d426",
   "metadata": {},
   "outputs": [],
   "source": [
    "def initil(input_layer_size, hidden_layers):\n",
    "        layers = []\n",
    "        w = np.random.rand (hidden_layers[0][0], input_layer_size)\n",
    "        b = np.random.rand (hidden_layers[0][0])\n",
    "        layers.append(dict(weights=w,b_coefs=b, activation=hidden_layers[0][1]))\n",
    "        for i in range(1, len(hidden_layers)):\n",
    "            w = np.random.rand (hidden_layers[i][0], hidden_layers[i-1][0])\n",
    "            b = np.random.rand (hidden_layers[i][0])\n",
    "            layers.append(dict(weights=w,b_coefs=b,activation=hidden_layers[i][1]))\n",
    "        return layers"
   ]
  },
  {
   "cell_type": "code",
   "execution_count": null,
   "id": "8dc6266e",
   "metadata": {},
   "outputs": [],
   "source": []
  },
  {
   "cell_type": "code",
   "execution_count": 92,
   "id": "1355c719",
   "metadata": {},
   "outputs": [
    {
     "name": "stdout",
     "output_type": "stream",
     "text": [
      "{'weights': array([[0.95744274, 0.60391834, 0.0011658 , 0.57279748],\n",
      "       [0.0285874 , 0.6078318 , 0.21409916, 0.19511582]]), 'b_coefs': array([0.65981875, 0.51201985]), 'activation': 'sigmoid'}\n"
     ]
    }
   ],
   "source": [
    "test = initil(4, [[2,\"sigmoid\"],[1,\"sigmoid\"]])\n",
    "print(test[0])"
   ]
  },
  {
   "cell_type": "code",
   "execution_count": 93,
   "id": "451382e8",
   "metadata": {},
   "outputs": [
    {
     "name": "stdout",
     "output_type": "stream",
     "text": [
      "[0.99405821 0.96003753]\n",
      "[0.73517155]\n"
     ]
    },
    {
     "data": {
      "text/plain": [
       "{'weights': array([[0.13472736, 0.5026855 ]]),\n",
       " 'b_coefs': array([0.40449784]),\n",
       " 'activation': 'sigmoid',\n",
       " 'output': array([0.73517155])}"
      ]
     },
     "execution_count": 93,
     "metadata": {},
     "output_type": "execute_result"
    }
   ],
   "source": [
    "activation_functions = dict(sigmoid=sigmoid,tahn=tahn,relu=relu)\n",
    "forward_propagation(np.array([1,2,3,4]), test, activation_functions)\n",
    "test[1]"
   ]
  },
  {
   "cell_type": "code",
   "execution_count": 94,
   "id": "88a7186d",
   "metadata": {},
   "outputs": [
    {
     "ename": "IndexError",
     "evalue": "list index out of range",
     "output_type": "error",
     "traceback": [
      "\u001b[1;31m---------------------------------------------------------------------------\u001b[0m",
      "\u001b[1;31mIndexError\u001b[0m                                Traceback (most recent call last)",
      "Cell \u001b[1;32mIn[94], line 2\u001b[0m\n\u001b[0;32m      1\u001b[0m a\u001b[38;5;241m=\u001b[39mnp\u001b[38;5;241m.\u001b[39marray([\u001b[38;5;241m1\u001b[39m,\u001b[38;5;241m2\u001b[39m,\u001b[38;5;241m3\u001b[39m,\u001b[38;5;241m4\u001b[39m])\n\u001b[1;32m----> 2\u001b[0m \u001b[38;5;28mprint\u001b[39m(\u001b[43mtest\u001b[49m\u001b[43m[\u001b[49m\u001b[38;5;241;43m2\u001b[39;49m\u001b[43m]\u001b[49m)\n",
      "\u001b[1;31mIndexError\u001b[0m: list index out of range"
     ]
    }
   ],
   "source": [
    "a=np.array([1,2,3,4])\n",
    "print(test[2])"
   ]
  },
  {
   "cell_type": "code",
   "execution_count": 95,
   "id": "bbd32114",
   "metadata": {},
   "outputs": [
    {
     "name": "stdout",
     "output_type": "stream",
     "text": [
      "{'weights': array([[0.95744274, 0.60391834, 0.0011658 , 0.57279748],\n",
      "       [0.0285874 , 0.6078318 , 0.21409916, 0.19511582]]), 'b_coefs': array([0.65981875, 0.51201985]), 'activation': 'sigmoid', 'output': array([0.99405821, 0.96003753]), 'err': [0.001540827386400851, 0.005838323141099926]}\n"
     ]
    }
   ],
   "source": [
    "deriv_functions =  dict(sigmoid=deriv_sigmoid,tahn=deriv_tahn,relu=deriv_relu)\n",
    "backward_propagation(test, [1], deriv_functions)\n",
    "print(test[0])"
   ]
  },
  {
   "cell_type": "code",
   "execution_count": 96,
   "id": "f49f4b06",
   "metadata": {},
   "outputs": [
    {
     "name": "stdout",
     "output_type": "stream",
     "text": [
      "{'weights': array([[0.13472736, 0.5026855 ]]), 'b_coefs': array([0.40449784]), 'activation': 'sigmoid', 'output': array([0.73517155]), 'err': [0.058009461740434316]}\n"
     ]
    }
   ],
   "source": [
    "print(test[1])"
   ]
  },
  {
   "cell_type": "code",
   "execution_count": 97,
   "id": "421347bb",
   "metadata": {},
   "outputs": [],
   "source": [
    "update_weights(np.array([1,2,3,4]), test, 1)"
   ]
  },
  {
   "cell_type": "code",
   "execution_count": 98,
   "id": "a6aa8d49",
   "metadata": {},
   "outputs": [
    {
     "data": {
      "text/plain": [
       "{'weights': array([[ 0.95590191,  0.60083669, -0.00345668,  0.56663417],\n",
       "        [ 0.02274908,  0.59615515,  0.19658419,  0.17176253]]),\n",
       " 'b_coefs': array([0.65827792, 0.50618152]),\n",
       " 'activation': 'sigmoid',\n",
       " 'output': array([0.99405821, 0.96003753]),\n",
       " 'err': [0.001540827386400851, 0.005838323141099926]}"
      ]
     },
     "execution_count": 98,
     "metadata": {},
     "output_type": "execute_result"
    }
   ],
   "source": [
    "test[0]"
   ]
  },
  {
   "cell_type": "code",
   "execution_count": 99,
   "id": "0e3e0fc6",
   "metadata": {},
   "outputs": [
    {
     "data": {
      "text/plain": [
       "{'weights': array([[0.07706258, 0.44699423]]),\n",
       " 'b_coefs': array([0.34648838]),\n",
       " 'activation': 'sigmoid',\n",
       " 'output': array([0.73517155]),\n",
       " 'err': [0.058009461740434316]}"
      ]
     },
     "execution_count": 99,
     "metadata": {},
     "output_type": "execute_result"
    }
   ],
   "source": [
    "test[1]"
   ]
  },
  {
   "cell_type": "code",
   "execution_count": 105,
   "id": "e7c3455f",
   "metadata": {},
   "outputs": [
    {
     "ename": "IndexError",
     "evalue": "list index out of range",
     "output_type": "error",
     "traceback": [
      "\u001b[1;31m---------------------------------------------------------------------------\u001b[0m",
      "\u001b[1;31mIndexError\u001b[0m                                Traceback (most recent call last)",
      "Cell \u001b[1;32mIn[105], line 1\u001b[0m\n\u001b[1;32m----> 1\u001b[0m \u001b[43mtest\u001b[49m\u001b[43m[\u001b[49m\u001b[38;5;241;43m2\u001b[39;49m\u001b[43m]\u001b[49m\n",
      "\u001b[1;31mIndexError\u001b[0m: list index out of range"
     ]
    }
   ],
   "source": [
    "test[2]"
   ]
  },
  {
   "cell_type": "code",
   "execution_count": 106,
   "id": "cd0ae783",
   "metadata": {},
   "outputs": [
    {
     "name": "stdout",
     "output_type": "stream",
     "text": [
      "Поступило [1 2 3 4]\n",
      "Веса [[0.44819388 0.31703907 0.38669645 0.77813263]\n",
      " [0.26956988 0.03063332 0.95025344 0.82998768]]\n",
      "После преобраз [[5.99904494 6.98416215]]\n",
      "После активации [[0.99752502 0.99907442]]\n",
      "Поступило [[0.99752502 0.99907442]]\n",
      "Веса [[0.54461951 0.39151847]]\n",
      "После преобраз [[1.92713187]]\n",
      "После активации [[0.87293162]]\n"
     ]
    }
   ],
   "source": [
    "forward_propagation(np.array([1,2,3,4]), test, activation_functions) "
   ]
  },
  {
   "cell_type": "code",
   "execution_count": 107,
   "id": "aa31afa5",
   "metadata": {},
   "outputs": [
    {
     "data": {
      "text/plain": [
       "{'weights': array([[0.44819388, 0.31703907, 0.38669645, 0.77813263],\n",
       "        [0.26956988, 0.03063332, 0.95025344, 0.82998768]]),\n",
       " 'b_coefs': array([[0.64415305, 0.48261457]]),\n",
       " 'activation': 'sigmoid',\n",
       " 'output': array([[0.99752502, 0.99907442]]),\n",
       " 'err': [array([0.00290189, 0.00203921])]}"
      ]
     },
     "execution_count": 107,
     "metadata": {},
     "output_type": "execute_result"
    }
   ],
   "source": [
    "test[0]"
   ]
  },
  {
   "cell_type": "code",
   "execution_count": 108,
   "id": "c34e3204",
   "metadata": {},
   "outputs": [
    {
     "data": {
      "text/plain": [
       "{'weights': array([[0.54461951, 0.39151847]]),\n",
       " 'b_coefs': array([[0.99270419]]),\n",
       " 'activation': 'sigmoid',\n",
       " 'output': array([[0.87293162]]),\n",
       " 'err': array([[0.02856033]])}"
      ]
     },
     "execution_count": 108,
     "metadata": {},
     "output_type": "execute_result"
    }
   ],
   "source": [
    "test[1]"
   ]
  }
 ],
 "metadata": {
  "kernelspec": {
   "display_name": "Python 3.9.13 64-bit",
   "language": "python",
   "name": "python3"
  },
  "language_info": {
   "codemirror_mode": {
    "name": "ipython",
    "version": 3
   },
   "file_extension": ".py",
   "mimetype": "text/x-python",
   "name": "python",
   "nbconvert_exporter": "python",
   "pygments_lexer": "ipython3",
   "version": "3.9.13"
  },
  "vscode": {
   "interpreter": {
    "hash": "91630307a7e4b9abf9edb3efd4e17a2c340bf58dec0f52b0c507668a47432d3b"
   }
  }
 },
 "nbformat": 4,
 "nbformat_minor": 5
}
