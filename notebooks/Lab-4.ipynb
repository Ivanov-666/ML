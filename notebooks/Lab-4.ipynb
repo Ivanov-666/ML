{
 "cells": [
  {
   "cell_type": "code",
   "execution_count": 3,
   "id": "67ab5c14",
   "metadata": {},
   "outputs": [],
   "source": [
    "import numpy as np\n",
    "import pandas as pd\n",
    "import sys\n",
    "sys.path.append('C:\\Machine Learning\\mylib' )\n",
    "import Perceptron as nn\n",
    "import matplotlib.pyplot as plt\n",
    "import sklearn.metrics as m"
   ]
  },
  {
   "cell_type": "code",
   "execution_count": 4,
   "id": "3bf191d7",
   "metadata": {},
   "outputs": [],
   "source": [
    "df_classif = pd.read_csv('../datasets/csgo_task_pred.csv')\n",
    "df_regress = pd.read_csv('../datasets/trip_duration_task_pred.csv')\n",
    "X_classif = df_classif.drop(['bomb_planted'], axis=1)\n",
    "y_classif = df_classif['bomb_planted']\n",
    "X_regress = df_regress.drop(['trip_duration'], axis=1)\n",
    "y_regress = df_regress['trip_duration']"
   ]
  },
  {
   "cell_type": "code",
   "execution_count": 5,
   "id": "8fcd8b3c",
   "metadata": {},
   "outputs": [],
   "source": [
    "from sklearn.model_selection import train_test_split\n",
    "X_train_classif, X_test_classif, y_train_classif, y_test_classif = train_test_split(X_classif, y_classif, test_size=0.2)\n",
    "X_train_regress, X_test_regress, y_train_regress, y_test_regress = train_test_split(X_regress, y_regress, test_size=0.2)"
   ]
  },
  {
   "cell_type": "code",
   "execution_count": 6,
   "id": "dcfc0304",
   "metadata": {},
   "outputs": [],
   "source": [
    "from sklearn.metrics import mean_squared_error, mean_absolute_error\n",
    "from sklearn.metrics import confusion_matrix, classification_report"
   ]
  },
  {
   "cell_type": "code",
   "execution_count": 183,
   "id": "9f614a19",
   "metadata": {},
   "outputs": [],
   "source": [
    "import tensorflow as tf\n",
    "import numpy as np"
   ]
  },
  {
   "cell_type": "code",
   "execution_count": 184,
   "id": "987b1330",
   "metadata": {},
   "outputs": [
    {
     "data": {
      "text/plain": [
       "9"
      ]
     },
     "execution_count": 184,
     "metadata": {},
     "output_type": "execute_result"
    }
   ],
   "source": [
    "X_train_regress.shape[1]"
   ]
  },
  {
   "cell_type": "code",
   "execution_count": 185,
   "id": "bc807448",
   "metadata": {},
   "outputs": [],
   "source": [
    "model_regression = tf.keras.Sequential(\n",
    "    [\n",
    "        tf.keras.layers.Dense(16, activation=\"relu\", input_shape=(9,)),\n",
    "        tf.keras.layers.Dense(8, activation=\"linear\"),\n",
    "        tf.keras.layers.Dropout(0.1),\n",
    "        tf.keras.layers.Dense(4, activation=\"relu\"),\n",
    "        tf.keras.layers.Dropout(0.1),\n",
    "        tf.keras.layers.Dense(1, activation=\"linear\"),\n",
    "    ]\n",
    ")"
   ]
  },
  {
   "cell_type": "code",
   "execution_count": 186,
   "id": "3b16db06",
   "metadata": {},
   "outputs": [],
   "source": [
    "model_regression.compile(optimizer=tf.keras.optimizers.Adam(learning_rate=0.005), loss=\"mae\")"
   ]
  },
  {
   "cell_type": "code",
   "execution_count": 187,
   "id": "47da1375",
   "metadata": {},
   "outputs": [
    {
     "name": "stdout",
     "output_type": "stream",
     "text": [
      "Epoch 1/10\n",
      "18234/18234 [==============================] - 47s 2ms/step - loss: 21648740712448.0000\n",
      "Epoch 2/10\n",
      "18234/18234 [==============================] - 45s 2ms/step - loss: 817.2542\n",
      "Epoch 3/10\n",
      "18234/18234 [==============================] - 40s 2ms/step - loss: 266555752448.0000\n",
      "Epoch 4/10\n",
      "18234/18234 [==============================] - 39s 2ms/step - loss: 670.0256\n",
      "Epoch 5/10\n",
      "18234/18234 [==============================] - 40s 2ms/step - loss: 619.8231\n",
      "Epoch 6/10\n",
      "18234/18234 [==============================] - 46s 3ms/step - loss: 586.3572\n",
      "Epoch 7/10\n",
      "18234/18234 [==============================] - 39s 2ms/step - loss: 29583443968.0000\n",
      "Epoch 8/10\n",
      "18234/18234 [==============================] - 55s 3ms/step - loss: 18182014976.0000\n",
      "Epoch 9/10\n",
      "18234/18234 [==============================] - 47s 3ms/step - loss: 558.6283\n",
      "Epoch 10/10\n",
      "18234/18234 [==============================] - 50s 3ms/step - loss: 558.2369\n"
     ]
    },
    {
     "data": {
      "text/plain": [
       "<keras.callbacks.History at 0x235306ce430>"
      ]
     },
     "execution_count": 187,
     "metadata": {},
     "output_type": "execute_result"
    }
   ],
   "source": [
    "model_regression.fit(X_train_regress, y_train_regress, epochs=10)"
   ]
  },
  {
   "cell_type": "code",
   "execution_count": 188,
   "id": "720937ab",
   "metadata": {},
   "outputs": [
    {
     "name": "stdout",
     "output_type": "stream",
     "text": [
      "4559/4559 [==============================] - 7s 2ms/step\n",
      "563.8031978538789\n",
      "4559/4559 [==============================] - 7s 2ms/step\n",
      "10221489.75711698\n"
     ]
    }
   ],
   "source": [
    "print(mean_absolute_error(y_test_regress, model_regression.predict(X_test_regress)))\n",
    "print(mean_squared_error(y_test_regress, model_regression.predict(X_test_regress)))"
   ]
  },
  {
   "cell_type": "code",
   "execution_count": 189,
   "id": "1054acdb",
   "metadata": {},
   "outputs": [
    {
     "data": {
      "text/plain": [
       "23"
      ]
     },
     "execution_count": 189,
     "metadata": {},
     "output_type": "execute_result"
    }
   ],
   "source": [
    "X_train_classif.shape[1]"
   ]
  },
  {
   "cell_type": "code",
   "execution_count": 37,
   "id": "92af40e5",
   "metadata": {},
   "outputs": [],
   "source": [
    "bomb_planted = df_classif[df_classif[\"bomb_planted\"] == 1]\n",
    "bomb_not_planted  = df_classif[df_classif[\"bomb_planted\"] == 0]\n",
    "from sklearn.utils import resample\n",
    "bomb_not_planted = resample(bomb_not_planted,\n",
    "             replace=True,\n",
    "             n_samples=len(bomb_planted),\n",
    "             random_state=42)\n",
    "bomb_not_planted.shape\n",
    "df1 = pd.concat([bomb_not_planted, bomb_planted])\n",
    "y = df1[\"bomb_planted\"]\n",
    "X = df1.drop([\"bomb_planted\"], axis=1)\n",
    "X_train, X_test, y_train, y_test = train_test_split(X, y, test_size=0.2, random_state=42)\n",
    "from sklearn.preprocessing import MinMaxScaler\n",
    "min_max_scaler = MinMaxScaler()\n",
    "X_train_minmax = pd.DataFrame(min_max_scaler.fit_transform(X_train))\n",
    "X_test_minmax = pd.DataFrame(min_max_scaler.fit_transform(X_test))"
   ]
  },
  {
   "cell_type": "code",
   "execution_count": 191,
   "id": "13274bda",
   "metadata": {},
   "outputs": [],
   "source": [
    "model_classification_1 = tf.keras.Sequential(\n",
    "    [\n",
    "        tf.keras.layers.Dense(32, activation=\"relu\", input_shape=(23,)),\n",
    "        tf.keras.layers.Dense(64, activation=\"relu\"),\n",
    "        tf.keras.layers.Dropout(0.05),\n",
    "        tf.keras.layers.Dense(64, activation=\"relu\"),\n",
    "        tf.keras.layers.Dense(32, activation=\"relu\"),\n",
    "        tf.keras.layers.Dense(16, activation=\"relu\"),\n",
    "        tf.keras.layers.Dense(1, activation=\"sigmoid\"),\n",
    "    ]\n",
    ")"
   ]
  },
  {
   "cell_type": "code",
   "execution_count": 192,
   "id": "7ad2e336",
   "metadata": {},
   "outputs": [],
   "source": [
    "model_classification_1.compile(optimizer=tf.keras.optimizers.Adam(learning_rate=0.001), loss=\"mse\")"
   ]
  },
  {
   "cell_type": "code",
   "execution_count": 193,
   "id": "2b92bcbc",
   "metadata": {},
   "outputs": [
    {
     "name": "stdout",
     "output_type": "stream",
     "text": [
      "Epoch 1/7\n",
      "684/684 [==============================] - 4s 3ms/step - loss: 0.0724\n",
      "Epoch 2/7\n",
      "684/684 [==============================] - 2s 3ms/step - loss: 0.0485\n",
      "Epoch 3/7\n",
      "684/684 [==============================] - 2s 3ms/step - loss: 0.0444\n",
      "Epoch 4/7\n",
      "684/684 [==============================] - 2s 3ms/step - loss: 0.0423\n",
      "Epoch 5/7\n",
      "684/684 [==============================] - 2s 3ms/step - loss: 0.0407\n",
      "Epoch 6/7\n",
      "684/684 [==============================] - 2s 3ms/step - loss: 0.0415\n",
      "Epoch 7/7\n",
      "684/684 [==============================] - 2s 3ms/step - loss: 0.0392\n"
     ]
    },
    {
     "data": {
      "text/plain": [
       "<keras.callbacks.History at 0x235222a7df0>"
      ]
     },
     "execution_count": 193,
     "metadata": {},
     "output_type": "execute_result"
    }
   ],
   "source": [
    "model_classification_1.fit(X_train_minmax, y_train, epochs=7)"
   ]
  },
  {
   "cell_type": "code",
   "execution_count": 194,
   "id": "271af6be",
   "metadata": {},
   "outputs": [
    {
     "name": "stdout",
     "output_type": "stream",
     "text": [
      "171/171 [==============================] - 0s 2ms/step\n",
      "              precision    recall  f1-score   support\n",
      "\n",
      "           0       0.98      0.91      0.94      2753\n",
      "           1       0.91      0.98      0.95      2712\n",
      "\n",
      "    accuracy                           0.94      5465\n",
      "   macro avg       0.95      0.95      0.94      5465\n",
      "weighted avg       0.95      0.94      0.94      5465\n",
      "\n",
      "[[2499  254]\n",
      " [  47 2665]]\n"
     ]
    }
   ],
   "source": [
    "y_pred = np.around(model_classification_1.predict(X_test_minmax))\n",
    "print(classification_report(y_test, y_pred))\n",
    "print(confusion_matrix(y_test, y_pred))"
   ]
  },
  {
   "cell_type": "markdown",
   "id": "6059520e",
   "metadata": {},
   "source": [
    "Мой персептрон"
   ]
  },
  {
   "cell_type": "code",
   "execution_count": 56,
   "id": "2e0c245b",
   "metadata": {},
   "outputs": [],
   "source": [
    "df1_classif = df_classif.sample(n=1000)\n",
    "df1_regress = df_regress.sample(n=10000)\n",
    "X_classif1 = df1_classif.drop(['bomb_planted'], axis=1)\n",
    "y_classif1 = df1_classif['bomb_planted']\n",
    "X_regress1 = df1_regress.drop(['trip_duration','dropoff_datetime'], axis=1)\n",
    "y_regress1 = df1_regress['trip_duration']\n",
    "from sklearn.model_selection import train_test_split\n",
    "X_train1_classif, X_test1_classif, y_train1_classif, y_test1_classif = train_test_split(X_classif1, y_classif1, test_size=0.2)\n",
    "X_train1_regress, X_test1_regress, y_train1_regress, y_test1_regress = train_test_split(X_regress1, y_regress1, test_size=0.2)\n",
    "from sklearn.preprocessing import MinMaxScaler\n",
    "min_max_scaler = MinMaxScaler()\n",
    "X_train1_class_minmax = pd.DataFrame(min_max_scaler.fit_transform(X_train1_classif))\n",
    "X_test1_class_minmax = pd.DataFrame(min_max_scaler.fit_transform(X_test1_classif))"
   ]
  },
  {
   "cell_type": "code",
   "execution_count": 8,
   "id": "6229220c",
   "metadata": {},
   "outputs": [],
   "source": [
    "y_train1_regress = [[y] for y in y_train1_regress]"
   ]
  },
  {
   "cell_type": "code",
   "execution_count": 9,
   "id": "b4c30a5b",
   "metadata": {},
   "outputs": [],
   "source": [
    "per = nn.Perceptron(8, [[64,\"sigmoid\"],[32,\"sigmoid\"],[1,\"linear\"]])"
   ]
  },
  {
   "cell_type": "code",
   "execution_count": 10,
   "id": "043fecc2",
   "metadata": {},
   "outputs": [],
   "source": [
    "per.fit(np.array(X_train1_regress), y_train1_regress, 0.005, 10)"
   ]
  },
  {
   "cell_type": "code",
   "execution_count": 11,
   "id": "dc6435ae",
   "metadata": {},
   "outputs": [],
   "source": [
    "pred = per.predict(np.array(X_test1_regress))"
   ]
  },
  {
   "cell_type": "code",
   "execution_count": 12,
   "id": "d06a85bd",
   "metadata": {},
   "outputs": [
    {
     "name": "stdout",
     "output_type": "stream",
     "text": [
      "MAE: 699.7216920674039\n",
      "MSE: 18533714.10876221\n",
      "RMSE: 4305.080035116909\n",
      "MAPE: 1.0879926718946442\n"
     ]
    }
   ],
   "source": [
    "from sklearn.metrics import mean_squared_error, mean_absolute_error, mean_absolute_percentage_error\n",
    "from math import sqrt\n",
    "print(f'MAE: {mean_absolute_error(y_test1_regress, pred)}')\n",
    "print(f'MSE: {mean_squared_error(y_test1_regress, pred)}')\n",
    "print(f'RMSE: {sqrt(mean_squared_error(y_test1_regress, pred))}')\n",
    "print(f'MAPE: {sqrt(mean_absolute_percentage_error(y_test1_regress, pred))}')"
   ]
  },
  {
   "cell_type": "code",
   "execution_count": 57,
   "id": "7cbe62f2",
   "metadata": {},
   "outputs": [],
   "source": [
    "y_train1_classif = [[y] for y in y_train1_classif]"
   ]
  },
  {
   "cell_type": "code",
   "execution_count": 69,
   "id": "269f202a",
   "metadata": {},
   "outputs": [],
   "source": [
    "per1 = nn.Perceptron(23, [[64,\"relu\"],[32,\"relu\"],[1,\"sigmoid\"]])"
   ]
  },
  {
   "cell_type": "code",
   "execution_count": 70,
   "id": "4a75b8e2",
   "metadata": {},
   "outputs": [],
   "source": [
    "per1.fit(np.array(X_train1_class_minmax), y_train1_classif, 0.005, 20)"
   ]
  },
  {
   "cell_type": "code",
   "execution_count": 71,
   "id": "3dea9688",
   "metadata": {},
   "outputs": [],
   "source": [
    "pred1 = per1.predict(np.array(X_test1_class_minmax))"
   ]
  },
  {
   "cell_type": "code",
   "execution_count": 72,
   "id": "0079284a",
   "metadata": {},
   "outputs": [
    {
     "name": "stdout",
     "output_type": "stream",
     "text": [
      "              precision    recall  f1-score   support\n",
      "\n",
      "           0       0.98      0.95      0.97       175\n",
      "           1       0.73      0.88      0.80        25\n",
      "\n",
      "    accuracy                           0.94       200\n",
      "   macro avg       0.86      0.92      0.88       200\n",
      "weighted avg       0.95      0.94      0.95       200\n",
      "\n",
      "[[167   8]\n",
      " [  3  22]]\n"
     ]
    }
   ],
   "source": [
    "pred1 = np.around(pred1)\n",
    "print(classification_report(y_test1_classif, pred1))\n",
    "print(confusion_matrix(y_test1_classif, pred1))"
   ]
  },
  {
   "cell_type": "code",
   "execution_count": null,
   "id": "0eb2de92",
   "metadata": {},
   "outputs": [],
   "source": []
  }
 ],
 "metadata": {
  "kernelspec": {
   "display_name": "Python 3 (ipykernel)",
   "language": "python",
   "name": "python3"
  },
  "language_info": {
   "codemirror_mode": {
    "name": "ipython",
    "version": 3
   },
   "file_extension": ".py",
   "mimetype": "text/x-python",
   "name": "python",
   "nbconvert_exporter": "python",
   "pygments_lexer": "ipython3",
   "version": "3.9.13"
  }
 },
 "nbformat": 4,
 "nbformat_minor": 5
}
