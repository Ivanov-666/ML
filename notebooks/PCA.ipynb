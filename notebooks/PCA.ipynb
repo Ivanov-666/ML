{
 "cells": [
  {
   "cell_type": "code",
   "execution_count": 34,
   "metadata": {},
   "outputs": [],
   "source": [
    "import pandas as pd\n",
    "import numpy as np\n",
    "import sys\n",
    "sys.path.append( 'C:\\Machine Learning\\mylib' )\n",
    "sys.path.append( 'L:\\ML\\mylib' )\n",
    "import LassoRegression as LS\n",
    "from sklearn.linear_model import LogisticRegression, Lasso\n",
    "from sklearn.model_selection import train_test_split\n",
    "from sklearn.metrics import mean_squared_error, mean_absolute_error, mean_absolute_percentage_error\n",
    "from math import sqrt\n",
    "from sklearn.metrics import classification_report\n",
    "from sklearn.preprocessing import StandardScaler"
   ]
  },
  {
   "cell_type": "code",
   "execution_count": 36,
   "metadata": {},
   "outputs": [],
   "source": [
    "df_classif = pd.read_csv('../datasets/csgo_task_pred.csv')\n",
    "df_classif = df_classif.sample(100)\n",
    "df_classif = df_classif.drop(columns=df_classif.iloc[:,:1], axis=1)\n",
    "y_classif, X_classif=  df_classif[\"bomb_planted\"], df_classif.drop([\"bomb_planted\"], axis=1)"
   ]
  },
  {
   "cell_type": "code",
   "execution_count": 21,
   "metadata": {},
   "outputs": [
    {
     "name": "stdout",
     "output_type": "stream",
     "text": [
      "[(1, [1, 2, 3]), (3, [4, 5, 6]), (4, [2, 3, 4])]\n",
      "[[1, 2, 3], [4, 5, 6], [2, 3, 4]]\n"
     ]
    }
   ],
   "source": [
    "pairs = sorted(zip([1,4,3], [[1,2,3],[2,3,4],[4,5,6]]))\n",
    "print(pairs)\n",
    "pairs = map(lambda a: a[1], pairs)\n",
    "print(list(pairs))"
   ]
  },
  {
   "cell_type": "code",
   "execution_count": 61,
   "metadata": {},
   "outputs": [],
   "source": [
    "class PCA:\n",
    "    def __init__(self, n_classes_after):\n",
    "        self.n = n_classes_after\n",
    "    def fit_transform(self, X):\n",
    "        stsc = StandardScaler()\n",
    "        X = stsc.fit_transform(X)\n",
    "        print(X.shape)\n",
    "        cov_matrix = np.cov(X)\n",
    "        values, vectors = np.linalg.eig(cov_matrix)\n",
    "        pairs = sorted(zip(values, vectors))[:self.n]\n",
    "        pairs = map(lambda a: a[1], pairs)\n",
    "        principle_data = np.dot(X, np.array(list(pairs)))"
   ]
  },
  {
   "cell_type": "code",
   "execution_count": 62,
   "metadata": {},
   "outputs": [],
   "source": [
    "p = PCA(2)"
   ]
  },
  {
   "cell_type": "code",
   "execution_count": 63,
   "metadata": {},
   "outputs": [
    {
     "name": "stdout",
     "output_type": "stream",
     "text": [
      "(100, 22)\n"
     ]
    },
    {
     "ename": "ValueError",
     "evalue": "shapes (100,22) and (2,100) not aligned: 22 (dim 1) != 2 (dim 0)",
     "output_type": "error",
     "traceback": [
      "\u001b[1;31m---------------------------------------------------------------------------\u001b[0m",
      "\u001b[1;31mValueError\u001b[0m                                Traceback (most recent call last)",
      "Cell \u001b[1;32mIn[63], line 1\u001b[0m\n\u001b[1;32m----> 1\u001b[0m \u001b[43mp\u001b[49m\u001b[38;5;241;43m.\u001b[39;49m\u001b[43mfit_transform\u001b[49m\u001b[43m(\u001b[49m\u001b[43mX_classif\u001b[49m\u001b[43m)\u001b[49m\n",
      "Cell \u001b[1;32mIn[61], line 12\u001b[0m, in \u001b[0;36mPCA.fit_transform\u001b[1;34m(self, X)\u001b[0m\n\u001b[0;32m     10\u001b[0m pairs \u001b[38;5;241m=\u001b[39m \u001b[38;5;28msorted\u001b[39m(\u001b[38;5;28mzip\u001b[39m(values, vectors))[:\u001b[38;5;28mself\u001b[39m\u001b[38;5;241m.\u001b[39mn]\n\u001b[0;32m     11\u001b[0m pairs \u001b[38;5;241m=\u001b[39m \u001b[38;5;28mmap\u001b[39m(\u001b[38;5;28;01mlambda\u001b[39;00m a: a[\u001b[38;5;241m1\u001b[39m], pairs)\n\u001b[1;32m---> 12\u001b[0m principle_data \u001b[38;5;241m=\u001b[39m \u001b[43mnp\u001b[49m\u001b[38;5;241;43m.\u001b[39;49m\u001b[43mdot\u001b[49m\u001b[43m(\u001b[49m\u001b[43mX\u001b[49m\u001b[43m,\u001b[49m\u001b[43m \u001b[49m\u001b[43mnp\u001b[49m\u001b[38;5;241;43m.\u001b[39;49m\u001b[43marray\u001b[49m\u001b[43m(\u001b[49m\u001b[38;5;28;43mlist\u001b[39;49m\u001b[43m(\u001b[49m\u001b[43mpairs\u001b[49m\u001b[43m)\u001b[49m\u001b[43m)\u001b[49m\u001b[43m)\u001b[49m\n",
      "File \u001b[1;32m<__array_function__ internals>:200\u001b[0m, in \u001b[0;36mdot\u001b[1;34m(*args, **kwargs)\u001b[0m\n",
      "\u001b[1;31mValueError\u001b[0m: shapes (100,22) and (2,100) not aligned: 22 (dim 1) != 2 (dim 0)"
     ]
    }
   ],
   "source": [
    "p.fit_transform(X_classif)"
   ]
  },
  {
   "cell_type": "code",
   "execution_count": null,
   "metadata": {},
   "outputs": [],
   "source": []
  },
  {
   "cell_type": "code",
   "execution_count": null,
   "metadata": {},
   "outputs": [],
   "source": []
  }
 ],
 "metadata": {
  "kernelspec": {
   "display_name": "Python 3 (ipykernel)",
   "language": "python",
   "name": "python3"
  },
  "language_info": {
   "codemirror_mode": {
    "name": "ipython",
    "version": 3
   },
   "file_extension": ".py",
   "mimetype": "text/x-python",
   "name": "python",
   "nbconvert_exporter": "python",
   "pygments_lexer": "ipython3",
   "version": "3.9.13"
  },
  "vscode": {
   "interpreter": {
    "hash": "91630307a7e4b9abf9edb3efd4e17a2c340bf58dec0f52b0c507668a47432d3b"
   }
  }
 },
 "nbformat": 4,
 "nbformat_minor": 2
}
