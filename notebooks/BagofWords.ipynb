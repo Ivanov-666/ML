{
 "cells": [
  {
   "cell_type": "code",
   "execution_count": 54,
   "metadata": {},
   "outputs": [],
   "source": [
    "from numpy import unique\n",
    "import numpy as np\n",
    "\n",
    "class BagOfWords:\n",
    "    @staticmethod\n",
    "    def fit_transform( text:list, special_char=[\",\",\":\",\";\",\".\",\"?\",\"!\"]):\n",
    "        translate_table = str.maketrans(dict.fromkeys(special_char, \"\"))\n",
    "        vocab = []\n",
    "        tokens = []\n",
    "        for tx in text:\n",
    "            tokens.append(tx.lower().translate(translate_table).split())\n",
    "            vocab.extend(unique(tokens[-1]))\n",
    "        print(vocab)\n",
    "        vocab = sorted(vocab)\n",
    "        mtx = []\n",
    "        for tk in tokens:\n",
    "            mtx.append([tk.count(i) for i in vocab])\n",
    "        return mtx"
   ]
  },
  {
   "cell_type": "code",
   "execution_count": 24,
   "metadata": {},
   "outputs": [],
   "source": [
    "ls = [\"a\", \"b\"]\n",
    "ls.extend([\"a\", \"b\"])"
   ]
  },
  {
   "cell_type": "code",
   "execution_count": 39,
   "metadata": {},
   "outputs": [
    {
     "name": "stdout",
     "output_type": "stream",
     "text": [
      "['будни', 'великолепный', 'и', 'который', 'любых', 'нервы', 'поможет', 'при', 'просто', 'сериал', 'серые', 'скрасит', 'стрессах', 'успокоить', 'бы', 'ему', 'если', 'легкой', 'написал', 'пару', 'первые', 'пожалуй', 'положительную', 'посмотрел', 'рецензию', 'руки', 'с', 'сезонов', 'сериала', 'только', 'этого', 'я', 'а', 'аудитория', 'будет', 'будут', 'в', 'вернут', 'все', 'всё', 'если', 'зрительская', 'и', 'круги', 'меньше', 'на', 'не', 'ниже', 'общем', 'рейтинги', 'своя', 'сезонов', 'сериала', 'следующих', 'создатели', 'становится', 'то', 'этого']\n"
     ]
    }
   ],
   "source": [
    "text = texts = [\"Великолепный сериал, который поможет успокоить нервы при любых стрессах и просто скрасит серые будни\",\n",
    "         \"Пожалуй, если бы я посмотрел только первые пару сезонов этого сериала, я бы с легкой руки написал ему положительную рецензию\",\n",
    "         \"В общем, если создатели этого сериала не вернут всё на круги своя, то рейтинги следующих сезонов будут становится все ниже и ниже, а зрительская аудитория будет все меньше и меньше.\"]\n",
    "\n",
    "bow = BagOfWords.fit_transform(text = text)"
   ]
  },
  {
   "cell_type": "code",
   "execution_count": 51,
   "metadata": {},
   "outputs": [
    {
     "name": "stdout",
     "output_type": "stream",
     "text": [
      "58\n"
     ]
    }
   ],
   "source": [
    "print(len(bow[2]))"
   ]
  },
  {
   "cell_type": "code",
   "execution_count": 114,
   "metadata": {},
   "outputs": [],
   "source": [
    "class TfIdf:\n",
    "    @staticmethod\n",
    "    def fit_transform( text:list, special_char=[\",\",\":\",\";\",\".\",\"?\",\"!\"]):\n",
    "        translate_table = str.maketrans(dict.fromkeys(special_char, \"\"))\n",
    "        vocab = []\n",
    "        tokens = []\n",
    "        for tx in text:\n",
    "            tokens.append(tx.lower().translate(translate_table).split())\n",
    "            vocab.extend(unique(tokens[-1]))\n",
    "        vocab = sorted(vocab)\n",
    "        mtx = []\n",
    "        for tk in tokens:\n",
    "            mtx.append([tk.count(i) for i in vocab])\n",
    "        mtx = np.array(mtx, dtype=float)\n",
    "        for j in range(len(mtx[0])):\n",
    "            col = np.array(mtx[:,j])\n",
    "            idf = np.log((len(col)+1)/(len(np.nonzero(col)[0])+1))\n",
    "            mtx[:,j] = [x*idf for x in mtx[:,j]]\n",
    "        return mtx"
   ]
  },
  {
   "cell_type": "code",
   "execution_count": 115,
   "metadata": {},
   "outputs": [
    {
     "data": {
      "text/plain": [
       "array([[0.        , 0.        , 0.        , 0.69314718, 0.        ,\n",
       "        0.        , 0.        , 0.69314718, 0.        , 0.        ,\n",
       "        0.        , 0.        , 0.        , 0.        , 0.        ,\n",
       "        0.28768207, 0.28768207, 0.69314718, 0.        , 0.        ,\n",
       "        0.69314718, 0.        , 0.        , 0.        , 0.        ,\n",
       "        0.69314718, 0.        , 0.        , 0.        , 0.        ,\n",
       "        0.        , 0.        , 0.69314718, 0.        , 0.69314718,\n",
       "        0.69314718, 0.        , 0.        , 0.        , 0.        ,\n",
       "        0.        , 0.        , 0.        , 0.69314718, 0.        ,\n",
       "        0.        , 0.69314718, 0.69314718, 0.        , 0.        ,\n",
       "        0.        , 0.69314718, 0.        , 0.        , 0.69314718,\n",
       "        0.        , 0.        , 0.        ],\n",
       "       [0.        , 0.        , 0.        , 0.        , 0.        ,\n",
       "        1.38629436, 0.        , 0.        , 0.        , 0.        ,\n",
       "        0.        , 0.69314718, 0.28768207, 0.28768207, 0.        ,\n",
       "        0.        , 0.        , 0.        , 0.        , 0.69314718,\n",
       "        0.        , 0.        , 0.        , 0.69314718, 0.        ,\n",
       "        0.        , 0.        , 0.        , 0.69314718, 0.69314718,\n",
       "        0.69314718, 0.69314718, 0.        , 0.69314718, 0.        ,\n",
       "        0.        , 0.        , 0.69314718, 0.69314718, 0.69314718,\n",
       "        0.        , 0.28768207, 0.28768207, 0.        , 0.28768207,\n",
       "        0.28768207, 0.        , 0.        , 0.        , 0.        ,\n",
       "        0.        , 0.        , 0.        , 0.69314718, 0.        ,\n",
       "        0.28768207, 0.28768207, 1.38629436],\n",
       "       [0.69314718, 0.69314718, 0.69314718, 0.        , 0.69314718,\n",
       "        0.        , 0.69314718, 0.        , 0.69314718, 1.38629436,\n",
       "        0.69314718, 0.        , 0.28768207, 0.28768207, 0.69314718,\n",
       "        0.57536414, 0.57536414, 0.        , 0.69314718, 0.        ,\n",
       "        0.        , 1.38629436, 0.69314718, 0.        , 0.69314718,\n",
       "        0.        , 1.38629436, 0.69314718, 0.        , 0.        ,\n",
       "        0.        , 0.        , 0.        , 0.        , 0.        ,\n",
       "        0.        , 0.69314718, 0.        , 0.        , 0.        ,\n",
       "        0.69314718, 0.28768207, 0.28768207, 0.        , 0.28768207,\n",
       "        0.28768207, 0.        , 0.        , 0.69314718, 0.69314718,\n",
       "        0.69314718, 0.        , 0.69314718, 0.        , 0.        ,\n",
       "        0.28768207, 0.28768207, 0.        ]])"
      ]
     },
     "execution_count": 115,
     "metadata": {},
     "output_type": "execute_result"
    }
   ],
   "source": [
    "tf = TfIdf.fit_transform(text)\n",
    "tf"
   ]
  }
 ],
 "metadata": {
  "kernelspec": {
   "display_name": "venv",
   "language": "python",
   "name": "python3"
  },
  "language_info": {
   "codemirror_mode": {
    "name": "ipython",
    "version": 3
   },
   "file_extension": ".py",
   "mimetype": "text/x-python",
   "name": "python",
   "nbconvert_exporter": "python",
   "pygments_lexer": "ipython3",
   "version": "3.11.3"
  },
  "orig_nbformat": 4
 },
 "nbformat": 4,
 "nbformat_minor": 2
}
