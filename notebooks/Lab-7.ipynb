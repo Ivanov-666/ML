{
 "cells": [
  {
   "cell_type": "code",
   "execution_count": 58,
   "id": "c646c545",
   "metadata": {},
   "outputs": [],
   "source": [
    "import pandas as pd\n",
    "import numpy as np\n",
    "import sys\n",
    "sys.path.append( 'C:\\Machine Learning\\mylib' )\n",
    "import LassoRegression as LS\n",
    "from sklearn.linear_model import LogisticRegression, Lasso\n",
    "from sklearn.model_selection import train_test_split\n",
    "from sklearn.metrics import mean_squared_error, mean_absolute_error, mean_absolute_percentage_error\n",
    "from math import sqrt\n",
    "from sklearn.metrics import classification_report"
   ]
  },
  {
   "cell_type": "code",
   "execution_count": 59,
   "id": "45754b83",
   "metadata": {},
   "outputs": [],
   "source": [
    "df_regress = pd.read_csv('../datasets/trip_duration_task_pred.csv')\n",
    "df_classif = pd.read_csv('../datasets/csgo_task_pred.csv')"
   ]
  },
  {
   "cell_type": "code",
   "execution_count": 60,
   "id": "50b4ac8f",
   "metadata": {},
   "outputs": [],
   "source": [
    "X_regress, y_regress = df_regress.drop([\"trip_duration\"], axis=1), df_regress[\"trip_duration\"]\n",
    "X_classif, y_classif = df_classif.drop([\"bomb_planted\"], axis=1), df_classif[\"bomb_planted\"]"
   ]
  },
  {
   "cell_type": "code",
   "execution_count": 72,
   "id": "f40bfac7",
   "metadata": {},
   "outputs": [
    {
     "data": {
      "text/plain": [
       "trip_duration    729322\n",
       "dtype: int64"
      ]
     },
     "execution_count": 72,
     "metadata": {},
     "output_type": "execute_result"
    }
   ],
   "source": [
    "pd.DataFrame(y_regress).count()"
   ]
  },
  {
   "cell_type": "code",
   "execution_count": 62,
   "id": "6211b38b",
   "metadata": {},
   "outputs": [],
   "source": [
    "from sklearn.preprocessing import MinMaxScaler\n",
    "min_max_scaler = MinMaxScaler()\n",
    "X_regress = pd.DataFrame(min_max_scaler.fit_transform(X_regress))\n",
    "X_classif = pd.DataFrame(min_max_scaler.fit_transform(X_classif))"
   ]
  },
  {
   "cell_type": "code",
   "execution_count": 89,
   "id": "aca77c83",
   "metadata": {},
   "outputs": [
    {
     "data": {
      "text/plain": [
       "(217074,)"
      ]
     },
     "execution_count": 89,
     "metadata": {},
     "output_type": "execute_result"
    }
   ],
   "source": [
    "from imblearn.over_sampling import RandomOverSampler\n",
    "ros = RandomOverSampler(random_state=42)\n",
    "X_classif, y_classif = ros.fit_resample(X_classif, y_classif)\n",
    "y_classif.shape"
   ]
  },
  {
   "cell_type": "code",
   "execution_count": 64,
   "id": "748953f1",
   "metadata": {},
   "outputs": [],
   "source": [
    "def check_regress(X, y):\n",
    "    X_train, X_test, y_train, y_test = train_test_split(X, y, test_size = 0.2,random_state = 42)\n",
    "    ls = Lasso(alpha=0.9).fit(X_train, y_train)\n",
    "    y_pred = ls.predict(X_test)\n",
    "    print(f'MAE: {mean_absolute_error(y_test, y_pred)}')\n",
    "    print(f'MSE: {mean_squared_error(y_test, y_pred)}')\n",
    "    print(f'RMSE: {sqrt(mean_squared_error(y_test, y_pred))}')\n",
    "    print(f'MAPE: {sqrt(mean_absolute_percentage_error(y_test, y_pred))}')\n",
    "    print(f'R^2: {ls.score(X_test, y_test)}')"
   ]
  },
  {
   "cell_type": "code",
   "execution_count": 65,
   "id": "b7164b2d",
   "metadata": {},
   "outputs": [],
   "source": [
    "def check_classif(X,y):\n",
    "    X_train, X_test, y_train, y_test = train_test_split(X, y, test_size = 0.2,random_state = 42)\n",
    "    lr = LogisticRegression(random_state=42, C=0.5, solver='liblinear').fit(X_train, y_train)\n",
    "    y_pred = lr.predict(X_test)\n",
    "    print(classification_report(y_test, y_pred))"
   ]
  },
  {
   "cell_type": "code",
   "execution_count": 66,
   "id": "8d389865",
   "metadata": {},
   "outputs": [
    {
     "name": "stdout",
     "output_type": "stream",
     "text": [
      "MAE: 627.7963278566577\n",
      "MSE: 34944969.55392936\n",
      "RMSE: 5911.427031938173\n",
      "MAPE: 1.2566166668679035\n",
      "R^2: 0.0002160738286709485\n"
     ]
    }
   ],
   "source": [
    "check_regress(X_regress, y_regress)"
   ]
  },
  {
   "cell_type": "code",
   "execution_count": 67,
   "id": "5fb4029c",
   "metadata": {},
   "outputs": [
    {
     "name": "stdout",
     "output_type": "stream",
     "text": [
      "              precision    recall  f1-score   support\n",
      "\n",
      "           0       0.97      0.92      0.94     21714\n",
      "           1       0.92      0.98      0.95     21701\n",
      "\n",
      "    accuracy                           0.95     43415\n",
      "   macro avg       0.95      0.95      0.95     43415\n",
      "weighted avg       0.95      0.95      0.95     43415\n",
      "\n"
     ]
    }
   ],
   "source": [
    "check_classif(X_classif, y_classif)"
   ]
  },
  {
   "cell_type": "code",
   "execution_count": 76,
   "id": "b49f290a",
   "metadata": {},
   "outputs": [
    {
     "data": {
      "text/html": [
       "<div>\n",
       "<style scoped>\n",
       "    .dataframe tbody tr th:only-of-type {\n",
       "        vertical-align: middle;\n",
       "    }\n",
       "\n",
       "    .dataframe tbody tr th {\n",
       "        vertical-align: top;\n",
       "    }\n",
       "\n",
       "    .dataframe thead th {\n",
       "        text-align: right;\n",
       "    }\n",
       "</style>\n",
       "<table border=\"1\" class=\"dataframe\">\n",
       "  <thead>\n",
       "    <tr style=\"text-align: right;\">\n",
       "      <th></th>\n",
       "      <th>0</th>\n",
       "      <th>1</th>\n",
       "      <th>2</th>\n",
       "      <th>3</th>\n",
       "      <th>4</th>\n",
       "      <th>5</th>\n",
       "      <th>6</th>\n",
       "      <th>7</th>\n",
       "      <th>8</th>\n",
       "    </tr>\n",
       "  </thead>\n",
       "  <tbody>\n",
       "    <tr>\n",
       "      <th>count</th>\n",
       "      <td>729322.000000</td>\n",
       "      <td>729322.000000</td>\n",
       "      <td>729322.000000</td>\n",
       "      <td>729322.000000</td>\n",
       "      <td>729322.000000</td>\n",
       "      <td>729322.000000</td>\n",
       "      <td>729322.000000</td>\n",
       "      <td>729322.000000</td>\n",
       "      <td>729322.000000</td>\n",
       "    </tr>\n",
       "    <tr>\n",
       "      <th>mean</th>\n",
       "      <td>0.500000</td>\n",
       "      <td>0.536770</td>\n",
       "      <td>0.502584</td>\n",
       "      <td>0.499998</td>\n",
       "      <td>0.184673</td>\n",
       "      <td>0.855876</td>\n",
       "      <td>0.351724</td>\n",
       "      <td>0.855877</td>\n",
       "      <td>0.730044</td>\n",
       "    </tr>\n",
       "    <tr>\n",
       "      <th>std</th>\n",
       "      <td>0.288676</td>\n",
       "      <td>0.498646</td>\n",
       "      <td>0.283273</td>\n",
       "      <td>0.281794</td>\n",
       "      <td>0.145827</td>\n",
       "      <td>0.001245</td>\n",
       "      <td>0.001955</td>\n",
       "      <td>0.001242</td>\n",
       "      <td>0.003070</td>\n",
       "    </tr>\n",
       "    <tr>\n",
       "      <th>min</th>\n",
       "      <td>0.000000</td>\n",
       "      <td>0.000000</td>\n",
       "      <td>0.000000</td>\n",
       "      <td>0.000000</td>\n",
       "      <td>0.000000</td>\n",
       "      <td>0.000000</td>\n",
       "      <td>0.000000</td>\n",
       "      <td>0.000000</td>\n",
       "      <td>0.000000</td>\n",
       "    </tr>\n",
       "    <tr>\n",
       "      <th>25%</th>\n",
       "      <td>0.250000</td>\n",
       "      <td>0.000000</td>\n",
       "      <td>0.262537</td>\n",
       "      <td>0.261199</td>\n",
       "      <td>0.111111</td>\n",
       "      <td>0.855549</td>\n",
       "      <td>0.350936</td>\n",
       "      <td>0.855558</td>\n",
       "      <td>0.728694</td>\n",
       "    </tr>\n",
       "    <tr>\n",
       "      <th>50%</th>\n",
       "      <td>0.500000</td>\n",
       "      <td>1.000000</td>\n",
       "      <td>0.504007</td>\n",
       "      <td>0.501415</td>\n",
       "      <td>0.111111</td>\n",
       "      <td>0.855729</td>\n",
       "      <td>0.351907</td>\n",
       "      <td>0.855764</td>\n",
       "      <td>0.730277</td>\n",
       "    </tr>\n",
       "    <tr>\n",
       "      <th>75%</th>\n",
       "      <td>0.750000</td>\n",
       "      <td>1.000000</td>\n",
       "      <td>0.743410</td>\n",
       "      <td>0.739602</td>\n",
       "      <td>0.222222</td>\n",
       "      <td>0.855986</td>\n",
       "      <td>0.352734</td>\n",
       "      <td>0.856063</td>\n",
       "      <td>0.731574</td>\n",
       "    </tr>\n",
       "    <tr>\n",
       "      <th>max</th>\n",
       "      <td>1.000000</td>\n",
       "      <td>1.000000</td>\n",
       "      <td>1.000000</td>\n",
       "      <td>1.000000</td>\n",
       "      <td>1.000000</td>\n",
       "      <td>1.000000</td>\n",
       "      <td>1.000000</td>\n",
       "      <td>1.000000</td>\n",
       "      <td>1.000000</td>\n",
       "    </tr>\n",
       "  </tbody>\n",
       "</table>\n",
       "</div>"
      ],
      "text/plain": [
       "                   0              1              2              3  \\\n",
       "count  729322.000000  729322.000000  729322.000000  729322.000000   \n",
       "mean        0.500000       0.536770       0.502584       0.499998   \n",
       "std         0.288676       0.498646       0.283273       0.281794   \n",
       "min         0.000000       0.000000       0.000000       0.000000   \n",
       "25%         0.250000       0.000000       0.262537       0.261199   \n",
       "50%         0.500000       1.000000       0.504007       0.501415   \n",
       "75%         0.750000       1.000000       0.743410       0.739602   \n",
       "max         1.000000       1.000000       1.000000       1.000000   \n",
       "\n",
       "                   4              5              6              7  \\\n",
       "count  729322.000000  729322.000000  729322.000000  729322.000000   \n",
       "mean        0.184673       0.855876       0.351724       0.855877   \n",
       "std         0.145827       0.001245       0.001955       0.001242   \n",
       "min         0.000000       0.000000       0.000000       0.000000   \n",
       "25%         0.111111       0.855549       0.350936       0.855558   \n",
       "50%         0.111111       0.855729       0.351907       0.855764   \n",
       "75%         0.222222       0.855986       0.352734       0.856063   \n",
       "max         1.000000       1.000000       1.000000       1.000000   \n",
       "\n",
       "                   8  \n",
       "count  729322.000000  \n",
       "mean        0.730044  \n",
       "std         0.003070  \n",
       "min         0.000000  \n",
       "25%         0.728694  \n",
       "50%         0.730277  \n",
       "75%         0.731574  \n",
       "max         1.000000  "
      ]
     },
     "execution_count": 76,
     "metadata": {},
     "output_type": "execute_result"
    }
   ],
   "source": [
    "X_regress.describe()"
   ]
  },
  {
   "cell_type": "code",
   "execution_count": 90,
   "id": "4f10dc3a",
   "metadata": {},
   "outputs": [
    {
     "data": {
      "text/plain": [
       "9"
      ]
     },
     "execution_count": 90,
     "metadata": {},
     "output_type": "execute_result"
    }
   ],
   "source": [
    "X_regress.shape[1]"
   ]
  },
  {
   "cell_type": "code",
   "execution_count": 81,
   "id": "ef6fb5bc",
   "metadata": {},
   "outputs": [
    {
     "data": {
      "text/html": [
       "<div>\n",
       "<style scoped>\n",
       "    .dataframe tbody tr th:only-of-type {\n",
       "        vertical-align: middle;\n",
       "    }\n",
       "\n",
       "    .dataframe tbody tr th {\n",
       "        vertical-align: top;\n",
       "    }\n",
       "\n",
       "    .dataframe thead th {\n",
       "        text-align: right;\n",
       "    }\n",
       "</style>\n",
       "<table border=\"1\" class=\"dataframe\">\n",
       "  <thead>\n",
       "    <tr style=\"text-align: right;\">\n",
       "      <th></th>\n",
       "      <th>0</th>\n",
       "      <th>1</th>\n",
       "      <th>2</th>\n",
       "      <th>3</th>\n",
       "      <th>4</th>\n",
       "      <th>5</th>\n",
       "      <th>6</th>\n",
       "      <th>7</th>\n",
       "      <th>8</th>\n",
       "      <th>9</th>\n",
       "      <th>...</th>\n",
       "      <th>13</th>\n",
       "      <th>14</th>\n",
       "      <th>15</th>\n",
       "      <th>16</th>\n",
       "      <th>17</th>\n",
       "      <th>18</th>\n",
       "      <th>19</th>\n",
       "      <th>20</th>\n",
       "      <th>21</th>\n",
       "      <th>22</th>\n",
       "    </tr>\n",
       "  </thead>\n",
       "  <tbody>\n",
       "    <tr>\n",
       "      <th>count</th>\n",
       "      <td>217074.000000</td>\n",
       "      <td>217074.000000</td>\n",
       "      <td>217074.000000</td>\n",
       "      <td>217074.000000</td>\n",
       "      <td>217074.000000</td>\n",
       "      <td>217074.000000</td>\n",
       "      <td>217074.000000</td>\n",
       "      <td>217074.000000</td>\n",
       "      <td>217074.000000</td>\n",
       "      <td>217074.000000</td>\n",
       "      <td>...</td>\n",
       "      <td>217074.000000</td>\n",
       "      <td>217074.000000</td>\n",
       "      <td>217074.000000</td>\n",
       "      <td>217074.000000</td>\n",
       "      <td>217074.000000</td>\n",
       "      <td>217074.000000</td>\n",
       "      <td>217074.000000</td>\n",
       "      <td>217074.000000</td>\n",
       "      <td>217074.000000</td>\n",
       "      <td>217074.000000</td>\n",
       "    </tr>\n",
       "    <tr>\n",
       "      <th>mean</th>\n",
       "      <td>0.498694</td>\n",
       "      <td>0.372835</td>\n",
       "      <td>0.206878</td>\n",
       "      <td>0.203478</td>\n",
       "      <td>0.621826</td>\n",
       "      <td>0.543809</td>\n",
       "      <td>0.509281</td>\n",
       "      <td>0.554733</td>\n",
       "      <td>0.089428</td>\n",
       "      <td>0.117036</td>\n",
       "      <td>...</td>\n",
       "      <td>0.668719</td>\n",
       "      <td>0.610270</td>\n",
       "      <td>0.000972</td>\n",
       "      <td>0.186830</td>\n",
       "      <td>0.208252</td>\n",
       "      <td>0.151911</td>\n",
       "      <td>0.145927</td>\n",
       "      <td>0.108530</td>\n",
       "      <td>0.107456</td>\n",
       "      <td>0.090121</td>\n",
       "    </tr>\n",
       "    <tr>\n",
       "      <th>std</th>\n",
       "      <td>0.289015</td>\n",
       "      <td>0.317869</td>\n",
       "      <td>0.150666</td>\n",
       "      <td>0.144222</td>\n",
       "      <td>0.333898</td>\n",
       "      <td>0.272620</td>\n",
       "      <td>0.323309</td>\n",
       "      <td>0.325440</td>\n",
       "      <td>0.118966</td>\n",
       "      <td>0.135802</td>\n",
       "      <td>...</td>\n",
       "      <td>0.311593</td>\n",
       "      <td>0.251556</td>\n",
       "      <td>0.031162</td>\n",
       "      <td>0.389776</td>\n",
       "      <td>0.406059</td>\n",
       "      <td>0.358936</td>\n",
       "      <td>0.353034</td>\n",
       "      <td>0.311049</td>\n",
       "      <td>0.309693</td>\n",
       "      <td>0.286356</td>\n",
       "    </tr>\n",
       "    <tr>\n",
       "      <th>min</th>\n",
       "      <td>0.000000</td>\n",
       "      <td>0.000000</td>\n",
       "      <td>0.000000</td>\n",
       "      <td>0.000000</td>\n",
       "      <td>0.000000</td>\n",
       "      <td>0.000000</td>\n",
       "      <td>0.000000</td>\n",
       "      <td>0.000000</td>\n",
       "      <td>0.000000</td>\n",
       "      <td>0.000000</td>\n",
       "      <td>...</td>\n",
       "      <td>0.000000</td>\n",
       "      <td>0.000000</td>\n",
       "      <td>0.000000</td>\n",
       "      <td>0.000000</td>\n",
       "      <td>0.000000</td>\n",
       "      <td>0.000000</td>\n",
       "      <td>0.000000</td>\n",
       "      <td>0.000000</td>\n",
       "      <td>0.000000</td>\n",
       "      <td>0.000000</td>\n",
       "    </tr>\n",
       "    <tr>\n",
       "      <th>25%</th>\n",
       "      <td>0.249704</td>\n",
       "      <td>0.133951</td>\n",
       "      <td>0.093750</td>\n",
       "      <td>0.090909</td>\n",
       "      <td>0.330000</td>\n",
       "      <td>0.331667</td>\n",
       "      <td>0.200000</td>\n",
       "      <td>0.334000</td>\n",
       "      <td>0.010625</td>\n",
       "      <td>0.017500</td>\n",
       "      <td>...</td>\n",
       "      <td>0.400000</td>\n",
       "      <td>0.500000</td>\n",
       "      <td>0.000000</td>\n",
       "      <td>0.000000</td>\n",
       "      <td>0.000000</td>\n",
       "      <td>0.000000</td>\n",
       "      <td>0.000000</td>\n",
       "      <td>0.000000</td>\n",
       "      <td>0.000000</td>\n",
       "      <td>0.000000</td>\n",
       "    </tr>\n",
       "    <tr>\n",
       "      <th>50%</th>\n",
       "      <td>0.497970</td>\n",
       "      <td>0.211784</td>\n",
       "      <td>0.187500</td>\n",
       "      <td>0.181818</td>\n",
       "      <td>0.600000</td>\n",
       "      <td>0.583333</td>\n",
       "      <td>0.400000</td>\n",
       "      <td>0.588000</td>\n",
       "      <td>0.040625</td>\n",
       "      <td>0.063750</td>\n",
       "      <td>...</td>\n",
       "      <td>0.600000</td>\n",
       "      <td>0.666667</td>\n",
       "      <td>0.000000</td>\n",
       "      <td>0.000000</td>\n",
       "      <td>0.000000</td>\n",
       "      <td>0.000000</td>\n",
       "      <td>0.000000</td>\n",
       "      <td>0.000000</td>\n",
       "      <td>0.000000</td>\n",
       "      <td>0.000000</td>\n",
       "    </tr>\n",
       "    <tr>\n",
       "      <th>75%</th>\n",
       "      <td>0.747698</td>\n",
       "      <td>0.542545</td>\n",
       "      <td>0.312500</td>\n",
       "      <td>0.303030</td>\n",
       "      <td>1.000000</td>\n",
       "      <td>0.833333</td>\n",
       "      <td>0.800000</td>\n",
       "      <td>0.800000</td>\n",
       "      <td>0.125625</td>\n",
       "      <td>0.172500</td>\n",
       "      <td>...</td>\n",
       "      <td>1.000000</td>\n",
       "      <td>0.833333</td>\n",
       "      <td>0.000000</td>\n",
       "      <td>0.000000</td>\n",
       "      <td>0.000000</td>\n",
       "      <td>0.000000</td>\n",
       "      <td>0.000000</td>\n",
       "      <td>0.000000</td>\n",
       "      <td>0.000000</td>\n",
       "      <td>0.000000</td>\n",
       "    </tr>\n",
       "    <tr>\n",
       "      <th>max</th>\n",
       "      <td>1.000000</td>\n",
       "      <td>1.000000</td>\n",
       "      <td>1.000000</td>\n",
       "      <td>1.000000</td>\n",
       "      <td>1.000000</td>\n",
       "      <td>1.000000</td>\n",
       "      <td>1.000000</td>\n",
       "      <td>1.000000</td>\n",
       "      <td>1.000000</td>\n",
       "      <td>1.000000</td>\n",
       "      <td>...</td>\n",
       "      <td>1.000000</td>\n",
       "      <td>1.000000</td>\n",
       "      <td>1.000000</td>\n",
       "      <td>1.000000</td>\n",
       "      <td>1.000000</td>\n",
       "      <td>1.000000</td>\n",
       "      <td>1.000000</td>\n",
       "      <td>1.000000</td>\n",
       "      <td>1.000000</td>\n",
       "      <td>1.000000</td>\n",
       "    </tr>\n",
       "  </tbody>\n",
       "</table>\n",
       "<p>8 rows × 23 columns</p>\n",
       "</div>"
      ],
      "text/plain": [
       "                  0              1              2              3   \\\n",
       "count  217074.000000  217074.000000  217074.000000  217074.000000   \n",
       "mean        0.498694       0.372835       0.206878       0.203478   \n",
       "std         0.289015       0.317869       0.150666       0.144222   \n",
       "min         0.000000       0.000000       0.000000       0.000000   \n",
       "25%         0.249704       0.133951       0.093750       0.090909   \n",
       "50%         0.497970       0.211784       0.187500       0.181818   \n",
       "75%         0.747698       0.542545       0.312500       0.303030   \n",
       "max         1.000000       1.000000       1.000000       1.000000   \n",
       "\n",
       "                  4              5              6              7   \\\n",
       "count  217074.000000  217074.000000  217074.000000  217074.000000   \n",
       "mean        0.621826       0.543809       0.509281       0.554733   \n",
       "std         0.333898       0.272620       0.323309       0.325440   \n",
       "min         0.000000       0.000000       0.000000       0.000000   \n",
       "25%         0.330000       0.331667       0.200000       0.334000   \n",
       "50%         0.600000       0.583333       0.400000       0.588000   \n",
       "75%         1.000000       0.833333       0.800000       0.800000   \n",
       "max         1.000000       1.000000       1.000000       1.000000   \n",
       "\n",
       "                  8              9   ...             13             14  \\\n",
       "count  217074.000000  217074.000000  ...  217074.000000  217074.000000   \n",
       "mean        0.089428       0.117036  ...       0.668719       0.610270   \n",
       "std         0.118966       0.135802  ...       0.311593       0.251556   \n",
       "min         0.000000       0.000000  ...       0.000000       0.000000   \n",
       "25%         0.010625       0.017500  ...       0.400000       0.500000   \n",
       "50%         0.040625       0.063750  ...       0.600000       0.666667   \n",
       "75%         0.125625       0.172500  ...       1.000000       0.833333   \n",
       "max         1.000000       1.000000  ...       1.000000       1.000000   \n",
       "\n",
       "                  15             16             17             18  \\\n",
       "count  217074.000000  217074.000000  217074.000000  217074.000000   \n",
       "mean        0.000972       0.186830       0.208252       0.151911   \n",
       "std         0.031162       0.389776       0.406059       0.358936   \n",
       "min         0.000000       0.000000       0.000000       0.000000   \n",
       "25%         0.000000       0.000000       0.000000       0.000000   \n",
       "50%         0.000000       0.000000       0.000000       0.000000   \n",
       "75%         0.000000       0.000000       0.000000       0.000000   \n",
       "max         1.000000       1.000000       1.000000       1.000000   \n",
       "\n",
       "                  19             20             21             22  \n",
       "count  217074.000000  217074.000000  217074.000000  217074.000000  \n",
       "mean        0.145927       0.108530       0.107456       0.090121  \n",
       "std         0.353034       0.311049       0.309693       0.286356  \n",
       "min         0.000000       0.000000       0.000000       0.000000  \n",
       "25%         0.000000       0.000000       0.000000       0.000000  \n",
       "50%         0.000000       0.000000       0.000000       0.000000  \n",
       "75%         0.000000       0.000000       0.000000       0.000000  \n",
       "max         1.000000       1.000000       1.000000       1.000000  \n",
       "\n",
       "[8 rows x 23 columns]"
      ]
     },
     "execution_count": 81,
     "metadata": {},
     "output_type": "execute_result"
    }
   ],
   "source": [
    "X_classif.describe()"
   ]
  },
  {
   "cell_type": "code",
   "execution_count": 91,
   "id": "84199b4c",
   "metadata": {},
   "outputs": [
    {
     "data": {
      "text/plain": [
       "23"
      ]
     },
     "execution_count": 91,
     "metadata": {},
     "output_type": "execute_result"
    }
   ],
   "source": [
    "X_classif.shape[1]"
   ]
  },
  {
   "cell_type": "markdown",
   "id": "3699cad8",
   "metadata": {},
   "source": [
    "Отбор через дисперсию"
   ]
  },
  {
   "cell_type": "code",
   "execution_count": 78,
   "id": "45e7901d",
   "metadata": {},
   "outputs": [
    {
     "data": {
      "text/plain": [
       "(729322, 1)"
      ]
     },
     "execution_count": 78,
     "metadata": {},
     "output_type": "execute_result"
    }
   ],
   "source": [
    "from sklearn.feature_selection import VarianceThreshold\n",
    "vt = VarianceThreshold(0.2)\n",
    "X_regress_vt = vt.fit_transform(X_regress)\n",
    "X_regress_vt.shape"
   ]
  },
  {
   "cell_type": "code",
   "execution_count": 86,
   "id": "c2913607",
   "metadata": {},
   "outputs": [
    {
     "name": "stdout",
     "output_type": "stream",
     "text": [
      "MAE: 628.7979717292304\n",
      "MSE: 34945424.441685766\n",
      "RMSE: 5911.465507104458\n",
      "MAPE: 1.2577842790132197\n",
      "R^2: 0.00020305938130216195\n"
     ]
    }
   ],
   "source": [
    "check_regress(X_regress_vt, y_regress)"
   ]
  },
  {
   "cell_type": "code",
   "execution_count": 104,
   "id": "4dfd7a1b",
   "metadata": {},
   "outputs": [
    {
     "data": {
      "text/plain": [
       "(217074, 10)"
      ]
     },
     "execution_count": 104,
     "metadata": {},
     "output_type": "execute_result"
    }
   ],
   "source": [
    "vt = VarianceThreshold(0.10) #меньше 10 признаков сильно проседает\n",
    "X_classif_vt = vt.fit_transform(X_classif)\n",
    "X_classif_vt.shape"
   ]
  },
  {
   "cell_type": "code",
   "execution_count": 105,
   "id": "661d1f36",
   "metadata": {},
   "outputs": [
    {
     "name": "stdout",
     "output_type": "stream",
     "text": [
      "              precision    recall  f1-score   support\n",
      "\n",
      "           0       0.98      0.91      0.94     21714\n",
      "           1       0.92      0.98      0.95     21701\n",
      "\n",
      "    accuracy                           0.95     43415\n",
      "   macro avg       0.95      0.95      0.95     43415\n",
      "weighted avg       0.95      0.95      0.95     43415\n",
      "\n"
     ]
    }
   ],
   "source": [
    "check_classif(X_classif_vt, y_classif)"
   ]
  },
  {
   "cell_type": "markdown",
   "id": "00457f05",
   "metadata": {},
   "source": [
    "FutureSelection"
   ]
  },
  {
   "cell_type": "code",
   "execution_count": 107,
   "id": "1101efe8",
   "metadata": {},
   "outputs": [],
   "source": [
    "from sklearn.feature_selection import SelectKBest"
   ]
  },
  {
   "cell_type": "code",
   "execution_count": 124,
   "id": "deeabfcc",
   "metadata": {},
   "outputs": [],
   "source": [
    "skb = SelectKBest(k=6)\n",
    "X_regress_skb = skb.fit_transform(X_regress, y_regress)"
   ]
  },
  {
   "cell_type": "code",
   "execution_count": 125,
   "id": "13a957ed",
   "metadata": {},
   "outputs": [
    {
     "name": "stdout",
     "output_type": "stream",
     "text": [
      "MAE: 622.0201184558114\n",
      "MSE: 34952322.68292834\n",
      "RMSE: 5912.048941181757\n",
      "MAPE: 1.261458291543036\n",
      "R^2: 5.6990515834298705e-06\n"
     ]
    }
   ],
   "source": [
    "check_regress(X_regress_skb, y_regress)"
   ]
  },
  {
   "cell_type": "code",
   "execution_count": 120,
   "id": "5af3ef48",
   "metadata": {},
   "outputs": [],
   "source": [
    "skb = SelectKBest(k=3) #на 2 уже сильно проседает\n",
    "X_classif_skb = skb.fit_transform(X_classif, y_classif)"
   ]
  },
  {
   "cell_type": "code",
   "execution_count": 121,
   "id": "144a9fbb",
   "metadata": {},
   "outputs": [
    {
     "name": "stdout",
     "output_type": "stream",
     "text": [
      "              precision    recall  f1-score   support\n",
      "\n",
      "           0       0.97      0.91      0.94     21714\n",
      "           1       0.91      0.98      0.94     21701\n",
      "\n",
      "    accuracy                           0.94     43415\n",
      "   macro avg       0.94      0.94      0.94     43415\n",
      "weighted avg       0.94      0.94      0.94     43415\n",
      "\n"
     ]
    }
   ],
   "source": [
    "check_classif(X_classif_skb, y_classif)"
   ]
  },
  {
   "cell_type": "markdown",
   "id": "37afdd9d",
   "metadata": {},
   "source": [
    "Рекурсивынй отбор"
   ]
  },
  {
   "cell_type": "code",
   "execution_count": 126,
   "id": "53c01143",
   "metadata": {},
   "outputs": [],
   "source": [
    "from sklearn.feature_selection import RFE\n",
    "from sklearn.tree import DecisionTreeClassifier\n",
    "from sklearn.tree import DecisionTreeRegressor"
   ]
  },
  {
   "cell_type": "code",
   "execution_count": 127,
   "id": "a4cd564e",
   "metadata": {},
   "outputs": [],
   "source": [
    "tree_cls = DecisionTreeClassifier().fit(X_classif, y_classif)\n",
    "tree_reg = DecisionTreeRegressor().fit(X_regress, y_regress)"
   ]
  },
  {
   "cell_type": "code",
   "execution_count": 130,
   "id": "a8fdfe43",
   "metadata": {},
   "outputs": [],
   "source": [
    "rfe = RFE(estimator=tree_reg, n_features_to_select=4, step=1).fit(X_regress, y_regress)\n",
    "X_regress_rfe = pd.DataFrame(rfe.transform(X_regress), columns=rfe.get_feature_names_out())"
   ]
  },
  {
   "cell_type": "code",
   "execution_count": 131,
   "id": "144566e1",
   "metadata": {},
   "outputs": [
    {
     "name": "stdout",
     "output_type": "stream",
     "text": [
      "MAE: 622.0201184558114\n",
      "MSE: 34952322.68292834\n",
      "RMSE: 5912.048941181757\n",
      "MAPE: 1.261458291543036\n",
      "R^2: 5.6990515834298705e-06\n"
     ]
    }
   ],
   "source": [
    "check_regress(X_regress_rfe, y_regress)"
   ]
  },
  {
   "cell_type": "code",
   "execution_count": 136,
   "id": "78fc1af1",
   "metadata": {},
   "outputs": [],
   "source": [
    "rfe = RFE(estimator=tree_cls, n_features_to_select=1, step=1).fit(X_classif, y_classif)\n",
    "X_classif_rfe = pd.DataFrame(rfe.transform(X_classif), columns=rfe.get_feature_names_out())"
   ]
  },
  {
   "cell_type": "code",
   "execution_count": 137,
   "id": "2d929702",
   "metadata": {},
   "outputs": [
    {
     "name": "stdout",
     "output_type": "stream",
     "text": [
      "              precision    recall  f1-score   support\n",
      "\n",
      "           0       1.00      0.90      0.95     21714\n",
      "           1       0.91      1.00      0.95     21701\n",
      "\n",
      "    accuracy                           0.95     43415\n",
      "   macro avg       0.95      0.95      0.95     43415\n",
      "weighted avg       0.95      0.95      0.95     43415\n",
      "\n"
     ]
    }
   ],
   "source": [
    "check_classif(X_classif_rfe, y_classif)"
   ]
  },
  {
   "cell_type": "code",
   "execution_count": null,
   "id": "4cc2a44a",
   "metadata": {},
   "outputs": [],
   "source": []
  }
 ],
 "metadata": {
  "kernelspec": {
   "display_name": "Python 3 (ipykernel)",
   "language": "python",
   "name": "python3"
  },
  "language_info": {
   "codemirror_mode": {
    "name": "ipython",
    "version": 3
   },
   "file_extension": ".py",
   "mimetype": "text/x-python",
   "name": "python",
   "nbconvert_exporter": "python",
   "pygments_lexer": "ipython3",
   "version": "3.9.13"
  }
 },
 "nbformat": 4,
 "nbformat_minor": 5
}
