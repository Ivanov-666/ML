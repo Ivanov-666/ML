{
 "cells": [
  {
   "cell_type": "code",
   "execution_count": 24,
   "id": "6cc67f12",
   "metadata": {},
   "outputs": [],
   "source": [
    "import pandas as pd\n",
    "import numpy as np\n",
    "import random\n",
    "from sklearn.base import clone"
   ]
  },
  {
   "cell_type": "code",
   "execution_count": 25,
   "id": "82cc9f72",
   "metadata": {},
   "outputs": [],
   "source": [
    "class BaggingClassifier:\n",
    "    def __init__(self, model, n_models=10, elements_per_sample=100):\n",
    "        self.model = model\n",
    "        self.n_models = n_models\n",
    "        self.elements_per_sample = elements_per_sample\n",
    "        self.models = []\n",
    "    def fit(self, X_train, y_train):\n",
    "        df = pd.concat([X_train,y_train], axis=1)\n",
    "        for i in range(self.n_models):\n",
    "            train_set = df.sample(self.elements_per_sample, random_state=42)\n",
    "            curr_model = clone(self.model)\n",
    "            curr_model.fit(train_set.iloc[:,:-1], train_set.iloc[:,-1])\n",
    "            self.models.append(curr_model)\n",
    "    def predict(self,X_test):\n",
    "        predictions = []\n",
    "        for model in self.models:\n",
    "            pr = model.predict(X_test)\n",
    "            predictions.append(pr.reshape(-1,1))\n",
    "        return np.round(np.mean(np.concatenate(predictions, axis=1), axis=1)).astype(int)"
   ]
  },
  {
   "cell_type": "code",
   "execution_count": 26,
   "id": "f0a4a599",
   "metadata": {},
   "outputs": [],
   "source": [
    "from sklearn import datasets\n",
    "iris = datasets.load_iris()\n",
    "X = iris.data\n",
    "y = iris.target\n",
    "from sklearn.model_selection import train_test_split\n",
    "X_train, X_test, y_train, y_test = train_test_split(X, y, test_size=0.4)"
   ]
  },
  {
   "cell_type": "code",
   "execution_count": 27,
   "id": "283271c2",
   "metadata": {},
   "outputs": [],
   "source": [
    "from sklearn.neighbors import KNeighborsClassifier\n",
    "knn = KNeighborsClassifier(n_neighbors=3, metric='minkowski', p=1)\n",
    "knn.fit(X_train, y_train)\n",
    "y_knn_pred = knn.predict(X_test)"
   ]
  },
  {
   "cell_type": "code",
   "execution_count": 28,
   "id": "82a205e9",
   "metadata": {},
   "outputs": [
    {
     "name": "stdout",
     "output_type": "stream",
     "text": [
      "              precision    recall  f1-score   support\n",
      "\n",
      "           0       1.00      1.00      1.00        15\n",
      "           1       0.85      0.94      0.89        18\n",
      "           2       0.96      0.89      0.92        27\n",
      "\n",
      "    accuracy                           0.93        60\n",
      "   macro avg       0.94      0.94      0.94        60\n",
      "weighted avg       0.94      0.93      0.93        60\n",
      "\n"
     ]
    }
   ],
   "source": [
    "from sklearn.metrics import classification_report\n",
    "print(classification_report(y_test, y_knn_pred))"
   ]
  },
  {
   "cell_type": "code",
   "execution_count": 33,
   "id": "42290842",
   "metadata": {},
   "outputs": [],
   "source": [
    "bag = BaggingClassifier(KNeighborsClassifier(n_neighbors=3, metric='minkowski', p=1), 10, 40)\n",
    "bag.fit(pd.DataFrame(X_train), pd.DataFrame(y_train))\n",
    "bag_pred = bag.predict(X_test)"
   ]
  },
  {
   "cell_type": "code",
   "execution_count": 34,
   "id": "d217e60f",
   "metadata": {},
   "outputs": [
    {
     "name": "stdout",
     "output_type": "stream",
     "text": [
      "              precision    recall  f1-score   support\n",
      "\n",
      "           0       1.00      1.00      1.00        15\n",
      "           1       0.94      0.94      0.94        18\n",
      "           2       0.96      0.96      0.96        27\n",
      "\n",
      "    accuracy                           0.97        60\n",
      "   macro avg       0.97      0.97      0.97        60\n",
      "weighted avg       0.97      0.97      0.97        60\n",
      "\n"
     ]
    }
   ],
   "source": [
    "print(classification_report(y_test, bag_pred))"
   ]
  },
  {
   "cell_type": "code",
   "execution_count": null,
   "id": "88855292",
   "metadata": {},
   "outputs": [],
   "source": []
  },
  {
   "cell_type": "code",
   "execution_count": null,
   "id": "c8e6bc63",
   "metadata": {},
   "outputs": [],
   "source": []
  },
  {
   "cell_type": "code",
   "execution_count": null,
   "id": "1158f2f4",
   "metadata": {},
   "outputs": [],
   "source": []
  }
 ],
 "metadata": {
  "kernelspec": {
   "display_name": "Python 3 (ipykernel)",
   "language": "python",
   "name": "python3"
  },
  "language_info": {
   "codemirror_mode": {
    "name": "ipython",
    "version": 3
   },
   "file_extension": ".py",
   "mimetype": "text/x-python",
   "name": "python",
   "nbconvert_exporter": "python",
   "pygments_lexer": "ipython3",
   "version": "3.9.13"
  }
 },
 "nbformat": 4,
 "nbformat_minor": 5
}
