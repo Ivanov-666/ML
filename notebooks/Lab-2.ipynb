{
 "cells": [
  {
   "cell_type": "code",
   "execution_count": 1,
   "id": "a44d77e6",
   "metadata": {},
   "outputs": [],
   "source": [
    "import numpy as np\n",
    "import pandas as pd\n",
    "import sys\n",
    "sys.path.append('C:\\Machine Learning\\mylib' )\n",
    "import kNN, NaiveBayes, Classification_metrix\n",
    "import matplotlib.pyplot as plt\n",
    "import sklearn.metrics as m"
   ]
  },
  {
   "cell_type": "markdown",
   "id": "df91d5a9",
   "metadata": {},
   "source": [
    "Задание 1"
   ]
  },
  {
   "cell_type": "code",
   "execution_count": 2,
   "id": "9e2ec5f3",
   "metadata": {},
   "outputs": [
    {
     "data": {
      "text/html": [
       "<div>\n",
       "<style scoped>\n",
       "    .dataframe tbody tr th:only-of-type {\n",
       "        vertical-align: middle;\n",
       "    }\n",
       "\n",
       "    .dataframe tbody tr th {\n",
       "        vertical-align: top;\n",
       "    }\n",
       "\n",
       "    .dataframe thead th {\n",
       "        text-align: right;\n",
       "    }\n",
       "</style>\n",
       "<table border=\"1\" class=\"dataframe\">\n",
       "  <thead>\n",
       "    <tr style=\"text-align: right;\">\n",
       "      <th></th>\n",
       "      <th>weather</th>\n",
       "      <th>stroll</th>\n",
       "    </tr>\n",
       "  </thead>\n",
       "  <tbody>\n",
       "    <tr>\n",
       "      <th>0</th>\n",
       "      <td>солнечно</td>\n",
       "      <td>True</td>\n",
       "    </tr>\n",
       "    <tr>\n",
       "      <th>1</th>\n",
       "      <td>снег</td>\n",
       "      <td>False</td>\n",
       "    </tr>\n",
       "    <tr>\n",
       "      <th>2</th>\n",
       "      <td>облачно</td>\n",
       "      <td>False</td>\n",
       "    </tr>\n",
       "    <tr>\n",
       "      <th>3</th>\n",
       "      <td>дождь</td>\n",
       "      <td>False</td>\n",
       "    </tr>\n",
       "    <tr>\n",
       "      <th>4</th>\n",
       "      <td>солнечно</td>\n",
       "      <td>True</td>\n",
       "    </tr>\n",
       "    <tr>\n",
       "      <th>5</th>\n",
       "      <td>снег</td>\n",
       "      <td>False</td>\n",
       "    </tr>\n",
       "    <tr>\n",
       "      <th>6</th>\n",
       "      <td>облачно</td>\n",
       "      <td>True</td>\n",
       "    </tr>\n",
       "    <tr>\n",
       "      <th>7</th>\n",
       "      <td>снег</td>\n",
       "      <td>False</td>\n",
       "    </tr>\n",
       "    <tr>\n",
       "      <th>8</th>\n",
       "      <td>солнечно</td>\n",
       "      <td>False</td>\n",
       "    </tr>\n",
       "    <tr>\n",
       "      <th>9</th>\n",
       "      <td>облачно</td>\n",
       "      <td>True</td>\n",
       "    </tr>\n",
       "    <tr>\n",
       "      <th>10</th>\n",
       "      <td>снег</td>\n",
       "      <td>True</td>\n",
       "    </tr>\n",
       "    <tr>\n",
       "      <th>11</th>\n",
       "      <td>солнечно</td>\n",
       "      <td>True</td>\n",
       "    </tr>\n",
       "    <tr>\n",
       "      <th>12</th>\n",
       "      <td>дождь</td>\n",
       "      <td>False</td>\n",
       "    </tr>\n",
       "    <tr>\n",
       "      <th>13</th>\n",
       "      <td>дождь</td>\n",
       "      <td>True</td>\n",
       "    </tr>\n",
       "    <tr>\n",
       "      <th>14</th>\n",
       "      <td>облачно</td>\n",
       "      <td>True</td>\n",
       "    </tr>\n",
       "  </tbody>\n",
       "</table>\n",
       "</div>"
      ],
      "text/plain": [
       "     weather  stroll\n",
       "0   солнечно    True\n",
       "1       снег   False\n",
       "2    облачно   False\n",
       "3      дождь   False\n",
       "4   солнечно    True\n",
       "5       снег   False\n",
       "6    облачно    True\n",
       "7       снег   False\n",
       "8   солнечно   False\n",
       "9    облачно    True\n",
       "10      снег    True\n",
       "11  солнечно    True\n",
       "12     дождь   False\n",
       "13     дождь    True\n",
       "14   облачно    True"
      ]
     },
     "execution_count": 2,
     "metadata": {},
     "output_type": "execute_result"
    }
   ],
   "source": [
    "data = [\n",
    "        ('солнечно', True),\n",
    "        ('снег', False),\n",
    "        ('облачно', False),\n",
    "        ('дождь', False),\n",
    "        ('солнечно', True),\n",
    "        ('снег', False),\n",
    "        ('облачно', True),\n",
    "        ('снег', False),\n",
    "        ('солнечно', False),\n",
    "        ('облачно', True),\n",
    "        ('снег', True),\n",
    "        ('солнечно', True),\n",
    "        ('дождь', False),\n",
    "        ('дождь', True),\n",
    "        ('облачно', True),\n",
    "]\n",
    "df = pd.DataFrame(data, columns=['weather', 'stroll'])\n",
    "df"
   ]
  },
  {
   "cell_type": "code",
   "execution_count": 3,
   "id": "dd811567",
   "metadata": {},
   "outputs": [
    {
     "name": "stdout",
     "output_type": "stream",
     "text": [
      "0.3333333333333333\n"
     ]
    }
   ],
   "source": [
    "p_rain_if_stroll = len(df.loc[(df['weather'] == 'дождь') & (df['stroll'] == True)]) / len(df.loc[df['stroll'] == True])\n",
    "p_rain =  len(df.loc[df['weather'] == 'дождь']) / len(df)\n",
    "p_stroll = len(df.loc[df['stroll'] == True]) / len(df)\n",
    "p_stroll_if_rain = (p_stroll*p_rain_if_stroll)/p_rain\n",
    "print(p_stroll_if_rain)"
   ]
  },
  {
   "cell_type": "markdown",
   "id": "6f9bb1f9",
   "metadata": {},
   "source": [
    "Задание 2"
   ]
  },
  {
   "cell_type": "code",
   "execution_count": 4,
   "id": "e736f056",
   "metadata": {},
   "outputs": [
    {
     "name": "stdout",
     "output_type": "stream",
     "text": [
      "0    108537\n",
      "1     13662\n",
      "Name: bomb_planted, dtype: int64\n"
     ]
    }
   ],
   "source": [
    "df = pd.read_csv('../datasets/csgo_task_pred.csv')\n",
    "print(df[\"bomb_planted\"].value_counts())"
   ]
  },
  {
   "cell_type": "markdown",
   "id": "4730fe16",
   "metadata": {},
   "source": [
    "Проводим балансировку классов"
   ]
  },
  {
   "cell_type": "code",
   "execution_count": 5,
   "id": "582c10a8",
   "metadata": {},
   "outputs": [
    {
     "data": {
      "text/plain": [
       "(13662, 24)"
      ]
     },
     "execution_count": 5,
     "metadata": {},
     "output_type": "execute_result"
    }
   ],
   "source": [
    "bomb_planted = df[df[\"bomb_planted\"] == 1]\n",
    "bomb_not_planted  = df[df[\"bomb_planted\"] == 0]\n",
    "from sklearn.utils import resample\n",
    "bomb_not_planted = resample(bomb_not_planted,\n",
    "             replace=True,\n",
    "             n_samples=len(bomb_planted),\n",
    "             random_state=42)\n",
    "bomb_not_planted.shape"
   ]
  },
  {
   "cell_type": "code",
   "execution_count": 6,
   "id": "efc8740b",
   "metadata": {},
   "outputs": [],
   "source": [
    "df1 = pd.concat([bomb_not_planted, bomb_planted])"
   ]
  },
  {
   "cell_type": "code",
   "execution_count": 7,
   "id": "45c1506d",
   "metadata": {},
   "outputs": [],
   "source": [
    "y = df1[\"bomb_planted\"]\n",
    "X = df1.drop([\"bomb_planted\"], axis=1)"
   ]
  },
  {
   "cell_type": "code",
   "execution_count": 8,
   "id": "7ecbfe91",
   "metadata": {},
   "outputs": [],
   "source": [
    "from sklearn.model_selection import train_test_split\n",
    "\n",
    "X_train, X_test, y_train, y_test = train_test_split(X, y, test_size=0.2, random_state=42)"
   ]
  },
  {
   "cell_type": "markdown",
   "id": "9ed42ce7",
   "metadata": {},
   "source": [
    "Проводим масштабирование признаков\n",
    "\n",
    "после масштабирования результаты везде кроме SVM и naiveBayes очень хорошо возросли"
   ]
  },
  {
   "cell_type": "code",
   "execution_count": 9,
   "id": "6be18ba2",
   "metadata": {},
   "outputs": [],
   "source": [
    "from sklearn.preprocessing import MinMaxScaler\n",
    "min_max_scaler = MinMaxScaler()\n",
    "X_train_minmax = pd.DataFrame(min_max_scaler.fit_transform(X_train))\n",
    "X_test_minmax = pd.DataFrame(min_max_scaler.fit_transform(X_test))"
   ]
  },
  {
   "cell_type": "code",
   "execution_count": 10,
   "id": "ad2234e6",
   "metadata": {},
   "outputs": [],
   "source": [
    "from sklearn.neighbors import KNeighborsClassifier\n",
    "knn = KNeighborsClassifier(n_neighbors=9, metric='minkowski', p=1)\n",
    "knn.fit(X_train_minmax, y_train)\n",
    "y_knn_pred = knn.predict(X_test_minmax)"
   ]
  },
  {
   "cell_type": "code",
   "execution_count": 11,
   "id": "d02ce47c",
   "metadata": {},
   "outputs": [
    {
     "name": "stdout",
     "output_type": "stream",
     "text": [
      "              precision    recall  f1-score   support\n",
      "\n",
      "           0       0.94      0.86      0.90      2753\n",
      "           1       0.87      0.94      0.91      2712\n",
      "\n",
      "    accuracy                           0.90      5465\n",
      "   macro avg       0.91      0.90      0.90      5465\n",
      "weighted avg       0.91      0.90      0.90      5465\n",
      "\n"
     ]
    },
    {
     "data": {
      "text/plain": [
       "<sklearn.metrics._plot.roc_curve.RocCurveDisplay at 0x181164235e0>"
      ]
     },
     "execution_count": 11,
     "metadata": {},
     "output_type": "execute_result"
    },
    {
     "data": {
      "image/png": "[encoded data removed]",
      "text/plain": [
       "<Figure size 640x480 with 1 Axes>"
      ]
     },
     "metadata": {},
     "output_type": "display_data"
    }
   ],
   "source": [
    "from sklearn.metrics import classification_report\n",
    "print(classification_report(y_test, y_knn_pred))\n",
    "\n",
    "fpr, tpr, thresholds = m.roc_curve(y_test, y_knn_pred)\n",
    "roc_auc = m.auc(fpr, tpr)\n",
    "display =m.RocCurveDisplay(fpr=fpr, tpr=tpr, roc_auc=roc_auc)\n",
    "display.plot()"
   ]
  },
  {
   "cell_type": "code",
   "execution_count": 12,
   "id": "5cff6de6",
   "metadata": {},
   "outputs": [
    {
     "name": "stdout",
     "output_type": "stream",
     "text": [
      "              precision    recall  f1-score   support\n",
      "\n",
      "           0       0.91      0.89      0.90      2753\n",
      "           1       0.89      0.92      0.90      2712\n",
      "\n",
      "    accuracy                           0.90      5465\n",
      "   macro avg       0.90      0.90      0.90      5465\n",
      "weighted avg       0.90      0.90      0.90      5465\n",
      "\n"
     ]
    },
    {
     "data": {
      "text/plain": [
       "<sklearn.metrics._plot.roc_curve.RocCurveDisplay at 0x181282ead90>"
      ]
     },
     "execution_count": 12,
     "metadata": {},
     "output_type": "execute_result"
    },
    {
     "data": {
      "image/png": "[encoded data removed]",
      "text/plain": [
       "<Figure size 640x480 with 1 Axes>"
      ]
     },
     "metadata": {},
     "output_type": "display_data"
    }
   ],
   "source": [
    "from sklearn.naive_bayes import GaussianNB\n",
    "\n",
    "gnb = GaussianNB()\n",
    "gnb.fit(X_train_minmax, y_train)\n",
    "y_pred = gnb.predict(X_test_minmax)\n",
    "print(classification_report(y_test, y_pred))\n",
    "\n",
    "fpr, tpr, thresholds = m.roc_curve(y_test, y_pred)\n",
    "roc_auc = m.auc(fpr, tpr)\n",
    "display =m.RocCurveDisplay(fpr=fpr, tpr=tpr, roc_auc=roc_auc)\n",
    "display.plot()"
   ]
  },
  {
   "cell_type": "code",
   "execution_count": 15,
   "id": "b0d765a6",
   "metadata": {},
   "outputs": [
    {
     "name": "stdout",
     "output_type": "stream",
     "text": [
      "              precision    recall  f1-score   support\n",
      "\n",
      "           0       0.97      0.90      0.94      2753\n",
      "           1       0.91      0.97      0.94      2712\n",
      "\n",
      "    accuracy                           0.94      5465\n",
      "   macro avg       0.94      0.94      0.94      5465\n",
      "weighted avg       0.94      0.94      0.94      5465\n",
      "\n"
     ]
    },
    {
     "data": {
      "text/plain": [
       "<sklearn.metrics._plot.roc_curve.RocCurveDisplay at 0x181289e0880>"
      ]
     },
     "execution_count": 15,
     "metadata": {},
     "output_type": "execute_result"
    },
    {
     "data": {
      "image/png": "[encoded data removed]",
      "text/plain": [
       "<Figure size 640x480 with 1 Axes>"
      ]
     },
     "metadata": {},
     "output_type": "display_data"
    }
   ],
   "source": [
    "from sklearn.linear_model import LogisticRegression\n",
    "\n",
    "clf = LogisticRegression(random_state=0, C=0.5).fit(X_train_minmax, y_train)\n",
    "y_pred1 = clf.predict(X_test_minmax)\n",
    "print(classification_report(y_test, y_pred1))\n",
    "\n",
    "fpr, tpr, thresholds = m.roc_curve(y_test, y_pred1)\n",
    "roc_auc = m.auc(fpr, tpr)\n",
    "display =m.RocCurveDisplay(fpr=fpr, tpr=tpr, roc_auc=roc_auc)\n",
    "display.plot()"
   ]
  },
  {
   "cell_type": "code",
   "execution_count": 14,
   "id": "4f52cf17",
   "metadata": {},
   "outputs": [
    {
     "name": "stdout",
     "output_type": "stream",
     "text": [
      "              precision    recall  f1-score   support\n",
      "\n",
      "           0       0.98      0.90      0.94      2753\n",
      "           1       0.91      0.98      0.94      2712\n",
      "\n",
      "    accuracy                           0.94      5465\n",
      "   macro avg       0.94      0.94      0.94      5465\n",
      "weighted avg       0.94      0.94      0.94      5465\n",
      "\n"
     ]
    },
    {
     "data": {
      "text/plain": [
       "<sklearn.metrics._plot.roc_curve.RocCurveDisplay at 0x181279acf10>"
      ]
     },
     "execution_count": 14,
     "metadata": {},
     "output_type": "execute_result"
    },
    {
     "data": {
      "image/png": "[encoded data removed]",
      "text/plain": [
       "<Figure size 640x480 with 1 Axes>"
      ]
     },
     "metadata": {},
     "output_type": "display_data"
    }
   ],
   "source": [
    "from sklearn import svm\n",
    "\n",
    "clf = svm.SVC()\n",
    "clf.fit(X_train_minmax, y_train)\n",
    "y_pred2 = clf.predict(X_test_minmax)\n",
    "print(classification_report(y_test, y_pred2))\n",
    "\n",
    "fpr, tpr, thresholds = m.roc_curve(y_test, y_pred2)\n",
    "roc_auc = m.auc(fpr, tpr)\n",
    "display =m.RocCurveDisplay(fpr=fpr, tpr=tpr, roc_auc=roc_auc)\n",
    "display.plot()"
   ]
  },
  {
   "cell_type": "markdown",
   "id": "1fc270c7",
   "metadata": {},
   "source": [
    "Задание 3"
   ]
  },
  {
   "cell_type": "markdown",
   "id": "ba3d9a12",
   "metadata": {},
   "source": [
    "kNN"
   ]
  },
  {
   "cell_type": "code",
   "execution_count": 15,
   "id": "af4a9285",
   "metadata": {},
   "outputs": [
    {
     "name": "stdout",
     "output_type": "stream",
     "text": [
      "              precision    recall  f1-score   support\n",
      "\n",
      "           0       0.95      0.84      0.89       103\n",
      "           1       0.85      0.95      0.90        97\n",
      "\n",
      "    accuracy                           0.90       200\n",
      "   macro avg       0.90      0.90      0.89       200\n",
      "weighted avg       0.90      0.90      0.89       200\n",
      "\n"
     ]
    }
   ],
   "source": [
    "model = kNN.kNN(5,1,2)\n",
    "df1 = df1.sample(n=1000)\n",
    "y1 = df1[\"bomb_planted\"]\n",
    "X1 = df1.drop([\"bomb_planted\"], axis=1)\n",
    "X_train1, X_test1, y_train1, y_test1 = train_test_split(X1, y1, test_size=0.2, random_state=42)\n",
    "from sklearn.preprocessing import MinMaxScaler\n",
    "min_max_scaler = MinMaxScaler()\n",
    "X_train_minmax1 = min_max_scaler.fit_transform(X_train1)\n",
    "X_test_minmax1 = min_max_scaler.fit_transform(X_test1)\n",
    "y_train1= np.array(y_train1, dtype=np.float64)\n",
    "model.fit(X_train_minmax1, y_train1)\n",
    "y_pred3 = model.predict(X_test_minmax1)\n",
    "print(classification_report(y_test1, y_pred3))"
   ]
  },
  {
   "cell_type": "code",
   "execution_count": 17,
   "id": "fdf6c11e",
   "metadata": {},
   "outputs": [
    {
     "name": "stdout",
     "output_type": "stream",
     "text": [
      "0.895\n",
      "0.8518518518518519\n",
      "0.9484536082474226\n",
      "0.8975609756097561\n"
     ]
    }
   ],
   "source": [
    "print(Classification_metrix.acurracy(y_test1, y_pred3))\n",
    "print(Classification_metrix.precision(y_test1, y_pred3))\n",
    "print(Classification_metrix.recall(y_test1, y_pred3))\n",
    "print(Classification_metrix.f1(y_test1, y_pred3))"
   ]
  },
  {
   "cell_type": "markdown",
   "id": "0ec915c9",
   "metadata": {},
   "source": [
    "NaiveBayes"
   ]
  },
  {
   "cell_type": "code",
   "execution_count": 22,
   "id": "dd63b82f",
   "metadata": {},
   "outputs": [
    {
     "name": "stdout",
     "output_type": "stream",
     "text": [
      "              precision    recall  f1-score   support\n",
      "\n",
      "           0       0.91      0.89      0.90      2753\n",
      "           1       0.89      0.92      0.90      2712\n",
      "\n",
      "    accuracy                           0.90      5465\n",
      "   macro avg       0.90      0.90      0.90      5465\n",
      "weighted avg       0.90      0.90      0.90      5465\n",
      "\n"
     ]
    }
   ],
   "source": [
    "model = NaiveBayes.NaiveBayes()\n",
    "model.fit(X_train, y_train)\n",
    "y_pred4 = model.predict(X_test)\n",
    "print(classification_report(y_test, y_pred4))"
   ]
  },
  {
   "cell_type": "code",
   "execution_count": 23,
   "id": "abed8c65",
   "metadata": {},
   "outputs": [
    {
     "name": "stdout",
     "output_type": "stream",
     "text": [
      "0.9026532479414455\n",
      "0.8915229885057471\n",
      "0.9151917404129793\n",
      "0.9032023289665211\n"
     ]
    }
   ],
   "source": [
    "print(Classification_metrix.acurracy(y_test, y_pred4))\n",
    "print(Classification_metrix.precision(y_test, y_pred4))\n",
    "print(Classification_metrix.recall(y_test, y_pred4))\n",
    "print(Classification_metrix.f1(y_test, y_pred4))"
   ]
  },
  {
   "cell_type": "code",
   "execution_count": null,
   "id": "00ba383a",
   "metadata": {},
   "outputs": [],
   "source": []
  }
 ],
 "metadata": {
  "kernelspec": {
   "display_name": "Python 3 (ipykernel)",
   "language": "python",
   "name": "python3"
  },
  "language_info": {
   "codemirror_mode": {
    "name": "ipython",
    "version": 3
   },
   "file_extension": ".py",
   "mimetype": "text/x-python",
   "name": "python",
   "nbconvert_exporter": "python",
   "pygments_lexer": "ipython3",
   "version": "3.9.13"
  }
 },
 "nbformat": 4,
 "nbformat_minor": 5
}
