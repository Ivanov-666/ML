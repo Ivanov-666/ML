{
 "cells": [
  {
   "cell_type": "code",
   "execution_count": 3,
   "id": "a44d77e6",
   "metadata": {},
   "outputs": [],
   "source": [
    "import numpy as np\n",
    "import pandas as pd\n",
    "import sys\n",
    "sys.path.append('C:\\Machine Learning\\mylib' )\n",
    "import ClassificationTree, RegressionTree\n",
    "import matplotlib.pyplot as plt\n",
    "import sklearn.metrics as m"
   ]
  },
  {
   "cell_type": "markdown",
   "id": "df91d5a9",
   "metadata": {},
   "source": [
    "Задание 1"
   ]
  },
  {
   "cell_type": "code",
   "execution_count": 38,
   "id": "5eed2484",
   "metadata": {},
   "outputs": [],
   "source": [
    "df_classif = pd.read_csv('../datasets/csgo_task_pred.csv')\n",
    "df_regress = pd.read_csv('../datasets/trip_duration_task_pred.csv')\n",
    "X_classif = df_classif.drop(['bomb_planted'], axis=1)\n",
    "y_classif = df_classif['bomb_planted']\n",
    "X_regress = df_regress.drop(['trip_duration','dropoff_datetime'], axis=1)\n",
    "y_regress = df_regress['trip_duration']"
   ]
  },
  {
   "cell_type": "code",
   "execution_count": 39,
   "id": "194ba8e4",
   "metadata": {},
   "outputs": [],
   "source": [
    "from sklearn.model_selection import train_test_split\n",
    "X_train_classif, X_test_classif, y_train_classif, y_test_classif = train_test_split(X_classif, y_classif, test_size=0.2)\n",
    "X_train_regress, X_test_regress, y_train_regress, y_test_regress = train_test_split(X_regress, y_regress, test_size=0.2)"
   ]
  },
  {
   "cell_type": "markdown",
   "id": "21d0013c",
   "metadata": {},
   "source": [
    "Простое обучение регрессора и классификатора"
   ]
  },
  {
   "cell_type": "code",
   "execution_count": 40,
   "id": "831f1b2e",
   "metadata": {},
   "outputs": [],
   "source": [
    "from sklearn.tree import DecisionTreeClassifier, DecisionTreeRegressor\n",
    "tree_classif = DecisionTreeClassifier(max_depth=5).fit(X_train_classif, y_train_classif)\n",
    "tree_regress = DecisionTreeRegressor(max_depth=5).fit(X_train_regress, y_train_regress)"
   ]
  },
  {
   "cell_type": "code",
   "execution_count": 41,
   "id": "fe80b96f",
   "metadata": {},
   "outputs": [],
   "source": [
    "y_pred_classif = tree_classif.predict(X_test_classif)\n",
    "y_pred_regress = tree_regress.predict(X_test_regress)"
   ]
  },
  {
   "cell_type": "code",
   "execution_count": 42,
   "id": "1c481968",
   "metadata": {},
   "outputs": [
    {
     "name": "stdout",
     "output_type": "stream",
     "text": [
      "MAE: 527.0411647512722\n",
      "MSE: 9691537.244919408\n",
      "RMSE: 3113.12339057086\n",
      "MAPE: 1.1681002509212415\n",
      "R^2: 0.018960198280845497\n"
     ]
    }
   ],
   "source": [
    "from sklearn.metrics import mean_squared_error, mean_absolute_error, mean_absolute_percentage_error\n",
    "from math import sqrt\n",
    "print(f'MAE: {mean_absolute_error(y_test_regress, y_pred_regress)}')\n",
    "print(f'MSE: {mean_squared_error(y_test_regress, y_pred_regress)}')\n",
    "print(f'RMSE: {sqrt(mean_squared_error(y_test_regress, y_pred_regress))}')\n",
    "print(f'MAPE: {sqrt(mean_absolute_percentage_error(y_test_regress, y_pred_regress))}')\n",
    "print(f'R^2: {tree_regress.score(X_test_regress, y_test_regress)}')"
   ]
  },
  {
   "cell_type": "code",
   "execution_count": 43,
   "id": "1eb147dd",
   "metadata": {},
   "outputs": [
    {
     "name": "stdout",
     "output_type": "stream",
     "text": [
      "              precision    recall  f1-score   support\n",
      "\n",
      "           0       0.99      0.98      0.99     21713\n",
      "           1       0.87      0.95      0.91      2727\n",
      "\n",
      "    accuracy                           0.98     24440\n",
      "   macro avg       0.93      0.97      0.95     24440\n",
      "weighted avg       0.98      0.98      0.98     24440\n",
      "\n"
     ]
    },
    {
     "data": {
      "text/plain": [
       "<sklearn.metrics._plot.roc_curve.RocCurveDisplay at 0x1dfb686cc10>"
      ]
     },
     "execution_count": 43,
     "metadata": {},
     "output_type": "execute_result"
    },
    {
     "data": {
      "image/png": "[encoded data removed]",
      "text/plain": [
       "<Figure size 640x480 with 1 Axes>"
      ]
     },
     "metadata": {},
     "output_type": "display_data"
    }
   ],
   "source": [
    "from sklearn.metrics import classification_report\n",
    "print(classification_report(y_test_classif, y_pred_classif))\n",
    "\n",
    "fpr, tpr, thresholds = m.roc_curve(y_test_classif, y_pred_classif)\n",
    "roc_auc = m.auc(fpr, tpr)\n",
    "display =m.RocCurveDisplay(fpr=fpr, tpr=tpr, roc_auc=roc_auc)\n",
    "display.plot()"
   ]
  },
  {
   "cell_type": "markdown",
   "id": "fd612823",
   "metadata": {},
   "source": [
    "Обучение классификатора после даунсемплинга и масштабирования "
   ]
  },
  {
   "cell_type": "code",
   "execution_count": 11,
   "id": "8cc8fb59",
   "metadata": {},
   "outputs": [],
   "source": [
    "bomb_planted = df_classif[df_classif[\"bomb_planted\"] == 1]\n",
    "bomb_not_planted  = df_classif[df_classif[\"bomb_planted\"] == 0]\n",
    "from sklearn.utils import resample\n",
    "bomb_not_planted = resample(bomb_not_planted,\n",
    "             replace=True,\n",
    "             n_samples=len(bomb_planted),\n",
    "             random_state=42)\n",
    "bomb_not_planted.shape\n",
    "df1 = pd.concat([bomb_not_planted, bomb_planted])\n",
    "y = df1[\"bomb_planted\"]\n",
    "X = df1.drop([\"bomb_planted\"], axis=1)\n",
    "X_train, X_test, y_train, y_test = train_test_split(X, y, test_size=0.2, random_state=42)\n",
    "from sklearn.preprocessing import MinMaxScaler\n",
    "min_max_scaler = MinMaxScaler()\n",
    "X_train_minmax = pd.DataFrame(min_max_scaler.fit_transform(X_train))\n",
    "X_test_minmax = pd.DataFrame(min_max_scaler.fit_transform(X_test))"
   ]
  },
  {
   "cell_type": "code",
   "execution_count": 12,
   "id": "29483881",
   "metadata": {},
   "outputs": [
    {
     "name": "stdout",
     "output_type": "stream",
     "text": [
      "              precision    recall  f1-score   support\n",
      "\n",
      "           0       0.98      0.95      0.97      2753\n",
      "           1       0.95      0.98      0.97      2712\n",
      "\n",
      "    accuracy                           0.97      5465\n",
      "   macro avg       0.97      0.97      0.97      5465\n",
      "weighted avg       0.97      0.97      0.97      5465\n",
      "\n"
     ]
    },
    {
     "data": {
      "text/plain": [
       "<sklearn.metrics._plot.roc_curve.RocCurveDisplay at 0x1bdd49e5970>"
      ]
     },
     "execution_count": 12,
     "metadata": {},
     "output_type": "execute_result"
    },
    {
     "data": {
      "image/png": "[encoded data removed]",
      "text/plain": [
       "<Figure size 640x480 with 1 Axes>"
      ]
     },
     "metadata": {},
     "output_type": "display_data"
    }
   ],
   "source": [
    "tree_classif = DecisionTreeClassifier(max_depth=5).fit(X_train_minmax, y_train)\n",
    "y_pred_classif = tree_classif.predict(X_test_minmax)\n",
    "from sklearn.metrics import classification_report\n",
    "print(classification_report(y_test, y_pred_classif))\n",
    "\n",
    "fpr, tpr, thresholds = m.roc_curve(y_test, y_pred_classif)\n",
    "roc_auc = m.auc(fpr, tpr)\n",
    "display =m.RocCurveDisplay(fpr=fpr, tpr=tpr, roc_auc=roc_auc)\n",
    "display.plot()"
   ]
  },
  {
   "cell_type": "markdown",
   "id": "6f9bb1f9",
   "metadata": {},
   "source": [
    "Задание 2"
   ]
  },
  {
   "cell_type": "markdown",
   "id": "8a8fcaad",
   "metadata": {},
   "source": [
    "Bagging"
   ]
  },
  {
   "cell_type": "code",
   "execution_count": 28,
   "id": "00ba383a",
   "metadata": {},
   "outputs": [],
   "source": [
    "from sklearn.ensemble import BaggingClassifier, BaggingRegressor\n",
    "bag_classif = BaggingClassifier(estimator=DecisionTreeClassifier(max_depth=5),\n",
    "                                n_estimators=200,\n",
    "                                max_features=10,\n",
    "                                max_samples=200,).fit(X_train_classif, y_train_classif)\n",
    "bag_regress = BaggingRegressor(estimator=DecisionTreeRegressor(max_depth=5),\n",
    "                                n_estimators=100,\n",
    "                                max_features=5,\n",
    "                                max_samples=100,).fit(X_train_regress, y_train_regress)"
   ]
  },
  {
   "cell_type": "code",
   "execution_count": 14,
   "id": "9e2ecbf6",
   "metadata": {},
   "outputs": [],
   "source": [
    "y_pred_bag_classif = bag_classif.predict(X_test_classif)\n",
    "y_pred_bag_regress = bag_regress.predict(X_test_regress)"
   ]
  },
  {
   "cell_type": "code",
   "execution_count": 15,
   "id": "0d265253",
   "metadata": {},
   "outputs": [
    {
     "name": "stdout",
     "output_type": "stream",
     "text": [
      "MAE: 571.5987331532464\n",
      "MSE: 10228408.988818407\n",
      "RMSE: 3198.1883917021537\n",
      "MAPE: 1.2539475620678133\n",
      "R^2: 0.007215382306360096\n"
     ]
    }
   ],
   "source": [
    "from sklearn.metrics import mean_squared_error, mean_absolute_error, mean_absolute_percentage_error\n",
    "from math import sqrt\n",
    "print(f'MAE: {mean_absolute_error(y_test_regress, y_pred_bag_regress)}')\n",
    "print(f'MSE: {mean_squared_error(y_test_regress, y_pred_bag_regress)}')\n",
    "print(f'RMSE: {sqrt(mean_squared_error(y_test_regress, y_pred_bag_regress))}')\n",
    "print(f'MAPE: {sqrt(mean_absolute_percentage_error(y_test_regress, y_pred_bag_regress))}')\n",
    "print(f'R^2: {bag_regress.score(X_test_regress, y_test_regress)}')"
   ]
  },
  {
   "cell_type": "code",
   "execution_count": 16,
   "id": "53ab1116",
   "metadata": {},
   "outputs": [
    {
     "name": "stdout",
     "output_type": "stream",
     "text": [
      "              precision    recall  f1-score   support\n",
      "\n",
      "           0       0.96      0.99      0.97     21628\n",
      "           1       0.86      0.69      0.77      2812\n",
      "\n",
      "    accuracy                           0.95     24440\n",
      "   macro avg       0.91      0.84      0.87     24440\n",
      "weighted avg       0.95      0.95      0.95     24440\n",
      "\n"
     ]
    },
    {
     "data": {
      "text/plain": [
       "<sklearn.metrics._plot.roc_curve.RocCurveDisplay at 0x1bdde2246d0>"
      ]
     },
     "execution_count": 16,
     "metadata": {},
     "output_type": "execute_result"
    },
    {
     "data": {
      "image/png": "[encoded data removed]",
      "text/plain": [
       "<Figure size 640x480 with 1 Axes>"
      ]
     },
     "metadata": {},
     "output_type": "display_data"
    }
   ],
   "source": [
    "from sklearn.metrics import classification_report\n",
    "print(classification_report(y_test_classif, y_pred_bag_classif))\n",
    "\n",
    "fpr, tpr, thresholds = m.roc_curve(y_test_classif, y_pred_bag_classif)\n",
    "roc_auc = m.auc(fpr, tpr)\n",
    "display =m.RocCurveDisplay(fpr=fpr, tpr=tpr, roc_auc=roc_auc)\n",
    "display.plot()"
   ]
  },
  {
   "cell_type": "markdown",
   "id": "5a1acfb0",
   "metadata": {},
   "source": [
    "GradientBoosting"
   ]
  },
  {
   "cell_type": "code",
   "execution_count": 17,
   "id": "154d86c2",
   "metadata": {},
   "outputs": [],
   "source": [
    "from sklearn.ensemble import GradientBoostingClassifier, GradientBoostingRegressor"
   ]
  },
  {
   "cell_type": "code",
   "execution_count": 18,
   "id": "96d46b6f",
   "metadata": {},
   "outputs": [],
   "source": [
    "boost_classif = GradientBoostingClassifier(\n",
    "                                learning_rate = 0.1,\n",
    "                                n_estimators = 100,\n",
    "                                subsample = 0.1,).fit(X_train_classif, y_train_classif)\n",
    "boost_regress = GradientBoostingRegressor(\n",
    "                                learning_rate = 0.1,\n",
    "                                n_estimators = 100,\n",
    "                                subsample = 0.1,).fit(X_train_regress, y_train_regress)"
   ]
  },
  {
   "cell_type": "code",
   "execution_count": 19,
   "id": "08caf5ad",
   "metadata": {},
   "outputs": [],
   "source": [
    "y_pred_boost_classif = boost_classif.predict(X_test_classif)\n",
    "y_pred_boost_regress = boost_regress.predict(X_test_regress)"
   ]
  },
  {
   "cell_type": "code",
   "execution_count": 20,
   "id": "46902a76",
   "metadata": {},
   "outputs": [
    {
     "name": "stdout",
     "output_type": "stream",
     "text": [
      "MAE: 544.1039423419562\n",
      "MSE: 13787516.858719418\n",
      "RMSE: 3713.1545697317015\n",
      "MAPE: 1.282254339240224\n",
      "R^2: -0.33823693093344187\n"
     ]
    }
   ],
   "source": [
    "from sklearn.metrics import mean_squared_error, mean_absolute_error, mean_absolute_percentage_error\n",
    "from math import sqrt\n",
    "print(f'MAE: {mean_absolute_error(y_test_regress, y_pred_boost_regress)}')\n",
    "print(f'MSE: {mean_squared_error(y_test_regress, y_pred_boost_regress)}')\n",
    "print(f'RMSE: {sqrt(mean_squared_error(y_test_regress, y_pred_boost_regress))}')\n",
    "print(f'MAPE: {sqrt(mean_absolute_percentage_error(y_test_regress, y_pred_boost_regress))}')\n",
    "print(f'R^2: {boost_regress.score(X_test_regress, y_test_regress)}')"
   ]
  },
  {
   "cell_type": "code",
   "execution_count": 21,
   "id": "fc0e293e",
   "metadata": {},
   "outputs": [
    {
     "name": "stdout",
     "output_type": "stream",
     "text": [
      "              precision    recall  f1-score   support\n",
      "\n",
      "           0       0.99      0.99      0.99     21628\n",
      "           1       0.90      0.95      0.92      2812\n",
      "\n",
      "    accuracy                           0.98     24440\n",
      "   macro avg       0.94      0.97      0.96     24440\n",
      "weighted avg       0.98      0.98      0.98     24440\n",
      "\n"
     ]
    },
    {
     "data": {
      "text/plain": [
       "<sklearn.metrics._plot.roc_curve.RocCurveDisplay at 0x1bdd5a33c70>"
      ]
     },
     "execution_count": 21,
     "metadata": {},
     "output_type": "execute_result"
    },
    {
     "data": {
      "image/png": "[encoded data removed]",
      "text/plain": [
       "<Figure size 640x480 with 1 Axes>"
      ]
     },
     "metadata": {},
     "output_type": "display_data"
    }
   ],
   "source": [
    "from sklearn.metrics import classification_report\n",
    "print(classification_report(y_test_classif, y_pred_boost_classif))\n",
    "\n",
    "fpr, tpr, thresholds = m.roc_curve(y_test_classif, y_pred_boost_classif)\n",
    "roc_auc = m.auc(fpr, tpr)\n",
    "display =m.RocCurveDisplay(fpr=fpr, tpr=tpr, roc_auc=roc_auc)\n",
    "display.plot()"
   ]
  },
  {
   "cell_type": "code",
   "execution_count": 22,
   "id": "65870417",
   "metadata": {},
   "outputs": [],
   "source": [
    "from sklearn.ensemble import StackingClassifier, StackingRegressor\n",
    "stack_classif = StackingClassifier(estimators = [('dst',DecisionTreeClassifier(max_depth=5))],n_jobs=-1).fit(X_train_classif, y_train_classif)\n",
    "stack_regress = StackingRegressor(estimators = [('dst',DecisionTreeRegressor(max_depth=5))], n_jobs=-1).fit(X_train_regress, y_train_regress)"
   ]
  },
  {
   "cell_type": "code",
   "execution_count": 24,
   "id": "f4c43714",
   "metadata": {},
   "outputs": [],
   "source": [
    "y_pred_stack_classif = stack_classif.predict(X_test_classif)\n",
    "y_pred_stack_regress = stack_regress.predict(X_test_regress)"
   ]
  },
  {
   "cell_type": "code",
   "execution_count": 25,
   "id": "bdb9fe7f",
   "metadata": {},
   "outputs": [
    {
     "name": "stdout",
     "output_type": "stream",
     "text": [
      "MAE: 617.5501184161618\n",
      "MSE: 10292214.941139298\n",
      "RMSE: 3208.148210594283\n",
      "MAPE: 1.2666133336978784\n",
      "R^2: 0.0010222814975516803\n"
     ]
    }
   ],
   "source": [
    "from sklearn.metrics import mean_squared_error, mean_absolute_error, mean_absolute_percentage_error\n",
    "from math import sqrt\n",
    "print(f'MAE: {mean_absolute_error(y_test_regress, y_pred_stack_regress)}')\n",
    "print(f'MSE: {mean_squared_error(y_test_regress, y_pred_stack_regress)}')\n",
    "print(f'RMSE: {sqrt(mean_squared_error(y_test_regress, y_pred_stack_regress))}')\n",
    "print(f'MAPE: {sqrt(mean_absolute_percentage_error(y_test_regress, y_pred_stack_regress))}')\n",
    "print(f'R^2: {stack_regress.score(X_test_regress, y_test_regress)}')"
   ]
  },
  {
   "cell_type": "code",
   "execution_count": 26,
   "id": "5846b76e",
   "metadata": {},
   "outputs": [
    {
     "name": "stdout",
     "output_type": "stream",
     "text": [
      "              precision    recall  f1-score   support\n",
      "\n",
      "           0       0.99      0.98      0.99     21628\n",
      "           1       0.88      0.93      0.91      2812\n",
      "\n",
      "    accuracy                           0.98     24440\n",
      "   macro avg       0.94      0.96      0.95     24440\n",
      "weighted avg       0.98      0.98      0.98     24440\n",
      "\n"
     ]
    },
    {
     "data": {
      "text/plain": [
       "<sklearn.metrics._plot.roc_curve.RocCurveDisplay at 0x1bdde224d60>"
      ]
     },
     "execution_count": 26,
     "metadata": {},
     "output_type": "execute_result"
    },
    {
     "data": {
      "image/png": "[encoded data removed]",
      "text/plain": [
       "<Figure size 640x480 with 1 Axes>"
      ]
     },
     "metadata": {},
     "output_type": "display_data"
    }
   ],
   "source": [
    "from sklearn.metrics import classification_report\n",
    "print(classification_report(y_test_classif, y_pred_stack_classif))\n",
    "\n",
    "fpr, tpr, thresholds = m.roc_curve(y_test_classif, y_pred_stack_classif)\n",
    "roc_auc = m.auc(fpr, tpr)\n",
    "display =m.RocCurveDisplay(fpr=fpr, tpr=tpr, roc_auc=roc_auc)\n",
    "display.plot()"
   ]
  },
  {
   "cell_type": "markdown",
   "id": "c6d901f9",
   "metadata": {},
   "source": [
    "Задание 3"
   ]
  },
  {
   "cell_type": "code",
   "execution_count": 28,
   "id": "b3919ecd",
   "metadata": {
    "scrolled": false
   },
   "outputs": [],
   "source": [
    "from catboost import CatBoostRegressor, CatBoostClassifier"
   ]
  },
  {
   "cell_type": "code",
   "execution_count": 34,
   "id": "354b6a0b",
   "metadata": {},
   "outputs": [
    {
     "name": "stdout",
     "output_type": "stream",
     "text": [
      "Learning rate set to 0.5\n",
      "0:\tlearn: 4031.7739046\ttotal: 98.6ms\tremaining: 197ms\n",
      "1:\tlearn: 3837.2137318\ttotal: 203ms\tremaining: 102ms\n",
      "2:\tlearn: 3682.4494387\ttotal: 296ms\tremaining: 0us\n",
      "Learning rate set to 0.5\n",
      "0:\tlearn: 0.1145756\ttotal: 30.1ms\tremaining: 60.2ms\n",
      "1:\tlearn: 0.0891206\ttotal: 61ms\tremaining: 30.5ms\n",
      "2:\tlearn: 0.0677524\ttotal: 93.2ms\tremaining: 0us\n"
     ]
    }
   ],
   "source": [
    "cat_boost_regr = CatBoostRegressor(depth=5,iterations=3).fit(X_train_regress, y_train_regress)\n",
    "cat_boost_class = CatBoostClassifier(depth=5,iterations=3).fit(X_train_classif,y_train_classif)"
   ]
  },
  {
   "cell_type": "code",
   "execution_count": 35,
   "id": "85a12d97",
   "metadata": {},
   "outputs": [],
   "source": [
    "y_pred_cat_classif = cat_boost_class.predict(X_test_classif)\n",
    "y_pred_cat_regress = cat_boost_regr.predict(X_test_regress)"
   ]
  },
  {
   "cell_type": "code",
   "execution_count": 36,
   "id": "1bd2c6f4",
   "metadata": {},
   "outputs": [
    {
     "name": "stdout",
     "output_type": "stream",
     "text": [
      "MAE: 522.2018881934395\n",
      "MSE: 8818922.466984775\n",
      "RMSE: 2969.6670633228864\n",
      "MAPE: 1.1859247406015259\n",
      "R^2: 0.018154817197234552\n"
     ]
    }
   ],
   "source": [
    "from sklearn.metrics import mean_squared_error, mean_absolute_error, mean_absolute_percentage_error\n",
    "from math import sqrt\n",
    "print(f'MAE: {mean_absolute_error(y_test_regress, y_pred_cat_regress)}')\n",
    "print(f'MSE: {mean_squared_error(y_test_regress, y_pred_cat_regress)}')\n",
    "print(f'RMSE: {sqrt(mean_squared_error(y_test_regress, y_pred_cat_regress))}')\n",
    "print(f'MAPE: {sqrt(mean_absolute_percentage_error(y_test_regress, y_pred_cat_regress))}')\n",
    "print(f'R^2: {cat_boost_regr.score(X_test_regress, y_test_regress)}')"
   ]
  },
  {
   "cell_type": "code",
   "execution_count": 37,
   "id": "4419ed60",
   "metadata": {},
   "outputs": [
    {
     "name": "stdout",
     "output_type": "stream",
     "text": [
      "              precision    recall  f1-score   support\n",
      "\n",
      "           0       0.99      0.98      0.99     21713\n",
      "           1       0.87      0.91      0.89      2727\n",
      "\n",
      "    accuracy                           0.97     24440\n",
      "   macro avg       0.93      0.95      0.94     24440\n",
      "weighted avg       0.98      0.97      0.97     24440\n",
      "\n"
     ]
    },
    {
     "data": {
      "text/plain": [
       "<sklearn.metrics._plot.roc_curve.RocCurveDisplay at 0x1dfa76c4700>"
      ]
     },
     "execution_count": 37,
     "metadata": {},
     "output_type": "execute_result"
    },
    {
     "data": {
      "image/png": "[encoded data removed]",
      "text/plain": [
       "<Figure size 640x480 with 1 Axes>"
      ]
     },
     "metadata": {},
     "output_type": "display_data"
    }
   ],
   "source": [
    "from sklearn.metrics import classification_report\n",
    "print(classification_report(y_test_classif, y_pred_cat_classif))\n",
    "\n",
    "fpr, tpr, thresholds = m.roc_curve(y_test_classif, y_pred_cat_classif)\n",
    "roc_auc = m.auc(fpr, tpr)\n",
    "display =m.RocCurveDisplay(fpr=fpr, tpr=tpr, roc_auc=roc_auc)\n",
    "display.plot()"
   ]
  },
  {
   "cell_type": "markdown",
   "id": "540caf53",
   "metadata": {},
   "source": [
    "Задание 4"
   ]
  },
  {
   "cell_type": "code",
   "execution_count": 53,
   "id": "fa747f3f",
   "metadata": {},
   "outputs": [],
   "source": [
    "df1_classif = df_classif.sample(n=100)\n",
    "df1_regress = df_regress.sample(n=100)\n",
    "X_classif1 = df1_classif.drop(['bomb_planted'], axis=1)\n",
    "y_classif1 = df1_classif['bomb_planted']\n",
    "X_regress1 = df1_regress.drop(['trip_duration','dropoff_datetime'], axis=1)\n",
    "y_regress1 = df1_regress['trip_duration']\n",
    "from sklearn.model_selection import train_test_split\n",
    "X_train1_classif, X_test1_classif, y_train1_classif, y_test1_classif = train_test_split(X_classif1, y_classif1, test_size=0.2)\n",
    "X_train1_regress, X_test1_regress, y_train1_regress, y_test1_regress = train_test_split(X_regress1, y_regress1, test_size=0.2)"
   ]
  },
  {
   "cell_type": "code",
   "execution_count": 54,
   "id": "1de136a0",
   "metadata": {
    "collapsed": true
   },
   "outputs": [
    {
     "name": "stdout",
     "output_type": "stream",
     "text": [
      "        Unnamed: 0  time_left  ct_score  t_score  ct_health  t_health  \\\n",
      "118698    118906.0     174.96      13.0     10.0      500.0     500.0   \n",
      "27461      27509.0      14.92       9.0      9.0      313.0     195.0   \n",
      "61225      61344.0      94.95       6.0     11.0      380.0     343.0   \n",
      "46354      46446.0     114.94      13.0      6.0      500.0     500.0   \n",
      "92238      92404.0     174.91       0.0      2.0      500.0     500.0   \n",
      "...            ...        ...       ...      ...        ...       ...   \n",
      "42975      43060.0      14.93      12.0      0.0      300.0     139.0   \n",
      "61312      61431.0      74.95       3.0      0.0      400.0     378.0   \n",
      "107844    108035.0     114.93       2.0      3.0      500.0     500.0   \n",
      "81988      82142.0      94.95      12.0      9.0      500.0     500.0   \n",
      "8992        9009.0     166.95       4.0      3.0      500.0     500.0   \n",
      "\n",
      "        ct_armor  t_armor  ct_money  t_money  ...  t_players_alive  \\\n",
      "118698     199.0      0.0   27550.0  37450.0  ...              5.0   \n",
      "27461      400.0    233.0    3350.0   7600.0  ...              3.0   \n",
      "61225      396.0    382.0    3600.0   1200.0  ...              4.0   \n",
      "46354      100.0    470.0   18250.0  16400.0  ...              5.0   \n",
      "92238        0.0    183.0   14950.0  22850.0  ...              5.0   \n",
      "...          ...      ...       ...      ...  ...              ...   \n",
      "42975      292.0    200.0   32800.0    350.0  ...              2.0   \n",
      "61312      397.0      0.0   16800.0  10200.0  ...              4.0   \n",
      "107844     500.0    414.0     400.0  24700.0  ...              5.0   \n",
      "81988      400.0    474.0   12550.0  14450.0  ...              5.0   \n",
      "8992         0.0    187.0   12850.0  18150.0  ...              5.0   \n",
      "\n",
      "        map_de_cache  map_de_dust2  map_de_inferno  map_de_mirage  \\\n",
      "118698           0.0           0.0             1.0            0.0   \n",
      "27461            0.0           0.0             1.0            0.0   \n",
      "61225            0.0           0.0             0.0            0.0   \n",
      "46354            0.0           1.0             0.0            0.0   \n",
      "92238            0.0           0.0             0.0            0.0   \n",
      "...              ...           ...             ...            ...   \n",
      "42975            0.0           0.0             0.0            0.0   \n",
      "61312            0.0           0.0             1.0            0.0   \n",
      "107844           0.0           0.0             0.0            0.0   \n",
      "81988            0.0           0.0             0.0            1.0   \n",
      "8992             0.0           0.0             0.0            1.0   \n",
      "\n",
      "        map_de_nuke  map_de_overpass  map_de_train  map_de_vertigo  \\\n",
      "118698          0.0              0.0           0.0             0.0   \n",
      "27461           0.0              0.0           0.0             0.0   \n",
      "61225           1.0              0.0           0.0             0.0   \n",
      "46354           0.0              0.0           0.0             0.0   \n",
      "92238           0.0              0.0           0.0             1.0   \n",
      "...             ...              ...           ...             ...   \n",
      "42975           0.0              0.0           1.0             0.0   \n",
      "61312           0.0              0.0           0.0             0.0   \n",
      "107844          1.0              0.0           0.0             0.0   \n",
      "81988           0.0              0.0           0.0             0.0   \n",
      "8992            0.0              0.0           0.0             0.0   \n",
      "\n",
      "        bomb_planted  \n",
      "118698           0.0  \n",
      "27461            0.0  \n",
      "61225            0.0  \n",
      "46354            0.0  \n",
      "92238            0.0  \n",
      "...              ...  \n",
      "42975            0.0  \n",
      "61312            0.0  \n",
      "107844           0.0  \n",
      "81988            0.0  \n",
      "8992             0.0  \n",
      "\n",
      "[73 rows x 24 columns]\n",
      "0.0\n",
      "0.0\n",
      "0.0\n",
      "0.0\n",
      "0.0\n",
      "0.0\n",
      "0.0\n",
      "0.0\n",
      "0.0\n",
      "0.0\n",
      "0.0\n",
      "0.0\n",
      "0.0\n",
      "0.0\n",
      "1.0\n",
      "0.0\n",
      "0.0\n",
      "0.0\n",
      "0.0\n",
      "0.0\n",
      "0.0\n",
      "0.0\n",
      "0.0\n",
      "0.0\n",
      "0.0\n",
      "0.0\n",
      "0.0\n",
      "0.0\n",
      "0.0\n",
      "0.0\n",
      "1.0\n",
      "0.0\n",
      "1.0\n",
      "0.0\n",
      "0.0\n",
      "0.0\n",
      "0.0\n",
      "0.0\n",
      "0.0\n",
      "0.0\n",
      "0.0\n",
      "0.0\n",
      "0.0\n",
      "0.0\n",
      "0.0\n",
      "0.0\n",
      "0.0\n",
      "0.0\n",
      "0.0\n",
      "0.0\n",
      "0.0\n",
      "0.0\n",
      "0.0\n",
      "0.0\n",
      "0.0\n",
      "0.0\n",
      "0.0\n",
      "0.0\n",
      "0.0\n",
      "0.0\n",
      "0.0\n",
      "0.0\n",
      "0.0\n",
      "0.0\n",
      "0.0\n",
      "0.0\n",
      "0.0\n",
      "0.0\n",
      "0.0\n",
      "0.0\n",
      "0.0\n",
      "0.0\n",
      "0.0\n",
      "       Unnamed: 0  time_left  ct_score  t_score  ct_health  t_health  \\\n",
      "36022     36087.0      18.58       9.0      7.0      268.0       0.0   \n",
      "\n",
      "       ct_armor  t_armor  ct_money  t_money  ...  t_players_alive  \\\n",
      "36022     199.0      0.0    2150.0      0.0  ...              0.0   \n",
      "\n",
      "       map_de_cache  map_de_dust2  map_de_inferno  map_de_mirage  map_de_nuke  \\\n",
      "36022           0.0           0.0             0.0            0.0          0.0   \n",
      "\n",
      "       map_de_overpass  map_de_train  map_de_vertigo  bomb_planted  \n",
      "36022              1.0           0.0             0.0           1.0  \n",
      "\n",
      "[1 rows x 24 columns]\n",
      "1.0\n",
      "       Unnamed: 0  time_left  ct_score  t_score  ct_health  t_health  \\\n",
      "64770     64895.0      12.27      13.0      9.0      320.0     307.0   \n",
      "\n",
      "       ct_armor  t_armor  ct_money  t_money  ...  t_players_alive  \\\n",
      "64770       0.0    400.0   11850.0   1900.0  ...              4.0   \n",
      "\n",
      "       map_de_cache  map_de_dust2  map_de_inferno  map_de_mirage  map_de_nuke  \\\n",
      "64770           0.0           0.0             0.0            1.0          0.0   \n",
      "\n",
      "       map_de_overpass  map_de_train  map_de_vertigo  bomb_planted  \n",
      "64770              0.0           0.0             0.0           1.0  \n",
      "\n",
      "[1 rows x 24 columns]\n",
      "1.0\n",
      "        Unnamed: 0  time_left  ct_score  t_score  ct_health  t_health  \\\n",
      "33788      33850.0       7.48       3.0      2.0       96.0       0.0   \n",
      "54516      54623.0      35.91       2.0      0.0      100.0     217.0   \n",
      "111133    111330.0       5.27       2.0      0.0      100.0     246.0   \n",
      "42414      42495.0      12.12      10.0      7.0      100.0     187.0   \n",
      "80512      80663.0      25.76       0.0      1.0      100.0     391.0   \n",
      "\n",
      "        ct_armor  t_armor  ct_money  t_money  ...  t_players_alive  \\\n",
      "33788      100.0      0.0     350.0      0.0  ...              0.0   \n",
      "54516       87.0    276.0    2800.0   2200.0  ...              3.0   \n",
      "111133     100.0    367.0    1300.0   1350.0  ...              4.0   \n",
      "42414        0.0    283.0    2400.0   8650.0  ...              4.0   \n",
      "80512      100.0    491.0      50.0   2800.0  ...              5.0   \n",
      "\n",
      "        map_de_cache  map_de_dust2  map_de_inferno  map_de_mirage  \\\n",
      "33788            0.0           0.0             0.0            1.0   \n",
      "54516            0.0           0.0             0.0            0.0   \n",
      "111133           0.0           0.0             0.0            0.0   \n",
      "42414            0.0           1.0             0.0            0.0   \n",
      "80512            0.0           0.0             0.0            0.0   \n",
      "\n",
      "        map_de_nuke  map_de_overpass  map_de_train  map_de_vertigo  \\\n",
      "33788           0.0              0.0           0.0             0.0   \n",
      "54516           0.0              1.0           0.0             0.0   \n",
      "111133          1.0              0.0           0.0             0.0   \n",
      "42414           0.0              0.0           0.0             0.0   \n",
      "80512           0.0              1.0           0.0             0.0   \n",
      "\n",
      "        bomb_planted  \n",
      "33788            1.0  \n",
      "54516            1.0  \n",
      "111133           1.0  \n",
      "42414            1.0  \n",
      "80512            1.0  \n",
      "\n",
      "[5 rows x 24 columns]\n",
      "1.0\n",
      "1.0\n",
      "1.0\n",
      "1.0\n",
      "1.0\n"
     ]
    }
   ],
   "source": [
    "classif_tree = ClassificationTree.ClassificationTree(3)\n",
    "classif_tree.fit(pd.concat([X_train1_classif, y_train1_classif], axis=1))\n",
    "y_classif_pred = classif_tree.predict(X_test1_classif)"
   ]
  },
  {
   "cell_type": "code",
   "execution_count": 55,
   "id": "436c4fd7",
   "metadata": {
    "scrolled": true
   },
   "outputs": [
    {
     "name": "stdout",
     "output_type": "stream",
     "text": [
      "              precision    recall  f1-score   support\n",
      "\n",
      "           0       1.00      0.89      0.94        18\n",
      "           1       0.50      1.00      0.67         2\n",
      "\n",
      "    accuracy                           0.90        20\n",
      "   macro avg       0.75      0.94      0.80        20\n",
      "weighted avg       0.95      0.90      0.91        20\n",
      "\n"
     ]
    }
   ],
   "source": [
    "from sklearn.metrics import classification_report\n",
    "print(classification_report(y_test1_classif, y_classif_pred))\n"
   ]
  },
  {
   "cell_type": "code",
   "execution_count": 24,
   "id": "1d2d7fc7",
   "metadata": {
    "collapsed": true
   },
   "outputs": [
    {
     "name": "stdout",
     "output_type": "stream",
     "text": [
      "        Unnamed: 0  vendor_id  pickup_datetime  passenger_count  \\\n",
      "466740    466740.0        1.0     1.467196e+18              1.0   \n",
      "\n",
      "        pickup_longitude  pickup_latitude  dropoff_longitude  \\\n",
      "466740        -73.981689        40.762337         -73.783882   \n",
      "\n",
      "        dropoff_latitude  trip_duration  \n",
      "466740         40.643848         2603.0  \n",
      "       Unnamed: 0  vendor_id  pickup_datetime  passenger_count  \\\n",
      "71335     71335.0        2.0     1.457353e+18              2.0   \n",
      "\n",
      "       pickup_longitude  pickup_latitude  dropoff_longitude  dropoff_latitude  \\\n",
      "71335        -73.960381        40.779823         -73.790314         40.646809   \n",
      "\n",
      "       trip_duration  \n",
      "71335         2702.0  \n",
      "        Unnamed: 0  vendor_id  pickup_datetime  passenger_count  \\\n",
      "182156    182156.0        2.0     1.461855e+18              2.0   \n",
      "\n",
      "        pickup_longitude  pickup_latitude  dropoff_longitude  \\\n",
      "182156        -73.974968        40.759079          -74.01252   \n",
      "\n",
      "        dropoff_latitude  trip_duration  \n",
      "182156          40.71402         1949.0  \n"
     ]
    }
   ],
   "source": [
    "regress_tree = RegressionTree.RegressionTree(3)\n",
    "regress_tree.fit(pd.concat([X_train1_regress, y_train1_regress], axis=1))\n",
    "y_regress_pred = regress_tree.predict(X_test1_regress)"
   ]
  },
  {
   "cell_type": "code",
   "execution_count": 26,
   "id": "f54b95fc",
   "metadata": {},
   "outputs": [
    {
     "name": "stdout",
     "output_type": "stream",
     "text": [
      "MAE: 666.2255485893417\n",
      "MSE: 1365794.5410359679\n",
      "RMSE: 1168.6721272606649\n",
      "MAPE: 1.1324388094564566\n"
     ]
    }
   ],
   "source": [
    "from sklearn.metrics import mean_squared_error, mean_absolute_error, mean_absolute_percentage_error\n",
    "from math import sqrt\n",
    "print(f'MAE: {mean_absolute_error(y_test1_regress, y_regress_pred)}')\n",
    "print(f'MSE: {mean_squared_error(y_test1_regress, y_regress_pred)}')\n",
    "print(f'RMSE: {sqrt(mean_squared_error(y_test1_regress, y_regress_pred))}')\n",
    "print(f'MAPE: {sqrt(mean_absolute_percentage_error(y_test1_regress, y_regress_pred))}')"
   ]
  },
  {
   "cell_type": "code",
   "execution_count": null,
   "id": "40be4cfd",
   "metadata": {},
   "outputs": [],
   "source": []
  }
 ],
 "metadata": {
  "kernelspec": {
   "display_name": "Python 3 (ipykernel)",
   "language": "python",
   "name": "python3"
  },
  "language_info": {
   "codemirror_mode": {
    "name": "ipython",
    "version": 3
   },
   "file_extension": ".py",
   "mimetype": "text/x-python",
   "name": "python",
   "nbconvert_exporter": "python",
   "pygments_lexer": "ipython3",
   "version": "3.9.13"
  },
  "vscode": {
   "interpreter": {
    "hash": "29b6b9d5fccd7726592e8e06914c2a91c055328ad0c840719d11cad2308326bc"
   }
  }
 },
 "nbformat": 4,
 "nbformat_minor": 5
}
