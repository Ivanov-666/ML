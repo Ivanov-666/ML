{
 "cells": [
  {
   "cell_type": "code",
   "execution_count": 1,
   "id": "70ee65cd",
   "metadata": {},
   "outputs": [],
   "source": [
    "import numpy as np\n",
    "import pandas as pd\n",
    "import math"
   ]
  },
  {
   "cell_type": "code",
   "execution_count": 22,
   "id": "bbdd8729",
   "metadata": {},
   "outputs": [],
   "source": [
    "def dist(x, y, p):\n",
    "        distance = 0\n",
    "        for i in range(x.shape[0]):\n",
    "            distance+=np.abs(x[i]-y[i])**p\n",
    "        return distance**(1/p)\n",
    "class kNN:\n",
    "    def __init__(self, k, p, classes):\n",
    "        self.k = k\n",
    "        self.p = p\n",
    "        self.classes = classes\n",
    "    def fit(self,X_train, y_train):\n",
    "        self.X_train = X_train\n",
    "        self.y_train = y_train\n",
    "       \n",
    "    def predict(self,X_test):\n",
    "        labels = []\n",
    "        for vector in X_test:\n",
    "            distance = [[self.y_train[i],dist(vector, self.X_train[i], self.p)]for i in range(self.X_train.shape[0])]\n",
    "            distance = sorted(distance,key = lambda x: x[1])\n",
    "            classes_around = np.zeros(self.classes)\n",
    "            for i in range(self.k):\n",
    "                classes_around[int(distance[i][0])]+=1\n",
    "            labels.append(sorted(zip(classes_around, range(self.classes)), key=lambda x:x[0], reverse=True)[0][1])\n",
    "        return labels"
   ]
  },
  {
   "cell_type": "code",
   "execution_count": 41,
   "id": "a413ef48",
   "metadata": {},
   "outputs": [
    {
     "name": "stdout",
     "output_type": "stream",
     "text": [
      "0    108537\n",
      "1     13662\n",
      "Name: bomb_planted, dtype: int64\n"
     ]
    }
   ],
   "source": [
    "df = pd.read_csv('../datasets/csgo_task_pred.csv')\n",
    "print(df[\"bomb_planted\"].value_counts())\n",
    "bomb_planted = df[df[\"bomb_planted\"] == 1]\n",
    "bomb_not_planted  = df[df[\"bomb_planted\"] == 0]\n",
    "from sklearn.utils import resample\n",
    "bomb_not_planted = resample(bomb_not_planted,\n",
    "             replace=True,\n",
    "             n_samples=len(bomb_planted),\n",
    "             random_state=42)\n",
    "bomb_not_planted.shape\n",
    "df1 = pd.concat([bomb_not_planted, bomb_planted])\n",
    "df1 = df1.sample(n=1000)\n",
    "y = df1[\"bomb_planted\"]\n",
    "X = df1.drop([\"bomb_planted\"], axis=1)"
   ]
  },
  {
   "cell_type": "code",
   "execution_count": 42,
   "id": "0cf5b2cb",
   "metadata": {},
   "outputs": [],
   "source": [
    "from sklearn.model_selection import train_test_split\n",
    "\n",
    "X_train, X_test, y_train, y_test = train_test_split(X, y, test_size=0.2, random_state=42)"
   ]
  },
  {
   "cell_type": "code",
   "execution_count": 43,
   "id": "818d417c",
   "metadata": {},
   "outputs": [],
   "source": [
    "from sklearn.preprocessing import MinMaxScaler\n",
    "min_max_scaler = MinMaxScaler()\n",
    "X_train_minmax = pd.DataFrame(min_max_scaler.fit_transform(X_train))\n",
    "X_test_minmax = pd.DataFrame(min_max_scaler.fit_transform(X_test))"
   ]
  },
  {
   "cell_type": "code",
   "execution_count": 44,
   "id": "a1055dcd",
   "metadata": {},
   "outputs": [
    {
     "name": "stdout",
     "output_type": "stream",
     "text": [
      "              precision    recall  f1-score   support\n",
      "\n",
      "           0       0.98      0.80      0.88       113\n",
      "           1       0.79      0.98      0.87        87\n",
      "\n",
      "    accuracy                           0.88       200\n",
      "   macro avg       0.88      0.89      0.87       200\n",
      "weighted avg       0.90      0.88      0.88       200\n",
      "\n"
     ]
    }
   ],
   "source": [
    "model = kNN(5,1,2)\n",
    "X_train_minmax = np.array(X_train_minmax, dtype=np.float64)\n",
    "X_test_minmax = np.array(X_test_minmax, dtype=np.float64)\n",
    "y_train= np.array(y_train, dtype=np.float64)\n",
    "len(X_train_minmax)\n",
    "model.fit(X_train_minmax, y_train)\n",
    "y_pred3 = model.predict(X_test_minmax)\n",
    "print(classification_report(y_test, y_pred3))"
   ]
  },
  {
   "cell_type": "code",
   "execution_count": 11,
   "id": "7e8c1326",
   "metadata": {},
   "outputs": [
    {
     "name": "stdout",
     "output_type": "stream",
     "text": [
      "[0 1 1 0 1 0 0 0 1 0 1 0 1 0 0 1 1 1 0 0 0 0 1 0 1 0 1 1 1 0 0 1 1]\n"
     ]
    }
   ],
   "source": [
    "print(y_test)"
   ]
  },
  {
   "cell_type": "code",
   "execution_count": 66,
   "id": "022d001e",
   "metadata": {},
   "outputs": [],
   "source": [
    "def confusion_matrix(y, y_pred):\n",
    "  clas = len(np.unique(y))\n",
    "  conf_matrix = np.zeros((clas, clas))\n",
    "  for i in range(len(y)):\n",
    "    conf_matrix[y.iloc[i]][y_pred[i]] += 1\n",
    "  return conf_matrix"
   ]
  },
  {
   "cell_type": "code",
   "execution_count": 54,
   "id": "6ccdb7ff",
   "metadata": {},
   "outputs": [],
   "source": [
    "def acurracy(y, y_pred):\n",
    "    m = confusion_matrix(y, y_pred)\n",
    "    return (m[0][0]+m[1][1])/len(y)"
   ]
  },
  {
   "cell_type": "code",
   "execution_count": 55,
   "id": "ca1729e0",
   "metadata": {},
   "outputs": [],
   "source": [
    "def precision(y, y_pred):\n",
    "    m = confusion_matrix(y, y_pred)\n",
    "    return m[1][1]/(m[1][1]+m[0][1])"
   ]
  },
  {
   "cell_type": "code",
   "execution_count": 56,
   "id": "02b9fe42",
   "metadata": {},
   "outputs": [],
   "source": [
    "def recall(y, y_pred):\n",
    "    m = confusion_matrix(y, y_pred)\n",
    "    return m[1][1]/(m[1][1]+m[1][0])"
   ]
  },
  {
   "cell_type": "code",
   "execution_count": 57,
   "id": "36fa3958",
   "metadata": {},
   "outputs": [],
   "source": [
    "def f1(y, y_pred):\n",
    "    return 2/((1/precision(y, y_pred))+(1/recall(y, y_pred)))"
   ]
  },
  {
   "cell_type": "code",
   "execution_count": 68,
   "id": "c1b6ec31",
   "metadata": {},
   "outputs": [
    {
     "name": "stdout",
     "output_type": "stream",
     "text": [
      "              precision    recall  f1-score   support\n",
      "\n",
      "           0       0.98      0.80      0.88       113\n",
      "           1       0.79      0.98      0.87        87\n",
      "\n",
      "    accuracy                           0.88       200\n",
      "   macro avg       0.88      0.89      0.87       200\n",
      "weighted avg       0.90      0.88      0.88       200\n",
      "\n"
     ]
    }
   ],
   "source": [
    "from sklearn.metrics import classification_report\n",
    "print(classification_report(y_test, y_pred3))"
   ]
  },
  {
   "cell_type": "code",
   "execution_count": 69,
   "id": "9ae9146a",
   "metadata": {},
   "outputs": [
    {
     "data": {
      "text/plain": [
       "0"
      ]
     },
     "execution_count": 69,
     "metadata": {},
     "output_type": "execute_result"
    }
   ],
   "source": [
    "y_test.iloc[0]"
   ]
  },
  {
   "cell_type": "code",
   "execution_count": 70,
   "id": "21547a43",
   "metadata": {},
   "outputs": [
    {
     "name": "stdout",
     "output_type": "stream",
     "text": [
      "0.875\n",
      "0.7870370370370371\n",
      "0.9770114942528736\n",
      "0.8717948717948718\n"
     ]
    }
   ],
   "source": [
    "print(acurracy(y_test, y_pred3))\n",
    "print(precision(y_test, y_pred3))\n",
    "print(recall(y_test, y_pred3))\n",
    "print(f1(y_test, y_pred3))"
   ]
  },
  {
   "cell_type": "code",
   "execution_count": null,
   "id": "6f13d705",
   "metadata": {},
   "outputs": [],
   "source": []
  }
 ],
 "metadata": {
  "kernelspec": {
   "display_name": "Python 3.9.13 64-bit",
   "language": "python",
   "name": "python3"
  },
  "language_info": {
   "codemirror_mode": {
    "name": "ipython",
    "version": 3
   },
   "file_extension": ".py",
   "mimetype": "text/x-python",
   "name": "python",
   "nbconvert_exporter": "python",
   "pygments_lexer": "ipython3",
   "version": "3.9.13"
  },
  "vscode": {
   "interpreter": {
    "hash": "91630307a7e4b9abf9edb3efd4e17a2c340bf58dec0f52b0c507668a47432d3b"
   }
  }
 },
 "nbformat": 4,
 "nbformat_minor": 5
}
